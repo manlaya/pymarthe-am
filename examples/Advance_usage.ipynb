{
 "cells": [
  {
   "attachments": {},
   "cell_type": "markdown",
   "id": "b29668d9",
   "metadata": {},
   "source": [
    "\n",
    "<div style=\"background-image: https://www.brgm.fr/sites/default/files/styles/page_top_banner/public/images_banner/2022-07/banniere-0334.jpg.webp; background-position: 0% 5%; padding: 10px; display: flex;\">\n",
    "    <div style=\"display: flex; align-items: left;\">\n",
    "        <img width=\"180\" height=\"150\" src=\"../assets/logo_pymarthe.png\" alt=\"logo_pymarthe\">\n",
    "        <div style=\"text-align: center; align-items: center; padding-left: 40px; padding-top:40px;\">\n",
    "            <p style=\"color: black; font-size: 60px;\"><b>Advance Usage Guide 🤵</b></p>\n",
    "            <p style=\"color: #2b2b2b; font-size: 22px; padding-top:10px\"><i>Get ready for model parameter optimisation</i></p>\n",
    "            <p style=\"color: white; font-size: 18px; text-align: right; padding-top: 50px;\">\n",
    "                <i><b>Novice</b></i>❌ - <i><b>Intermediate</b></i>✅ - <i><b>Expert</b></i>✅\n",
    "            </p>\n",
    "        </div>\n",
    "    </div>\n",
    "</div>"
   ]
  },
  {
   "cell_type": "markdown",
   "id": "22dfd039",
   "metadata": {},
   "source": [
    "<br>\n",
    "\n",
    "`PyMarthe` is a python wrapper acting as a _\"coupling interface\"_ between [**MARTHE (v7.5)**](https://www.brgm.fr/fr/logiciel/marthe-logiciel-modelisation-ecoulements-souterrains) hydrogeological numerical models design by the **BRGM** and optimization algorithms provided by the [**PEST++**](https://github.com/usgs/pestpp) facilities.\n",
    "\n",
    "<p align=\"center\">\n",
    "  <img \n",
    "  src=\"../assets/PyMarthe_v1.0_general.png\"\n",
    "  alt=\"PyMarthe v1.0\" \n",
    "  width=\"650\"\n",
    "  height=\"415\"\n",
    "  >\n",
    "</p>\n",
    "\n",
    "📢 The `PyMarthe` library provides to the user the ability to manage **observations data**, **parametrize _grid-like_ / _list-like_ model properties** and convert them to `PEST` formatted files in order to carry out **calibration**, **optimisation** and **sensitivity** & **uncertainty** analysis processes on a **Marthe** model.<br>\n",
    "\n",
    "In this initiation, we will manipulate exclusivly the **MONA** _(**MO**dèle **N**ord **A**quatain)_ model (_`examples/monav3/`_).<br>\n",
    "\n",
    "To begin with, let's set the notebook environement."
   ]
  },
  {
   "cell_type": "code",
   "execution_count": 1,
   "id": "71e922f5",
   "metadata": {},
   "outputs": [
    {
     "name": "stdout",
     "output_type": "stream",
     "text": [
      "\u001b[90m________________________________________________\u001b[35m      \n",
      "  ____        __  __            _   _          \n",
      " |  _ \\ _   _|  \\/  | __ _ _ __| |_| |__   ___ \n",
      " | |_) | | | | |\\/| |/ _` | '__| __| '_ \\ / _ \\\n",
      " |  __/| |_| | |  | | (_| | |  | |_| | | |  __/\n",
      " |_|    \\__, |_|  |_|\\__,_|_|   \\__|_| |_|\\___|\n",
      "        |___/                                                                             \n",
      "\u001b[90m________________________________________________\u001b[0;0m\n"
     ]
    }
   ],
   "source": [
    "# ---- Import basic modules\n",
    "import os, sys\n",
    "from glob import glob\n",
    "import shutil\n",
    "import pandas as pd\n",
    "import numpy as np\n",
    "\n",
    "# -- Import visualisation modules\n",
    "import matplotlib as mpl\n",
    "import matplotlib.pyplot as plt\n",
    "from matplotlib.colors import ListedColormap\n",
    "%matplotlib inline\n",
    "\n",
    "# -- Set relative pymarthe path\n",
    "sys.path.insert(0, '..')\n",
    "\n",
    "# -- Import pymarthe modules\n",
    "from pymarthe import MartheModel\n",
    "from pymarthe.utils import marthe_utils, shp_utils, pest_utils\n",
    "from pymarthe.utils.pp_utils import PilotPoints\n",
    "from pymarthe.mfield import MartheField\n",
    "from pymarthe.moptim import MartheOptim\n",
    "\n",
    "# ---- Set model's relative paths\n",
    "mona_ws = os.path.join( 'monav3', 'mona.rma')\n",
    "mona_si = os.path.join('monav3', 'mona_si')\n",
    "\n",
    "# -- Set MARTHE model executable name\n",
    "EXE_NAME = 'Marth_R8' # Make sure to put yours!\n",
    "\n",
    "# -- Create a brand new 'pest' folder to work with\n",
    "wdir = os.path.join('monav3', 'pest')\n",
    "shutil.rmtree(wdir, ignore_errors=True)"
   ]
  },
  {
   "cell_type": "markdown",
   "id": "3a95b7e5",
   "metadata": {},
   "source": [
    "# 🎇 **`MartheOptim` instance** 🎇"
   ]
  },
  {
   "cell_type": "markdown",
   "id": "f49f1350",
   "metadata": {},
   "source": [
    "The `MartheOptim` instance was implemented to manage both **observation** and **parameter** data of a parent `MartheModel` object in order to link **Marthe** model runs with some **PEST** utilities to **estimate**, **calibrate** and **optimise** models. To sum up, it's a python `wrapper` between **Marthe** and **PEST**.<br>\n",
    "\n",
    "`MartheOptim` is based around **hypothetical _\"boxes\"_** represented by basic python dictionaries:<br>\n",
    "&emsp;&emsp;➼ `.obs`: observation storage<br>\n",
    "&emsp;&emsp;➼ `.param`: parameter storage<br>\n",
    "\n",
    "The entire goal of the parametrization process consists on filling those **_\"boxes\"_** with model data (_properties_, _observation records_) using internal methods / tools provided by `MartheOptim` object.<br>\n",
    "\n",
    "<p align=\"center\">\n",
    "  <img \n",
    "  src=\"../assets/MartheOptim_concept.png\"\n",
    "  alt=\"MartheOptim_concept\" \n",
    "  >\n",
    "</p>\n",
    "\n",
    "Let's start slowly and load the `MartheModel` object then organize the **pest directories**."
   ]
  },
  {
   "cell_type": "code",
   "execution_count": 2,
   "id": "81ead55e",
   "metadata": {},
   "outputs": [],
   "source": [
    "# -- Load MartheModel object\n",
    "mm = MartheModel(mona_ws, spatial_index=mona_si, modelgrid=True)\n",
    "\n",
    "# -- Setup PEST directories\n",
    "pest_dirs = {}\n",
    "for folder in ['par', 'tpl', 'ins', 'sim']:\n",
    "    # -- Build path\n",
    "    path = os.path.join(mm.mldir, 'pest' , folder)\n",
    "    # -- Build clean pest folder\n",
    "    os.makedirs(path, exist_ok=True)\n",
    "    # -- Store pest directories\n",
    "    pest_dirs[f'{folder}_dir'] = path"
   ]
  },
  {
   "cell_type": "markdown",
   "id": "930e3e82",
   "metadata": {},
   "source": [
    "Next, let's create a `MartheOptim` object for our experiment."
   ]
  },
  {
   "cell_type": "code",
   "execution_count": 55,
   "id": "db4b245a",
   "metadata": {},
   "outputs": [
    {
     "name": "stdout",
     "output_type": "stream",
     "text": [
      "\t MartheOptim \n",
      " ------------------------------\n",
      "Optimization experiment name: opti_mona\n",
      "PEST file directories:\n",
      "\t- monav3\\pest\\par\n",
      "\t- monav3\\pest\\tpl\n",
      "\t- monav3\\pest\\ins\n",
      "\t- monav3\\pest\\sim\n",
      "Time window: 1972-12-31 00:00:00 ==> 2011-12-31 00:00:00\n",
      "Observation(s) storage: {} (empty)\n",
      "Parameter(s) storage: {} (empty)\n"
     ]
    }
   ],
   "source": [
    "# -- Build MartheOptim object\n",
    "mopt = MartheOptim(mm, name='opti_mona', **pest_dirs)\n",
    "\n",
    "# -- Print basic infos\n",
    "print('\\t', mopt, '\\n', '-'*30)\n",
    "print('Optimization experiment name:', mopt.name)\n",
    "print('PEST file directories:\\n\\t-', '\\n\\t- '.join([mopt.par_dir, mopt.tpl_dir, mopt.ins_dir, mopt.sim_dir]))\n",
    "print('Time window:', mopt.tw_min, '==>', mopt.tw_max)\n",
    "print('Observation(s) storage:', mopt.obs, '(empty)')\n",
    "print('Parameter(s) storage:', mopt.param, '(empty)')"
   ]
  },
  {
   "cell_type": "markdown",
   "id": "9441c143",
   "metadata": {},
   "source": [
    "<div class=\"alert alert-info\" role=\"alert\">\n",
    "    <span style=\"color: blue; font-size: 16px; font-weight: bold;\">✔ NOTE: </span>\n",
    "    <span style=\"color: darkblue;\"> the user can easily perform <b>various parametrization experiments</b> by creating a new <code>MartheOptim</code> instance giving it a specific <code>name</code> (<i>ex:</i> <code>name='permh_calibration'</code>)\n",
    "    </span>\n",
    "</div>"
   ]
  },
  {
   "cell_type": "markdown",
   "id": "fc9b6ccc",
   "metadata": {},
   "source": [
    "# 🎇 **Obervations management** 🎇"
   ]
  },
  {
   "cell_type": "markdown",
   "id": "5b4a40fe",
   "metadata": {},
   "source": [
    "## 👉 Add basic observations"
   ]
  },
  {
   "cell_type": "markdown",
   "id": "991a00e2",
   "metadata": {},
   "source": [
    "Observation data are absolutly crucial for **historic matching** optimisation. To add observation data in `MartheOptim`, consider using the `.add_obs()` method. The addition of a set of observation data may come from a:\n",
    "\n",
    "- **External file** (ex: _.txt_ or _.csv_ file)\n",
    "- **`DataFrame`** object\n",
    "\n",
    "When adding a set of observation data, the user must remember to specify a _\"type\"_ of observation (`datatype`) such as _`'head'`_, _`'flow'`_, _`'soil'`_, ...<br>\n",
    "\n",
    "A custom name can be given to a specific set of observation (_ex:_ `locname='07065X0002'`)."
   ]
  },
  {
   "cell_type": "markdown",
   "id": "9855ff08",
   "metadata": {},
   "source": [
    "<div class=\"alert alert-danger\" role=\"alert\">\n",
    "    <span style=\"color: red; font-size: 16px; font-weight: bold;\">⛔ CAREFUL: </span>\n",
    "    <span style=\"color: darkred;\"> the provided observation data <b>must contain</b> a column named <code>value</code> and an index of type <b>DatetimeIndex</b>. For external files, make sure that columns are separated by <b>any white space</b> (<i>tabulation is prefered</i>).\n",
    "    </span>\n",
    "</div>"
   ]
  },
  {
   "cell_type": "code",
   "execution_count": 4,
   "id": "3c80ee35",
   "metadata": {},
   "outputs": [
    {
     "name": "stdout",
     "output_type": "stream",
     "text": [
      "Observation storage:\n"
     ]
    },
    {
     "data": {
      "text/plain": [
       "{'07065X0002': <pymarthe.mobs.MartheObs at 0x199f10477c0>}"
      ]
     },
     "execution_count": 4,
     "metadata": {},
     "output_type": "execute_result"
    }
   ],
   "source": [
    "# -- Implement basic observation data (external)\n",
    "ext_file = os.path.join(mm.mldir, 'obs', '07065X0002.dat')\n",
    "mopt.add_obs(data=ext_file, datatype='head') # same as locname='07065X0002'\n",
    "\n",
    "# -- Check observation storage\n",
    "print('Observation storage:')\n",
    "mopt.obs"
   ]
  },
  {
   "cell_type": "markdown",
   "id": "0ed4f2e9",
   "metadata": {},
   "source": [
    "<div class=\"alert alert-info\" role=\"alert\">\n",
    "    <span style=\"color: blue; font-size: 16px; font-weight: bold;\">✔ NOTE: </span>\n",
    "    <span style=\"color: darkblue;\"> for external data files, setting <code>locname=None</code> will automatically take the external file name as actual <code>locname</code>.\n",
    "    </span>\n",
    "</div>"
   ]
  },
  {
   "cell_type": "markdown",
   "id": "af612ace",
   "metadata": {},
   "source": [
    "`MartheOptim` provides an additional _easy-to-use_ check about observation `locname`. In fact, in order to perform optimisation by **historic matching**, it is highly recommended, not to say essential, to **check** that the observation we want to add is both **present** and **unique** in the _.histo_ file so that the **Marthe** model will therefore write the output data of this located point in the _historiq.prn_ file.<br>\n",
    "\n",
    "To check unicity and existence of a specific `locname`, consider using the internal `.check_loc()` method. When an observation set i being added, the `locname` is checked by default. To disable it, use `check_loc=False`."
   ]
  },
  {
   "cell_type": "code",
   "execution_count": 5,
   "id": "39065ef4",
   "metadata": {},
   "outputs": [],
   "source": [
    "# -- Check invalid locname\n",
    "# mopt.check_loc('P42')"
   ]
  },
  {
   "cell_type": "code",
   "execution_count": 6,
   "id": "6575e307",
   "metadata": {},
   "outputs": [],
   "source": [
    "# -- Check valid locname\n",
    "mopt.check_loc('07065X0002')"
   ]
  },
  {
   "cell_type": "markdown",
   "id": "42080af9",
   "metadata": {},
   "source": [
    "<div class=\"alert alert-info\" role=\"alert\">\n",
    "    <span style=\"color: blue; font-size: 16px; font-weight: bold;\">✔ NOTE: </span>\n",
    "    <span style=\"color: darkblue;\"> the user can view all available <code>locname</code> if required using <code>.available_locnames</code>.\n",
    "    </span>\n",
    "</div>"
   ]
  },
  {
   "cell_type": "code",
   "execution_count": 7,
   "id": "44d7f6fd",
   "metadata": {},
   "outputs": [
    {
     "name": "stdout",
     "output_type": "stream",
     "text": [
      "Observation storage:\n"
     ]
    },
    {
     "name": "stderr",
     "output_type": "stream",
     "text": [
      "C:\\Users\\pierr\\OneDrive\\Documents\\dev\\adeqwat\\examples\\..\\pymarthe\\moptim.py:355: Warning: WARNING : locnme `07065X0002` already added. It will be overwrited.\n"
     ]
    },
    {
     "data": {
      "text/plain": [
       "{'07065X0002': <pymarthe.mobs.MartheObs at 0x199f10477c0>}"
      ]
     },
     "execution_count": 7,
     "metadata": {},
     "output_type": "execute_result"
    }
   ],
   "source": [
    "# -- Add previous observation without checking locname\n",
    "mopt.add_obs(data=ext_file, datatype='head', check_loc=False)\n",
    "\n",
    "# -- Check observation storage\n",
    "print('Observation storage:')\n",
    "mopt.obs"
   ]
  },
  {
   "cell_type": "markdown",
   "id": "8a8a68b1",
   "metadata": {},
   "source": [
    "<div class=\"alert alert-warning\" role=\"alert\">\n",
    "    <span style=\"color: darkorange; font-size: 16px; font-weight: bold;\">⚠ Warning: </span>\n",
    "    <span style=\"color: darkorange;\"> if the user provides observation records <b>beyond the model time window</b>, a <b>warnings will be raised</b> and only observations that fall in the actual model time window will be considered.</span>\n",
    "</div>"
   ]
  },
  {
   "cell_type": "markdown",
   "id": "4a4b5f97",
   "metadata": {},
   "source": [
    "For each added set of observation, a specific `MartheObs` instance is created. To have a look on all added observations, consider using the `.get_obs_df()` to convert `MartheObs` instances to a large comprehensive `DataFrame` object."
   ]
  },
  {
   "cell_type": "code",
   "execution_count": 8,
   "id": "c35fbc19",
   "metadata": {},
   "outputs": [
    {
     "name": "stdout",
     "output_type": "stream",
     "text": [
      "\t MartheObs \n",
      " ------------------------------\n",
      "Observation source file: monav3\\obs\\07065X0002.dat\n",
      "Observation iloc: 0\n",
      "Observation datatype: head\n",
      "Observation locname: 07065X0002\n",
      "Observation group name: 07065X0002\n",
      "Observations values:\n",
      " [-9.999e+03 -9.999e+03 -9.999e+03 -9.999e+03 -9.999e+03 -9.999e+03\n",
      " -9.999e+03 -9.999e+03 -9.999e+03 -9.999e+03 -9.999e+03 -9.999e+03\n",
      "  1.140e+00 -9.999e+03 -9.999e+03 -9.999e+03 -9.999e+03 -9.999e+03\n",
      " -9.999e+03 -9.999e+03 -9.999e+03 -9.999e+03 -9.999e+03 -9.999e+03\n",
      "  1.290e+01 -9.999e+03  1.335e+01  1.440e+01  1.732e+01  1.620e+01\n",
      "  1.640e+01 -9.999e+03  1.680e+01  1.810e+01  1.611e+01  1.983e+01\n",
      "  1.646e+01  1.613e+01  1.629e+01  1.621e+01]\n"
     ]
    }
   ],
   "source": [
    "# -- Print MartheObs infos\n",
    "mobs = mopt.obs['07065X0002']\n",
    "print('\\t', mobs, '\\n', '-'*30)\n",
    "print('Observation source file:', mobs.obsfile)\n",
    "print('Observation iloc:', mobs.iloc) # i-th observation set added\n",
    "print('Observation datatype:', mobs.datatype)\n",
    "print('Observation locname:', mobs.locnme)\n",
    "print('Observation group name:', mobs.obgnme)\n",
    "print('Observations values:\\n', mobs.value)"
   ]
  },
  {
   "cell_type": "code",
   "execution_count": 9,
   "id": "aff6077e",
   "metadata": {},
   "outputs": [
    {
     "data": {
      "text/html": [
       "<div>\n",
       "<style scoped>\n",
       "    .dataframe tbody tr th:only-of-type {\n",
       "        vertical-align: middle;\n",
       "    }\n",
       "\n",
       "    .dataframe tbody tr th {\n",
       "        vertical-align: top;\n",
       "    }\n",
       "\n",
       "    .dataframe thead th {\n",
       "        text-align: right;\n",
       "    }\n",
       "</style>\n",
       "<table border=\"1\" class=\"dataframe\">\n",
       "  <thead>\n",
       "    <tr style=\"text-align: right;\">\n",
       "      <th></th>\n",
       "      <th>obsnme</th>\n",
       "      <th>date</th>\n",
       "      <th>obsval</th>\n",
       "      <th>datatype</th>\n",
       "      <th>locnme</th>\n",
       "      <th>obsfile</th>\n",
       "      <th>weight</th>\n",
       "      <th>obgnme</th>\n",
       "      <th>trans</th>\n",
       "    </tr>\n",
       "  </thead>\n",
       "  <tbody>\n",
       "    <tr>\n",
       "      <th>loc000n00</th>\n",
       "      <td>loc000n00</td>\n",
       "      <td>1972-12-31 00:00:00</td>\n",
       "      <td>-9999.0</td>\n",
       "      <td>head</td>\n",
       "      <td>07065X0002</td>\n",
       "      <td>monav3\\obs\\07065X0002.dat</td>\n",
       "      <td>1</td>\n",
       "      <td>07065X0002</td>\n",
       "      <td>none</td>\n",
       "    </tr>\n",
       "    <tr>\n",
       "      <th>loc000n01</th>\n",
       "      <td>loc000n01</td>\n",
       "      <td>1973-12-31 00:00:00</td>\n",
       "      <td>-9999.0</td>\n",
       "      <td>head</td>\n",
       "      <td>07065X0002</td>\n",
       "      <td>monav3\\obs\\07065X0002.dat</td>\n",
       "      <td>1</td>\n",
       "      <td>07065X0002</td>\n",
       "      <td>none</td>\n",
       "    </tr>\n",
       "    <tr>\n",
       "      <th>loc000n02</th>\n",
       "      <td>loc000n02</td>\n",
       "      <td>1974-12-31 00:00:00</td>\n",
       "      <td>-9999.0</td>\n",
       "      <td>head</td>\n",
       "      <td>07065X0002</td>\n",
       "      <td>monav3\\obs\\07065X0002.dat</td>\n",
       "      <td>1</td>\n",
       "      <td>07065X0002</td>\n",
       "      <td>none</td>\n",
       "    </tr>\n",
       "    <tr>\n",
       "      <th>loc000n03</th>\n",
       "      <td>loc000n03</td>\n",
       "      <td>1975-12-31 00:00:00</td>\n",
       "      <td>-9999.0</td>\n",
       "      <td>head</td>\n",
       "      <td>07065X0002</td>\n",
       "      <td>monav3\\obs\\07065X0002.dat</td>\n",
       "      <td>1</td>\n",
       "      <td>07065X0002</td>\n",
       "      <td>none</td>\n",
       "    </tr>\n",
       "    <tr>\n",
       "      <th>loc000n04</th>\n",
       "      <td>loc000n04</td>\n",
       "      <td>1976-12-31 00:00:00</td>\n",
       "      <td>-9999.0</td>\n",
       "      <td>head</td>\n",
       "      <td>07065X0002</td>\n",
       "      <td>monav3\\obs\\07065X0002.dat</td>\n",
       "      <td>1</td>\n",
       "      <td>07065X0002</td>\n",
       "      <td>none</td>\n",
       "    </tr>\n",
       "  </tbody>\n",
       "</table>\n",
       "</div>"
      ],
      "text/plain": [
       "              obsnme                 date  obsval datatype      locnme   \n",
       "loc000n00  loc000n00  1972-12-31 00:00:00 -9999.0     head  07065X0002  \\\n",
       "loc000n01  loc000n01  1973-12-31 00:00:00 -9999.0     head  07065X0002   \n",
       "loc000n02  loc000n02  1974-12-31 00:00:00 -9999.0     head  07065X0002   \n",
       "loc000n03  loc000n03  1975-12-31 00:00:00 -9999.0     head  07065X0002   \n",
       "loc000n04  loc000n04  1976-12-31 00:00:00 -9999.0     head  07065X0002   \n",
       "\n",
       "                             obsfile weight      obgnme trans  \n",
       "loc000n00  monav3\\obs\\07065X0002.dat      1  07065X0002  none  \n",
       "loc000n01  monav3\\obs\\07065X0002.dat      1  07065X0002  none  \n",
       "loc000n02  monav3\\obs\\07065X0002.dat      1  07065X0002  none  \n",
       "loc000n03  monav3\\obs\\07065X0002.dat      1  07065X0002  none  \n",
       "loc000n04  monav3\\obs\\07065X0002.dat      1  07065X0002  none  "
      ]
     },
     "execution_count": 9,
     "metadata": {},
     "output_type": "execute_result"
    }
   ],
   "source": [
    "# -- Get all observation data as DataFrame\n",
    "obs_df = mopt.get_obs_df()\n",
    "\n",
    "# -- Print added observation data\n",
    "obs_df.head()"
   ]
  },
  {
   "cell_type": "markdown",
   "id": "5fc60619",
   "metadata": {},
   "source": [
    "Even if the user can specify **custom names** for each values (`obsnme`) of an observation set, it is **strongly recommended** to let `MartheOptim` build **generic observations names** easily readable by **PEST** algorithms.<br>\n",
    "These observation names are build following the following format:\n",
    "\n",
    "<p style=\"text-weight: bold; text-align: center; font-size: 19px; color: #6B8E23; background-color: #F5F5F5; padding: 5px\">\n",
    "    <b>loc&nbsp;&nbsp;➕&nbsp;&nbsp;&#60;<i>i-th</i> observation location &#62;&nbsp;&nbsp;➕&nbsp;&nbsp;n&nbsp;&nbsp;➕&nbsp;&nbsp;&#60;<i>i-th</i> observation id&#62;\n",
    "    </b>\n",
    "</p>\n",
    "<br> "
   ]
  },
  {
   "cell_type": "code",
   "execution_count": 10,
   "id": "09d703ce",
   "metadata": {},
   "outputs": [
    {
     "name": "stderr",
     "output_type": "stream",
     "text": [
      "C:\\Users\\pierr\\OneDrive\\Documents\\dev\\adeqwat\\examples\\..\\pymarthe\\moptim.py:355: Warning: WARNING : locnme `07065X0002` already added. It will be overwrited.\n"
     ]
    },
    {
     "data": {
      "text/html": [
       "<div>\n",
       "<style scoped>\n",
       "    .dataframe tbody tr th:only-of-type {\n",
       "        vertical-align: middle;\n",
       "    }\n",
       "\n",
       "    .dataframe tbody tr th {\n",
       "        vertical-align: top;\n",
       "    }\n",
       "\n",
       "    .dataframe thead th {\n",
       "        text-align: right;\n",
       "    }\n",
       "</style>\n",
       "<table border=\"1\" class=\"dataframe\">\n",
       "  <thead>\n",
       "    <tr style=\"text-align: right;\">\n",
       "      <th></th>\n",
       "      <th>obsnme</th>\n",
       "      <th>date</th>\n",
       "      <th>obsval</th>\n",
       "      <th>datatype</th>\n",
       "      <th>locnme</th>\n",
       "      <th>obsfile</th>\n",
       "      <th>weight</th>\n",
       "      <th>obgnme</th>\n",
       "      <th>trans</th>\n",
       "    </tr>\n",
       "  </thead>\n",
       "  <tbody>\n",
       "    <tr>\n",
       "      <th>obs00</th>\n",
       "      <td>obs00</td>\n",
       "      <td>1972-12-31 00:00:00</td>\n",
       "      <td>-9999.0</td>\n",
       "      <td>head</td>\n",
       "      <td>07065X0002</td>\n",
       "      <td>monav3\\obs\\07065X0002.dat</td>\n",
       "      <td>1</td>\n",
       "      <td>07065X0002</td>\n",
       "      <td>none</td>\n",
       "    </tr>\n",
       "    <tr>\n",
       "      <th>obs01</th>\n",
       "      <td>obs01</td>\n",
       "      <td>1973-12-31 00:00:00</td>\n",
       "      <td>-9999.0</td>\n",
       "      <td>head</td>\n",
       "      <td>07065X0002</td>\n",
       "      <td>monav3\\obs\\07065X0002.dat</td>\n",
       "      <td>1</td>\n",
       "      <td>07065X0002</td>\n",
       "      <td>none</td>\n",
       "    </tr>\n",
       "    <tr>\n",
       "      <th>obs02</th>\n",
       "      <td>obs02</td>\n",
       "      <td>1974-12-31 00:00:00</td>\n",
       "      <td>-9999.0</td>\n",
       "      <td>head</td>\n",
       "      <td>07065X0002</td>\n",
       "      <td>monav3\\obs\\07065X0002.dat</td>\n",
       "      <td>1</td>\n",
       "      <td>07065X0002</td>\n",
       "      <td>none</td>\n",
       "    </tr>\n",
       "    <tr>\n",
       "      <th>obs03</th>\n",
       "      <td>obs03</td>\n",
       "      <td>1975-12-31 00:00:00</td>\n",
       "      <td>-9999.0</td>\n",
       "      <td>head</td>\n",
       "      <td>07065X0002</td>\n",
       "      <td>monav3\\obs\\07065X0002.dat</td>\n",
       "      <td>1</td>\n",
       "      <td>07065X0002</td>\n",
       "      <td>none</td>\n",
       "    </tr>\n",
       "    <tr>\n",
       "      <th>obs04</th>\n",
       "      <td>obs04</td>\n",
       "      <td>1976-12-31 00:00:00</td>\n",
       "      <td>-9999.0</td>\n",
       "      <td>head</td>\n",
       "      <td>07065X0002</td>\n",
       "      <td>monav3\\obs\\07065X0002.dat</td>\n",
       "      <td>1</td>\n",
       "      <td>07065X0002</td>\n",
       "      <td>none</td>\n",
       "    </tr>\n",
       "  </tbody>\n",
       "</table>\n",
       "</div>"
      ],
      "text/plain": [
       "      obsnme                 date  obsval datatype      locnme   \n",
       "obs00  obs00  1972-12-31 00:00:00 -9999.0     head  07065X0002  \\\n",
       "obs01  obs01  1973-12-31 00:00:00 -9999.0     head  07065X0002   \n",
       "obs02  obs02  1974-12-31 00:00:00 -9999.0     head  07065X0002   \n",
       "obs03  obs03  1975-12-31 00:00:00 -9999.0     head  07065X0002   \n",
       "obs04  obs04  1976-12-31 00:00:00 -9999.0     head  07065X0002   \n",
       "\n",
       "                         obsfile weight      obgnme trans  \n",
       "obs00  monav3\\obs\\07065X0002.dat      1  07065X0002  none  \n",
       "obs01  monav3\\obs\\07065X0002.dat      1  07065X0002  none  \n",
       "obs02  monav3\\obs\\07065X0002.dat      1  07065X0002  none  \n",
       "obs03  monav3\\obs\\07065X0002.dat      1  07065X0002  none  \n",
       "obs04  monav3\\obs\\07065X0002.dat      1  07065X0002  none  "
      ]
     },
     "execution_count": 10,
     "metadata": {},
     "output_type": "execute_result"
    }
   ],
   "source": [
    "# -- Add custom observation names\n",
    "mopt.add_obs(data=ext_file, datatype='head',\n",
    "             obsnmes=['obs' + str(i).zfill(2) for i in range(mm.nstep)])\n",
    "\n",
    "# -- Print added observation data\n",
    "mopt.get_obs_df().head()"
   ]
  },
  {
   "cell_type": "markdown",
   "id": "57da1fa2",
   "metadata": {},
   "source": [
    "The observation storage `.obs` is consider as a dynamic _**\"box\"**_. The user can **add**, **remove** and **clear** observations easily. To remove an observation set, consider unsing the `.remove_obs()`."
   ]
  },
  {
   "cell_type": "code",
   "execution_count": 11,
   "id": "c12453c6",
   "metadata": {},
   "outputs": [
    {
     "name": "stdout",
     "output_type": "stream",
     "text": [
      "All provided observations had been removed successfully.\n",
      "Observation storage: {}\n"
     ]
    }
   ],
   "source": [
    "# -- Remove all observation\n",
    "mopt.remove_obs(verbose=True)\n",
    "\n",
    "# -- Show observation storage\n",
    "print('Observation storage:', mopt.obs)"
   ]
  },
  {
   "cell_type": "code",
   "execution_count": 12,
   "id": "a1f66bcf",
   "metadata": {},
   "outputs": [
    {
     "name": "stdout",
     "output_type": "stream",
     "text": [
      "Observation `07065X0002` had been removed successfully.\n",
      "Observation storage: {}\n"
     ]
    }
   ],
   "source": [
    "# -- Remove specific observation set\n",
    "mopt.add_obs(data=ext_file, datatype='head') # Re-add \n",
    "mopt.remove_obs(locnme='07065X0002', verbose=True)\n",
    "\n",
    "# -- Show observation storage\n",
    "print('Observation storage:', mopt.obs)"
   ]
  },
  {
   "cell_type": "markdown",
   "id": "5d98633b",
   "metadata": {},
   "source": [
    "## 👉 Add fluctuations"
   ]
  },
  {
   "cell_type": "markdown",
   "id": "194ed661",
   "metadata": {},
   "source": [
    "It is quite common during the calibration/optimisation process to add **fluctuation** informations as observation sets i.e. the **absolute difference** between an observation and a **reference value**. `MartheOptim` supports such implementation thank's to the `.add_fluc()` method. It will build a new set of observations from a existing one (from a specific `locnme`).<br>\n",
    "\n",
    "The argument `on` can be provided to specify on which specific value the **fluctuation** must be computed. It can be a simple numeric value, a basic function name  such as _`'mean'`_, _`'median'`_, _`'max'`_, ... or a **custom function**. The argument `tag` allows the user to add **multiple fluctuation sets** on a single target `locname` by giving them a specific name.<br>\n",
    "\n",
    "Let's try it out and add **head mean fluctuation**."
   ]
  },
  {
   "cell_type": "code",
   "execution_count": 13,
   "id": "01f77e8e",
   "metadata": {},
   "outputs": [
    {
     "name": "stdout",
     "output_type": "stream",
     "text": [
      "Observation storage:\n"
     ]
    },
    {
     "data": {
      "text/plain": [
       "{'07065X0002': <pymarthe.mobs.MartheObs at 0x199fe40f160>,\n",
       " '07065X0002f': <pymarthe.mobs.MartheObs at 0x199fe40eef0>}"
      ]
     },
     "execution_count": 13,
     "metadata": {},
     "output_type": "execute_result"
    }
   ],
   "source": [
    "# -- Re-add observation\n",
    "mopt.remove_obs()\n",
    "mopt.add_obs(data=ext_file, datatype='head')\n",
    "\n",
    "# -- Add basic mean fluctuation\n",
    "mopt.add_fluc(locnme='07065X0002') # by default tag='' and on='mean'\n",
    "\n",
    "# -- Print observation storage\n",
    "print('Observation storage:')\n",
    "mopt.obs"
   ]
  },
  {
   "cell_type": "code",
   "execution_count": 14,
   "id": "6d5285a1",
   "metadata": {},
   "outputs": [
    {
     "data": {
      "text/html": [
       "<div>\n",
       "<style scoped>\n",
       "    .dataframe tbody tr th:only-of-type {\n",
       "        vertical-align: middle;\n",
       "    }\n",
       "\n",
       "    .dataframe tbody tr th {\n",
       "        vertical-align: top;\n",
       "    }\n",
       "\n",
       "    .dataframe thead th {\n",
       "        text-align: right;\n",
       "    }\n",
       "</style>\n",
       "<table border=\"1\" class=\"dataframe\">\n",
       "  <thead>\n",
       "    <tr style=\"text-align: right;\">\n",
       "      <th></th>\n",
       "      <th>obsnme</th>\n",
       "      <th>date</th>\n",
       "      <th>obsval</th>\n",
       "      <th>datatype</th>\n",
       "      <th>locnme</th>\n",
       "      <th>obsfile</th>\n",
       "      <th>weight</th>\n",
       "      <th>obgnme</th>\n",
       "      <th>trans</th>\n",
       "    </tr>\n",
       "  </thead>\n",
       "  <tbody>\n",
       "    <tr>\n",
       "      <th>loc001n30</th>\n",
       "      <td>loc001n30</td>\n",
       "      <td>2002-12-31 00:00:00</td>\n",
       "      <td>1.224</td>\n",
       "      <td>headf</td>\n",
       "      <td>07065X0002f</td>\n",
       "      <td>None</td>\n",
       "      <td>1</td>\n",
       "      <td>07065X0002f</td>\n",
       "      <td>none</td>\n",
       "    </tr>\n",
       "    <tr>\n",
       "      <th>loc001n31</th>\n",
       "      <td>loc001n31</td>\n",
       "      <td>2003-12-31 00:00:00</td>\n",
       "      <td>-9999.0</td>\n",
       "      <td>headf</td>\n",
       "      <td>07065X0002f</td>\n",
       "      <td>None</td>\n",
       "      <td>1</td>\n",
       "      <td>07065X0002f</td>\n",
       "      <td>none</td>\n",
       "    </tr>\n",
       "    <tr>\n",
       "      <th>loc001n32</th>\n",
       "      <td>loc001n32</td>\n",
       "      <td>2004-12-31 00:00:00</td>\n",
       "      <td>1.624</td>\n",
       "      <td>headf</td>\n",
       "      <td>07065X0002f</td>\n",
       "      <td>None</td>\n",
       "      <td>1</td>\n",
       "      <td>07065X0002f</td>\n",
       "      <td>none</td>\n",
       "    </tr>\n",
       "    <tr>\n",
       "      <th>loc001n33</th>\n",
       "      <td>loc001n33</td>\n",
       "      <td>2005-12-31 00:00:00</td>\n",
       "      <td>2.924</td>\n",
       "      <td>headf</td>\n",
       "      <td>07065X0002f</td>\n",
       "      <td>None</td>\n",
       "      <td>1</td>\n",
       "      <td>07065X0002f</td>\n",
       "      <td>none</td>\n",
       "    </tr>\n",
       "    <tr>\n",
       "      <th>loc001n34</th>\n",
       "      <td>loc001n34</td>\n",
       "      <td>2006-12-31 00:00:00</td>\n",
       "      <td>0.934</td>\n",
       "      <td>headf</td>\n",
       "      <td>07065X0002f</td>\n",
       "      <td>None</td>\n",
       "      <td>1</td>\n",
       "      <td>07065X0002f</td>\n",
       "      <td>none</td>\n",
       "    </tr>\n",
       "    <tr>\n",
       "      <th>loc001n35</th>\n",
       "      <td>loc001n35</td>\n",
       "      <td>2007-12-31 00:00:00</td>\n",
       "      <td>4.654</td>\n",
       "      <td>headf</td>\n",
       "      <td>07065X0002f</td>\n",
       "      <td>None</td>\n",
       "      <td>1</td>\n",
       "      <td>07065X0002f</td>\n",
       "      <td>none</td>\n",
       "    </tr>\n",
       "    <tr>\n",
       "      <th>loc001n36</th>\n",
       "      <td>loc001n36</td>\n",
       "      <td>2008-12-31 00:00:00</td>\n",
       "      <td>1.284</td>\n",
       "      <td>headf</td>\n",
       "      <td>07065X0002f</td>\n",
       "      <td>None</td>\n",
       "      <td>1</td>\n",
       "      <td>07065X0002f</td>\n",
       "      <td>none</td>\n",
       "    </tr>\n",
       "    <tr>\n",
       "      <th>loc001n37</th>\n",
       "      <td>loc001n37</td>\n",
       "      <td>2009-12-31 00:00:00</td>\n",
       "      <td>0.954</td>\n",
       "      <td>headf</td>\n",
       "      <td>07065X0002f</td>\n",
       "      <td>None</td>\n",
       "      <td>1</td>\n",
       "      <td>07065X0002f</td>\n",
       "      <td>none</td>\n",
       "    </tr>\n",
       "    <tr>\n",
       "      <th>loc001n38</th>\n",
       "      <td>loc001n38</td>\n",
       "      <td>2010-12-31 00:00:00</td>\n",
       "      <td>1.114</td>\n",
       "      <td>headf</td>\n",
       "      <td>07065X0002f</td>\n",
       "      <td>None</td>\n",
       "      <td>1</td>\n",
       "      <td>07065X0002f</td>\n",
       "      <td>none</td>\n",
       "    </tr>\n",
       "    <tr>\n",
       "      <th>loc001n39</th>\n",
       "      <td>loc001n39</td>\n",
       "      <td>2011-12-31 00:00:00</td>\n",
       "      <td>1.034</td>\n",
       "      <td>headf</td>\n",
       "      <td>07065X0002f</td>\n",
       "      <td>None</td>\n",
       "      <td>1</td>\n",
       "      <td>07065X0002f</td>\n",
       "      <td>none</td>\n",
       "    </tr>\n",
       "  </tbody>\n",
       "</table>\n",
       "</div>"
      ],
      "text/plain": [
       "              obsnme                 date  obsval datatype       locnme   \n",
       "loc001n30  loc001n30  2002-12-31 00:00:00   1.224    headf  07065X0002f  \\\n",
       "loc001n31  loc001n31  2003-12-31 00:00:00 -9999.0    headf  07065X0002f   \n",
       "loc001n32  loc001n32  2004-12-31 00:00:00   1.624    headf  07065X0002f   \n",
       "loc001n33  loc001n33  2005-12-31 00:00:00   2.924    headf  07065X0002f   \n",
       "loc001n34  loc001n34  2006-12-31 00:00:00   0.934    headf  07065X0002f   \n",
       "loc001n35  loc001n35  2007-12-31 00:00:00   4.654    headf  07065X0002f   \n",
       "loc001n36  loc001n36  2008-12-31 00:00:00   1.284    headf  07065X0002f   \n",
       "loc001n37  loc001n37  2009-12-31 00:00:00   0.954    headf  07065X0002f   \n",
       "loc001n38  loc001n38  2010-12-31 00:00:00   1.114    headf  07065X0002f   \n",
       "loc001n39  loc001n39  2011-12-31 00:00:00   1.034    headf  07065X0002f   \n",
       "\n",
       "          obsfile weight       obgnme trans  \n",
       "loc001n30    None      1  07065X0002f  none  \n",
       "loc001n31    None      1  07065X0002f  none  \n",
       "loc001n32    None      1  07065X0002f  none  \n",
       "loc001n33    None      1  07065X0002f  none  \n",
       "loc001n34    None      1  07065X0002f  none  \n",
       "loc001n35    None      1  07065X0002f  none  \n",
       "loc001n36    None      1  07065X0002f  none  \n",
       "loc001n37    None      1  07065X0002f  none  \n",
       "loc001n38    None      1  07065X0002f  none  \n",
       "loc001n39    None      1  07065X0002f  none  "
      ]
     },
     "execution_count": 14,
     "metadata": {},
     "output_type": "execute_result"
    }
   ],
   "source": [
    "# -- See added observation data\n",
    "mopt.get_obs_df().tail(10)"
   ]
  },
  {
   "cell_type": "markdown",
   "id": "da2cdc79",
   "metadata": {},
   "source": [
    "So, a new set of abservation have been added corresponding the **mean fluctuation** of _`'07065X0002'`_ values. Next, we will implement several types of fluctuation for the same target `locname`."
   ]
  },
  {
   "cell_type": "code",
   "execution_count": 15,
   "id": "d07bea73",
   "metadata": {},
   "outputs": [
    {
     "name": "stdout",
     "output_type": "stream",
     "text": [
      "Observation storage:\n"
     ]
    },
    {
     "data": {
      "text/plain": [
       "{'07065X0002': <pymarthe.mobs.MartheObs at 0x199fe40e050>,\n",
       " '07065X0002mnf': <pymarthe.mobs.MartheObs at 0x199fe40e380>,\n",
       " '07065X0002mdf': <pymarthe.mobs.MartheObs at 0x199fe40f2e0>}"
      ]
     },
     "execution_count": 15,
     "metadata": {},
     "output_type": "execute_result"
    }
   ],
   "source": [
    "# -- Re-add observation\n",
    "mopt.remove_obs()\n",
    "mopt.add_obs(data=ext_file, datatype='head')\n",
    "\n",
    "# -- Add fluctuation on 'mean' and 'median'\n",
    "mopt.add_fluc(locnme='07065X0002', tag='mn', on='mean')\n",
    "mopt.add_fluc(locnme='07065X0002', tag='md', on='median')\n",
    "\n",
    "# -- Print observation storage\n",
    "print('Observation storage:')\n",
    "mopt.obs"
   ]
  },
  {
   "cell_type": "code",
   "execution_count": 16,
   "id": "9f307e67",
   "metadata": {},
   "outputs": [
    {
     "data": {
      "text/html": [
       "<div>\n",
       "<style scoped>\n",
       "    .dataframe tbody tr th:only-of-type {\n",
       "        vertical-align: middle;\n",
       "    }\n",
       "\n",
       "    .dataframe tbody tr th {\n",
       "        vertical-align: top;\n",
       "    }\n",
       "\n",
       "    .dataframe thead th {\n",
       "        text-align: right;\n",
       "    }\n",
       "</style>\n",
       "<table border=\"1\" class=\"dataframe\">\n",
       "  <thead>\n",
       "    <tr style=\"text-align: right;\">\n",
       "      <th></th>\n",
       "      <th>obsnme</th>\n",
       "      <th>date</th>\n",
       "      <th>obsval</th>\n",
       "      <th>datatype</th>\n",
       "      <th>locnme</th>\n",
       "      <th>obsfile</th>\n",
       "      <th>weight</th>\n",
       "      <th>obgnme</th>\n",
       "      <th>trans</th>\n",
       "    </tr>\n",
       "  </thead>\n",
       "  <tbody>\n",
       "    <tr>\n",
       "      <th>loc000n38</th>\n",
       "      <td>loc000n38</td>\n",
       "      <td>2010-12-31 00:00:00</td>\n",
       "      <td>16.29</td>\n",
       "      <td>head</td>\n",
       "      <td>07065X0002</td>\n",
       "      <td>monav3\\obs\\07065X0002.dat</td>\n",
       "      <td>1</td>\n",
       "      <td>07065X0002</td>\n",
       "      <td>none</td>\n",
       "    </tr>\n",
       "    <tr>\n",
       "      <th>loc001n38</th>\n",
       "      <td>loc001n38</td>\n",
       "      <td>2010-12-31 00:00:00</td>\n",
       "      <td>1.114</td>\n",
       "      <td>headmnf</td>\n",
       "      <td>07065X0002mnf</td>\n",
       "      <td>None</td>\n",
       "      <td>1</td>\n",
       "      <td>07065X0002mnf</td>\n",
       "      <td>none</td>\n",
       "    </tr>\n",
       "    <tr>\n",
       "      <th>loc002n38</th>\n",
       "      <td>loc002n38</td>\n",
       "      <td>2010-12-31 00:00:00</td>\n",
       "      <td>0.08</td>\n",
       "      <td>headmdf</td>\n",
       "      <td>07065X0002mdf</td>\n",
       "      <td>None</td>\n",
       "      <td>1</td>\n",
       "      <td>07065X0002mdf</td>\n",
       "      <td>none</td>\n",
       "    </tr>\n",
       "  </tbody>\n",
       "</table>\n",
       "</div>"
      ],
      "text/plain": [
       "              obsnme                 date obsval datatype         locnme   \n",
       "loc000n38  loc000n38  2010-12-31 00:00:00  16.29     head     07065X0002  \\\n",
       "loc001n38  loc001n38  2010-12-31 00:00:00  1.114  headmnf  07065X0002mnf   \n",
       "loc002n38  loc002n38  2010-12-31 00:00:00   0.08  headmdf  07065X0002mdf   \n",
       "\n",
       "                             obsfile weight         obgnme trans  \n",
       "loc000n38  monav3\\obs\\07065X0002.dat      1     07065X0002  none  \n",
       "loc001n38                       None      1  07065X0002mnf  none  \n",
       "loc002n38                       None      1  07065X0002mdf  none  "
      ]
     },
     "execution_count": 16,
     "metadata": {},
     "output_type": "execute_result"
    }
   ],
   "source": [
    "# -- See added observation data\n",
    "(\n",
    "    mopt\n",
    "    .get_obs_df()\n",
    "    .query(\"locnme.str.contains('07065X0002')\")\n",
    "    .iloc[38::40, ]\n",
    ")"
   ]
  },
  {
   "cell_type": "markdown",
   "id": "f4f617b5",
   "metadata": {},
   "source": [
    "<div class=\"alert alert-info\" role=\"alert\">\n",
    "    <span style=\"color: blue; font-size: 16px; font-weight: bold;\">✔ NOTE: </span>\n",
    "    <span style=\"color: darkblue;\"> adding fluctuations <b>will not generate</b> a new external file even if the referenced existing <code>locnme</code> comes from one. All fluctation implementations will be manage by <code>PyMarthe</code> internally.\n",
    "    </span>\n",
    "</div>"
   ]
  },
  {
   "cell_type": "markdown",
   "id": "a2015836",
   "metadata": {},
   "source": [
    "Now let's imagine that we want to optimise pumping rates **under the constraint** of never going below a specific **critical value** (e.g. $85 m.NGF$) at the observation well _`'07095X0117'`_. Adding **fluctuations** according to that **threshold** can be extremely beneficial for optimisation. Let's try to achieve this."
   ]
  },
  {
   "cell_type": "code",
   "execution_count": 17,
   "id": "5c6f5961",
   "metadata": {},
   "outputs": [
    {
     "name": "stdout",
     "output_type": "stream",
     "text": [
      "Observation storage:\n"
     ]
    },
    {
     "data": {
      "text/plain": [
       "{'07065X0002': <pymarthe.mobs.MartheObs at 0x199fe40e050>,\n",
       " '07065X0002mnf': <pymarthe.mobs.MartheObs at 0x199fe40e380>,\n",
       " '07065X0002mdf': <pymarthe.mobs.MartheObs at 0x199fe40f2e0>,\n",
       " '07095X0117': <pymarthe.mobs.MartheObs at 0x199fe40fcd0>,\n",
       " '07095X0117_ctv_f': <pymarthe.mobs.MartheObs at 0x19980920190>}"
      ]
     },
     "execution_count": 17,
     "metadata": {},
     "output_type": "execute_result"
    }
   ],
   "source": [
    "# -- Set locname and Critical Threshold Value (ctv)\n",
    "ln, ctv = '07095X0117', 85 \n",
    "\n",
    "# -- Add 07095X0117 observations\n",
    "mopt.add_obs(data=os.path.join(mm.mldir, 'obs', f'{ln}.dat'), datatype='head')\n",
    "\n",
    "# -- Add fluc on 'mean' and 'median'\n",
    "mopt.add_fluc(locnme=ln, tag='_ctv_', on=ctv)\n",
    "\n",
    "# -- Print observation storage\n",
    "print('Observation storage:')\n",
    "mopt.obs"
   ]
  },
  {
   "cell_type": "markdown",
   "id": "a4db4022",
   "metadata": {},
   "source": [
    "<div class=\"alert alert-danger\" role=\"alert\">\n",
    "    <span style=\"color: red; font-size: 16px; font-weight: bold;\">⛔ CAREFUL: </span>\n",
    "    <span style=\"color: darkred;\"> <b>PEST-HP</b> (<i><b>H</b>igh <b>P</b>erformance</i>) users <b>must make absolutely sure</b> that the names of their observations are <b>&#x2264; 12 characters</b>.\n",
    "    </span>\n",
    "</div>"
   ]
  },
  {
   "cell_type": "markdown",
   "id": "93b2c168",
   "metadata": {},
   "source": [
    "## 👉 Apply transformations"
   ]
  },
  {
   "cell_type": "markdown",
   "id": "74a88e76",
   "metadata": {},
   "source": [
    "`Martheoptim` instance allows the user to apply **any type of transformation** on observation data. The transformation can be specified:<br>\n",
    "\n",
    "&emsp;&emsp;<span style=\"font-size: 20px\">➀</span> **During** observation implementation (`trans` argument)<br>\n",
    "&emsp;&emsp;<span style=\"font-size: 20px\">➁</span> **After** observation implementation (`.set_obs_trans()` method)<br>\n",
    "\n",
    "The transformation to apply **must be valid** otherwise an error will be raised. It can be a:\n",
    "\n",
    "- **Basic `str` function**: _`'log10'`_, _`'sqrt'`_, ...\n",
    "- **Evaluable callable**: _`'lambda x: 10**(x + 1)'`_, _`'lambda x: -x'`_, ..."
   ]
  },
  {
   "cell_type": "code",
   "execution_count": 18,
   "id": "92e8853d",
   "metadata": {},
   "outputs": [
    {
     "name": "stderr",
     "output_type": "stream",
     "text": [
      "C:\\Users\\pierr\\OneDrive\\Documents\\dev\\adeqwat\\examples\\..\\pymarthe\\moptim.py:355: Warning: WARNING : locnme `07065X0002` already added. It will be overwrited.\n"
     ]
    },
    {
     "data": {
      "text/html": [
       "<div>\n",
       "<style scoped>\n",
       "    .dataframe tbody tr th:only-of-type {\n",
       "        vertical-align: middle;\n",
       "    }\n",
       "\n",
       "    .dataframe tbody tr th {\n",
       "        vertical-align: top;\n",
       "    }\n",
       "\n",
       "    .dataframe thead th {\n",
       "        text-align: right;\n",
       "    }\n",
       "</style>\n",
       "<table border=\"1\" class=\"dataframe\">\n",
       "  <thead>\n",
       "    <tr style=\"text-align: right;\">\n",
       "      <th></th>\n",
       "      <th>obsnme</th>\n",
       "      <th>date</th>\n",
       "      <th>obsval</th>\n",
       "      <th>datatype</th>\n",
       "      <th>locnme</th>\n",
       "      <th>obsfile</th>\n",
       "      <th>weight</th>\n",
       "      <th>obgnme</th>\n",
       "      <th>trans</th>\n",
       "    </tr>\n",
       "  </thead>\n",
       "  <tbody>\n",
       "    <tr>\n",
       "      <th>loc004n35</th>\n",
       "      <td>loc004n35</td>\n",
       "      <td>2007-12-31 00:00:00</td>\n",
       "      <td>19.83</td>\n",
       "      <td>head</td>\n",
       "      <td>07065X0002</td>\n",
       "      <td>monav3\\obs\\07065X0002.dat</td>\n",
       "      <td>1</td>\n",
       "      <td>07065X0002</td>\n",
       "      <td>sqrt</td>\n",
       "    </tr>\n",
       "    <tr>\n",
       "      <th>loc004n36</th>\n",
       "      <td>loc004n36</td>\n",
       "      <td>2008-12-31 00:00:00</td>\n",
       "      <td>16.46</td>\n",
       "      <td>head</td>\n",
       "      <td>07065X0002</td>\n",
       "      <td>monav3\\obs\\07065X0002.dat</td>\n",
       "      <td>1</td>\n",
       "      <td>07065X0002</td>\n",
       "      <td>sqrt</td>\n",
       "    </tr>\n",
       "    <tr>\n",
       "      <th>loc004n37</th>\n",
       "      <td>loc004n37</td>\n",
       "      <td>2009-12-31 00:00:00</td>\n",
       "      <td>16.13</td>\n",
       "      <td>head</td>\n",
       "      <td>07065X0002</td>\n",
       "      <td>monav3\\obs\\07065X0002.dat</td>\n",
       "      <td>1</td>\n",
       "      <td>07065X0002</td>\n",
       "      <td>sqrt</td>\n",
       "    </tr>\n",
       "    <tr>\n",
       "      <th>loc004n38</th>\n",
       "      <td>loc004n38</td>\n",
       "      <td>2010-12-31 00:00:00</td>\n",
       "      <td>16.29</td>\n",
       "      <td>head</td>\n",
       "      <td>07065X0002</td>\n",
       "      <td>monav3\\obs\\07065X0002.dat</td>\n",
       "      <td>1</td>\n",
       "      <td>07065X0002</td>\n",
       "      <td>sqrt</td>\n",
       "    </tr>\n",
       "    <tr>\n",
       "      <th>loc004n39</th>\n",
       "      <td>loc004n39</td>\n",
       "      <td>2011-12-31 00:00:00</td>\n",
       "      <td>16.21</td>\n",
       "      <td>head</td>\n",
       "      <td>07065X0002</td>\n",
       "      <td>monav3\\obs\\07065X0002.dat</td>\n",
       "      <td>1</td>\n",
       "      <td>07065X0002</td>\n",
       "      <td>sqrt</td>\n",
       "    </tr>\n",
       "  </tbody>\n",
       "</table>\n",
       "</div>"
      ],
      "text/plain": [
       "              obsnme                 date obsval datatype      locnme   \n",
       "loc004n35  loc004n35  2007-12-31 00:00:00  19.83     head  07065X0002  \\\n",
       "loc004n36  loc004n36  2008-12-31 00:00:00  16.46     head  07065X0002   \n",
       "loc004n37  loc004n37  2009-12-31 00:00:00  16.13     head  07065X0002   \n",
       "loc004n38  loc004n38  2010-12-31 00:00:00  16.29     head  07065X0002   \n",
       "loc004n39  loc004n39  2011-12-31 00:00:00  16.21     head  07065X0002   \n",
       "\n",
       "                             obsfile weight      obgnme trans  \n",
       "loc004n35  monav3\\obs\\07065X0002.dat      1  07065X0002  sqrt  \n",
       "loc004n36  monav3\\obs\\07065X0002.dat      1  07065X0002  sqrt  \n",
       "loc004n37  monav3\\obs\\07065X0002.dat      1  07065X0002  sqrt  \n",
       "loc004n38  monav3\\obs\\07065X0002.dat      1  07065X0002  sqrt  \n",
       "loc004n39  monav3\\obs\\07065X0002.dat      1  07065X0002  sqrt  "
      ]
     },
     "execution_count": 18,
     "metadata": {},
     "output_type": "execute_result"
    }
   ],
   "source": [
    "# -- Apply transformation during implementation\n",
    "mopt.add_obs(data=ext_file, datatype='head', trans='sqrt')\n",
    "\n",
    "# -- See results\n",
    "mopt.get_obs_df().query(\"locnme == '07065X0002'\").tail()"
   ]
  },
  {
   "cell_type": "markdown",
   "id": "363426fb",
   "metadata": {},
   "source": [
    "<div class=\"alert alert-info\" role=\"alert\">\n",
    "    <span style=\"color: blue; font-size: 16px; font-weight: bold;\">✔ NOTE: </span>\n",
    "    <span style=\"color: darkblue;\"> applying transformation on observation data <b>will not change the raw values</b>. It will be applied during writting process. However, it is always possible to access the transformed values by entering <code>transformed=True</code>.\n",
    "    </span>\n",
    "</div>"
   ]
  },
  {
   "cell_type": "code",
   "execution_count": 19,
   "id": "27a6a995",
   "metadata": {},
   "outputs": [
    {
     "name": "stderr",
     "output_type": "stream",
     "text": [
      "C:\\Users\\pierr\\OneDrive\\Documents\\dev\\adeqwat\\examples\\..\\pymarthe\\moptim.py:355: Warning: WARNING : locnme `07065X0002` already added. It will be overwrited.\n"
     ]
    },
    {
     "data": {
      "text/html": [
       "<div>\n",
       "<style scoped>\n",
       "    .dataframe tbody tr th:only-of-type {\n",
       "        vertical-align: middle;\n",
       "    }\n",
       "\n",
       "    .dataframe tbody tr th {\n",
       "        vertical-align: top;\n",
       "    }\n",
       "\n",
       "    .dataframe thead th {\n",
       "        text-align: right;\n",
       "    }\n",
       "</style>\n",
       "<table border=\"1\" class=\"dataframe\">\n",
       "  <thead>\n",
       "    <tr style=\"text-align: right;\">\n",
       "      <th></th>\n",
       "      <th>obsnme</th>\n",
       "      <th>date</th>\n",
       "      <th>obsval</th>\n",
       "      <th>datatype</th>\n",
       "      <th>locnme</th>\n",
       "      <th>obsfile</th>\n",
       "      <th>weight</th>\n",
       "      <th>obgnme</th>\n",
       "      <th>trans</th>\n",
       "    </tr>\n",
       "  </thead>\n",
       "  <tbody>\n",
       "    <tr>\n",
       "      <th>loc004n35</th>\n",
       "      <td>loc004n35</td>\n",
       "      <td>2007-12-31 00:00:00</td>\n",
       "      <td>19.83</td>\n",
       "      <td>head</td>\n",
       "      <td>07065X0002</td>\n",
       "      <td>monav3\\obs\\07065X0002.dat</td>\n",
       "      <td>1</td>\n",
       "      <td>07065X0002</td>\n",
       "      <td>lambda x: -1*x</td>\n",
       "    </tr>\n",
       "    <tr>\n",
       "      <th>loc004n36</th>\n",
       "      <td>loc004n36</td>\n",
       "      <td>2008-12-31 00:00:00</td>\n",
       "      <td>16.46</td>\n",
       "      <td>head</td>\n",
       "      <td>07065X0002</td>\n",
       "      <td>monav3\\obs\\07065X0002.dat</td>\n",
       "      <td>1</td>\n",
       "      <td>07065X0002</td>\n",
       "      <td>lambda x: -1*x</td>\n",
       "    </tr>\n",
       "    <tr>\n",
       "      <th>loc004n37</th>\n",
       "      <td>loc004n37</td>\n",
       "      <td>2009-12-31 00:00:00</td>\n",
       "      <td>16.13</td>\n",
       "      <td>head</td>\n",
       "      <td>07065X0002</td>\n",
       "      <td>monav3\\obs\\07065X0002.dat</td>\n",
       "      <td>1</td>\n",
       "      <td>07065X0002</td>\n",
       "      <td>lambda x: -1*x</td>\n",
       "    </tr>\n",
       "    <tr>\n",
       "      <th>loc004n38</th>\n",
       "      <td>loc004n38</td>\n",
       "      <td>2010-12-31 00:00:00</td>\n",
       "      <td>16.29</td>\n",
       "      <td>head</td>\n",
       "      <td>07065X0002</td>\n",
       "      <td>monav3\\obs\\07065X0002.dat</td>\n",
       "      <td>1</td>\n",
       "      <td>07065X0002</td>\n",
       "      <td>lambda x: -1*x</td>\n",
       "    </tr>\n",
       "    <tr>\n",
       "      <th>loc004n39</th>\n",
       "      <td>loc004n39</td>\n",
       "      <td>2011-12-31 00:00:00</td>\n",
       "      <td>16.21</td>\n",
       "      <td>head</td>\n",
       "      <td>07065X0002</td>\n",
       "      <td>monav3\\obs\\07065X0002.dat</td>\n",
       "      <td>1</td>\n",
       "      <td>07065X0002</td>\n",
       "      <td>lambda x: -1*x</td>\n",
       "    </tr>\n",
       "  </tbody>\n",
       "</table>\n",
       "</div>"
      ],
      "text/plain": [
       "              obsnme                 date obsval datatype      locnme   \n",
       "loc004n35  loc004n35  2007-12-31 00:00:00  19.83     head  07065X0002  \\\n",
       "loc004n36  loc004n36  2008-12-31 00:00:00  16.46     head  07065X0002   \n",
       "loc004n37  loc004n37  2009-12-31 00:00:00  16.13     head  07065X0002   \n",
       "loc004n38  loc004n38  2010-12-31 00:00:00  16.29     head  07065X0002   \n",
       "loc004n39  loc004n39  2011-12-31 00:00:00  16.21     head  07065X0002   \n",
       "\n",
       "                             obsfile weight      obgnme           trans  \n",
       "loc004n35  monav3\\obs\\07065X0002.dat      1  07065X0002  lambda x: -1*x  \n",
       "loc004n36  monav3\\obs\\07065X0002.dat      1  07065X0002  lambda x: -1*x  \n",
       "loc004n37  monav3\\obs\\07065X0002.dat      1  07065X0002  lambda x: -1*x  \n",
       "loc004n38  monav3\\obs\\07065X0002.dat      1  07065X0002  lambda x: -1*x  \n",
       "loc004n39  monav3\\obs\\07065X0002.dat      1  07065X0002  lambda x: -1*x  "
      ]
     },
     "execution_count": 19,
     "metadata": {},
     "output_type": "execute_result"
    }
   ],
   "source": [
    "# -- Apply transformation during implementation\n",
    "mopt.add_obs(data=ext_file, datatype='head', trans='lambda x: -1*x')\n",
    "\n",
    "# -- See results\n",
    "mopt.get_obs_df().query(\"locnme == '07065X0002'\").tail()"
   ]
  },
  {
   "cell_type": "code",
   "execution_count": 20,
   "id": "5bc82fa1",
   "metadata": {},
   "outputs": [
    {
     "data": {
      "text/html": [
       "<div>\n",
       "<style scoped>\n",
       "    .dataframe tbody tr th:only-of-type {\n",
       "        vertical-align: middle;\n",
       "    }\n",
       "\n",
       "    .dataframe tbody tr th {\n",
       "        vertical-align: top;\n",
       "    }\n",
       "\n",
       "    .dataframe thead th {\n",
       "        text-align: right;\n",
       "    }\n",
       "</style>\n",
       "<table border=\"1\" class=\"dataframe\">\n",
       "  <thead>\n",
       "    <tr style=\"text-align: right;\">\n",
       "      <th></th>\n",
       "      <th>trans</th>\n",
       "    </tr>\n",
       "    <tr>\n",
       "      <th>locnme</th>\n",
       "      <th></th>\n",
       "    </tr>\n",
       "  </thead>\n",
       "  <tbody>\n",
       "    <tr>\n",
       "      <th>07065X0002</th>\n",
       "      <td>lambda x: -1*x</td>\n",
       "    </tr>\n",
       "    <tr>\n",
       "      <th>07065X0002mdf</th>\n",
       "      <td>none</td>\n",
       "    </tr>\n",
       "    <tr>\n",
       "      <th>07065X0002mnf</th>\n",
       "      <td>none</td>\n",
       "    </tr>\n",
       "    <tr>\n",
       "      <th>07095X0117</th>\n",
       "      <td>lambda x: 10**(1 - x)</td>\n",
       "    </tr>\n",
       "    <tr>\n",
       "      <th>07095X0117_ctv_f</th>\n",
       "      <td>none</td>\n",
       "    </tr>\n",
       "  </tbody>\n",
       "</table>\n",
       "</div>"
      ],
      "text/plain": [
       "                                  trans\n",
       "locnme                                 \n",
       "07065X0002               lambda x: -1*x\n",
       "07065X0002mdf                      none\n",
       "07065X0002mnf                      none\n",
       "07095X0117        lambda x: 10**(1 - x)\n",
       "07095X0117_ctv_f                   none"
      ]
     },
     "execution_count": 20,
     "metadata": {},
     "output_type": "execute_result"
    }
   ],
   "source": [
    "# -- Apply transformation a posteriori (on target locnme)\n",
    "mopt.set_obs_trans('lambda x: 10**(1 - x)', locnme='07095X0117')\n",
    "\n",
    "# -- Reset transformation a posteriori (on target datatype)\n",
    "dt = ( # all fluctuation observation\n",
    "    mopt\n",
    "    .get_obs_df()['datatype']\n",
    "    .str.extract('(.+f$)', expand=False)\n",
    "    .dropna()\n",
    "    .unique() \n",
    ")\n",
    "mopt.set_obs_trans('none', datatype=dt)\n",
    "\n",
    "# -- See results\n",
    "(\n",
    "    mopt\n",
    "    .get_obs_df()\n",
    "    .groupby('locnme')\n",
    "    .agg({'trans': 'first'})\n",
    ")"
   ]
  },
  {
   "cell_type": "code",
   "execution_count": 21,
   "id": "7e4e3b83",
   "metadata": {},
   "outputs": [],
   "source": [
    "# -- Try invalid transformation\n",
    "# mopt.set_obs_trans('-log(e)')"
   ]
  },
  {
   "cell_type": "markdown",
   "id": "12b04b64",
   "metadata": {},
   "source": [
    "## 👉 Apply weights"
   ]
  },
  {
   "cell_type": "markdown",
   "id": "b16dfbd8",
   "metadata": {},
   "source": [
    "By default, all **observations weights** are set to $1$. However, the `MartheOptim` instance also allows to manage the **weights** of a given set of abservation data. It can be implemented during the `.add_obs()` process using the `weight` argument."
   ]
  },
  {
   "cell_type": "code",
   "execution_count": 22,
   "id": "cb003ca0",
   "metadata": {},
   "outputs": [
    {
     "name": "stderr",
     "output_type": "stream",
     "text": [
      "C:\\Users\\pierr\\OneDrive\\Documents\\dev\\adeqwat\\examples\\..\\pymarthe\\moptim.py:355: Warning: WARNING : locnme `07065X0002` already added. It will be overwrited.\n"
     ]
    },
    {
     "data": {
      "text/html": [
       "<div>\n",
       "<style scoped>\n",
       "    .dataframe tbody tr th:only-of-type {\n",
       "        vertical-align: middle;\n",
       "    }\n",
       "\n",
       "    .dataframe tbody tr th {\n",
       "        vertical-align: top;\n",
       "    }\n",
       "\n",
       "    .dataframe thead th {\n",
       "        text-align: right;\n",
       "    }\n",
       "</style>\n",
       "<table border=\"1\" class=\"dataframe\">\n",
       "  <thead>\n",
       "    <tr style=\"text-align: right;\">\n",
       "      <th></th>\n",
       "      <th>obsnme</th>\n",
       "      <th>date</th>\n",
       "      <th>obsval</th>\n",
       "      <th>datatype</th>\n",
       "      <th>locnme</th>\n",
       "      <th>obsfile</th>\n",
       "      <th>weight</th>\n",
       "      <th>obgnme</th>\n",
       "      <th>trans</th>\n",
       "    </tr>\n",
       "  </thead>\n",
       "  <tbody>\n",
       "    <tr>\n",
       "      <th>loc004n35</th>\n",
       "      <td>loc004n35</td>\n",
       "      <td>2007-12-31 00:00:00</td>\n",
       "      <td>19.83</td>\n",
       "      <td>head</td>\n",
       "      <td>07065X0002</td>\n",
       "      <td>monav3\\obs\\07065X0002.dat</td>\n",
       "      <td>0.5</td>\n",
       "      <td>07065X0002</td>\n",
       "      <td>none</td>\n",
       "    </tr>\n",
       "    <tr>\n",
       "      <th>loc004n36</th>\n",
       "      <td>loc004n36</td>\n",
       "      <td>2008-12-31 00:00:00</td>\n",
       "      <td>16.46</td>\n",
       "      <td>head</td>\n",
       "      <td>07065X0002</td>\n",
       "      <td>monav3\\obs\\07065X0002.dat</td>\n",
       "      <td>0.5</td>\n",
       "      <td>07065X0002</td>\n",
       "      <td>none</td>\n",
       "    </tr>\n",
       "    <tr>\n",
       "      <th>loc004n37</th>\n",
       "      <td>loc004n37</td>\n",
       "      <td>2009-12-31 00:00:00</td>\n",
       "      <td>16.13</td>\n",
       "      <td>head</td>\n",
       "      <td>07065X0002</td>\n",
       "      <td>monav3\\obs\\07065X0002.dat</td>\n",
       "      <td>0.5</td>\n",
       "      <td>07065X0002</td>\n",
       "      <td>none</td>\n",
       "    </tr>\n",
       "    <tr>\n",
       "      <th>loc004n38</th>\n",
       "      <td>loc004n38</td>\n",
       "      <td>2010-12-31 00:00:00</td>\n",
       "      <td>16.29</td>\n",
       "      <td>head</td>\n",
       "      <td>07065X0002</td>\n",
       "      <td>monav3\\obs\\07065X0002.dat</td>\n",
       "      <td>0.5</td>\n",
       "      <td>07065X0002</td>\n",
       "      <td>none</td>\n",
       "    </tr>\n",
       "    <tr>\n",
       "      <th>loc004n39</th>\n",
       "      <td>loc004n39</td>\n",
       "      <td>2011-12-31 00:00:00</td>\n",
       "      <td>16.21</td>\n",
       "      <td>head</td>\n",
       "      <td>07065X0002</td>\n",
       "      <td>monav3\\obs\\07065X0002.dat</td>\n",
       "      <td>0.5</td>\n",
       "      <td>07065X0002</td>\n",
       "      <td>none</td>\n",
       "    </tr>\n",
       "  </tbody>\n",
       "</table>\n",
       "</div>"
      ],
      "text/plain": [
       "              obsnme                 date obsval datatype      locnme   \n",
       "loc004n35  loc004n35  2007-12-31 00:00:00  19.83     head  07065X0002  \\\n",
       "loc004n36  loc004n36  2008-12-31 00:00:00  16.46     head  07065X0002   \n",
       "loc004n37  loc004n37  2009-12-31 00:00:00  16.13     head  07065X0002   \n",
       "loc004n38  loc004n38  2010-12-31 00:00:00  16.29     head  07065X0002   \n",
       "loc004n39  loc004n39  2011-12-31 00:00:00  16.21     head  07065X0002   \n",
       "\n",
       "                             obsfile weight      obgnme trans  \n",
       "loc004n35  monav3\\obs\\07065X0002.dat    0.5  07065X0002  none  \n",
       "loc004n36  monav3\\obs\\07065X0002.dat    0.5  07065X0002  none  \n",
       "loc004n37  monav3\\obs\\07065X0002.dat    0.5  07065X0002  none  \n",
       "loc004n38  monav3\\obs\\07065X0002.dat    0.5  07065X0002  none  \n",
       "loc004n39  monav3\\obs\\07065X0002.dat    0.5  07065X0002  none  "
      ]
     },
     "execution_count": 22,
     "metadata": {},
     "output_type": "execute_result"
    }
   ],
   "source": [
    "# -- Set weight (ex: single values)\n",
    "mopt.add_obs(data=ext_file, datatype='head', weight=.5)\n",
    "\n",
    "# -- See results\n",
    "mopt.get_obs_df().query(\"locnme == '07065X0002'\").tail()"
   ]
  },
  {
   "cell_type": "code",
   "execution_count": 23,
   "id": "996fccb8",
   "metadata": {},
   "outputs": [
    {
     "name": "stderr",
     "output_type": "stream",
     "text": [
      "C:\\Users\\pierr\\OneDrive\\Documents\\dev\\adeqwat\\examples\\..\\pymarthe\\moptim.py:355: Warning: WARNING : locnme `07065X0002` already added. It will be overwrited.\n"
     ]
    },
    {
     "data": {
      "text/html": [
       "<div>\n",
       "<style scoped>\n",
       "    .dataframe tbody tr th:only-of-type {\n",
       "        vertical-align: middle;\n",
       "    }\n",
       "\n",
       "    .dataframe tbody tr th {\n",
       "        vertical-align: top;\n",
       "    }\n",
       "\n",
       "    .dataframe thead th {\n",
       "        text-align: right;\n",
       "    }\n",
       "</style>\n",
       "<table border=\"1\" class=\"dataframe\">\n",
       "  <thead>\n",
       "    <tr style=\"text-align: right;\">\n",
       "      <th></th>\n",
       "      <th>obsnme</th>\n",
       "      <th>date</th>\n",
       "      <th>obsval</th>\n",
       "      <th>datatype</th>\n",
       "      <th>locnme</th>\n",
       "      <th>obsfile</th>\n",
       "      <th>weight</th>\n",
       "      <th>obgnme</th>\n",
       "      <th>trans</th>\n",
       "    </tr>\n",
       "  </thead>\n",
       "  <tbody>\n",
       "    <tr>\n",
       "      <th>loc004n35</th>\n",
       "      <td>loc004n35</td>\n",
       "      <td>2007-12-31 00:00:00</td>\n",
       "      <td>19.83</td>\n",
       "      <td>head</td>\n",
       "      <td>07065X0002</td>\n",
       "      <td>monav3\\obs\\07065X0002.dat</td>\n",
       "      <td>0.018683</td>\n",
       "      <td>07065X0002</td>\n",
       "      <td>none</td>\n",
       "    </tr>\n",
       "    <tr>\n",
       "      <th>loc004n36</th>\n",
       "      <td>loc004n36</td>\n",
       "      <td>2008-12-31 00:00:00</td>\n",
       "      <td>16.46</td>\n",
       "      <td>head</td>\n",
       "      <td>07065X0002</td>\n",
       "      <td>monav3\\obs\\07065X0002.dat</td>\n",
       "      <td>0.018683</td>\n",
       "      <td>07065X0002</td>\n",
       "      <td>none</td>\n",
       "    </tr>\n",
       "    <tr>\n",
       "      <th>loc004n37</th>\n",
       "      <td>loc004n37</td>\n",
       "      <td>2009-12-31 00:00:00</td>\n",
       "      <td>16.13</td>\n",
       "      <td>head</td>\n",
       "      <td>07065X0002</td>\n",
       "      <td>monav3\\obs\\07065X0002.dat</td>\n",
       "      <td>0.018683</td>\n",
       "      <td>07065X0002</td>\n",
       "      <td>none</td>\n",
       "    </tr>\n",
       "    <tr>\n",
       "      <th>loc004n38</th>\n",
       "      <td>loc004n38</td>\n",
       "      <td>2010-12-31 00:00:00</td>\n",
       "      <td>16.29</td>\n",
       "      <td>head</td>\n",
       "      <td>07065X0002</td>\n",
       "      <td>monav3\\obs\\07065X0002.dat</td>\n",
       "      <td>0.018683</td>\n",
       "      <td>07065X0002</td>\n",
       "      <td>none</td>\n",
       "    </tr>\n",
       "    <tr>\n",
       "      <th>loc004n39</th>\n",
       "      <td>loc004n39</td>\n",
       "      <td>2011-12-31 00:00:00</td>\n",
       "      <td>16.21</td>\n",
       "      <td>head</td>\n",
       "      <td>07065X0002</td>\n",
       "      <td>monav3\\obs\\07065X0002.dat</td>\n",
       "      <td>0.018683</td>\n",
       "      <td>07065X0002</td>\n",
       "      <td>none</td>\n",
       "    </tr>\n",
       "  </tbody>\n",
       "</table>\n",
       "</div>"
      ],
      "text/plain": [
       "              obsnme                 date obsval datatype      locnme   \n",
       "loc004n35  loc004n35  2007-12-31 00:00:00  19.83     head  07065X0002  \\\n",
       "loc004n36  loc004n36  2008-12-31 00:00:00  16.46     head  07065X0002   \n",
       "loc004n37  loc004n37  2009-12-31 00:00:00  16.13     head  07065X0002   \n",
       "loc004n38  loc004n38  2010-12-31 00:00:00  16.29     head  07065X0002   \n",
       "loc004n39  loc004n39  2011-12-31 00:00:00  16.21     head  07065X0002   \n",
       "\n",
       "                             obsfile    weight      obgnme trans  \n",
       "loc004n35  monav3\\obs\\07065X0002.dat  0.018683  07065X0002  none  \n",
       "loc004n36  monav3\\obs\\07065X0002.dat  0.018683  07065X0002  none  \n",
       "loc004n37  monav3\\obs\\07065X0002.dat  0.018683  07065X0002  none  \n",
       "loc004n38  monav3\\obs\\07065X0002.dat  0.018683  07065X0002  none  \n",
       "loc004n39  monav3\\obs\\07065X0002.dat  0.018683  07065X0002  none  "
      ]
     },
     "execution_count": 23,
     "metadata": {},
     "output_type": "execute_result"
    }
   ],
   "source": [
    "# -- Fetch weights from source observation file\n",
    "weights = marthe_utils.read_obsfile(ext_file).iloc[:, -1].values\n",
    "\n",
    "# -- Set weight (ex: multiple values)\n",
    "mopt.add_obs(data=ext_file, datatype='head', weight=weights)\n",
    "\n",
    "# -- See results\n",
    "mopt.get_obs_df().query(\"locnme == '07065X0002'\").tail()"
   ]
  },
  {
   "cell_type": "markdown",
   "id": "ac751109",
   "metadata": {},
   "source": [
    "<p>\n",
    "    The <code>MartheOptim</code> instance has already implemented a basic method to compute <b>observations weights</b>. It is based on the observation <b>acceptable error,</b> \\(\\sigma_{i,j,k}^2\\) and a additional <b>tuning factor, </b> \\(\\lambda_i\\) which can be used to increase the weight of one or more data types compared to others.\n",
    "</p>\n",
    "\n",
    "<br>\n",
    "\n",
    "<div align=\"center\">\n",
    "    <font size=\"5.5\">\n",
    "        \\[\n",
    "        w_{i,j,k} = \\lambda_i \\sum_{i=1}^{L} \\sum_{j=1}^{M_i} \\sum_{k=1}^{N_{i,j}} \\frac{1}{{L \\cdot M_i \\cdot N_{i,j} \\cdot \\sigma_{i,j,k}^2}}\n",
    "        \\]\n",
    "    </font>\n",
    "</div>\n",
    "\n",
    "<br>\n",
    "\n",
    "<div align=\"left\" style=\"font-size: 14px; padding-left: 50px;\">\n",
    "    <i style=\"font-size: 16px\">where</i>,<br>\n",
    "    \\(L =\\) total number of data types<br>\n",
    "    \\(M_i =\\) total number of stations for the data type \\(i\\)<br>\n",
    "    \\(N_{i,j} =\\) total number of observation record values for the station \\(j\\)  the data type \\(i\\)<br>\n",
    "    \\(\\sigma_{i,j,k}^2 =\\) acceptable error observed/simulated<br>\n",
    "    \\(w_{i,j,k} =\\) weight of observation \\(o_{i,j,k}\\)<br>\n",
    "    \\(\\lambda_i =\\) tuning factor for the data type \\(i\\)<br>\n",
    "</div>\n",
    "\n",
    "<br>\n",
    "\n",
    "Let's take it slow and add all observation data available for **MONA** model and and mean fluctuation for each one."
   ]
  },
  {
   "cell_type": "code",
   "execution_count": 24,
   "id": "960df876",
   "metadata": {},
   "outputs": [
    {
     "name": "stderr",
     "output_type": "stream",
     "text": [
      "C:\\Users\\pierr\\AppData\\Local\\Programs\\Python\\Python310\\lib\\site-packages\\numpy\\lib\\nanfunctions.py:1215: RuntimeWarning: Mean of empty slice\n",
      "C:\\Users\\pierr\\AppData\\Local\\Programs\\Python\\Python310\\lib\\site-packages\\numpy\\lib\\nanfunctions.py:1215: RuntimeWarning: Mean of empty slice\n",
      "C:\\Users\\pierr\\AppData\\Local\\Programs\\Python\\Python310\\lib\\site-packages\\numpy\\lib\\nanfunctions.py:1215: RuntimeWarning: Mean of empty slice\n"
     ]
    },
    {
     "data": {
      "text/html": [
       "<div>\n",
       "<style scoped>\n",
       "    .dataframe tbody tr th:only-of-type {\n",
       "        vertical-align: middle;\n",
       "    }\n",
       "\n",
       "    .dataframe tbody tr th {\n",
       "        vertical-align: top;\n",
       "    }\n",
       "\n",
       "    .dataframe thead th {\n",
       "        text-align: right;\n",
       "    }\n",
       "</style>\n",
       "<table border=\"1\" class=\"dataframe\">\n",
       "  <thead>\n",
       "    <tr style=\"text-align: right;\">\n",
       "      <th></th>\n",
       "      <th></th>\n",
       "      <th>Number of observation</th>\n",
       "    </tr>\n",
       "    <tr>\n",
       "      <th>datatype</th>\n",
       "      <th>obgnme</th>\n",
       "      <th></th>\n",
       "    </tr>\n",
       "  </thead>\n",
       "  <tbody>\n",
       "    <tr>\n",
       "      <th rowspan=\"5\" valign=\"top\">head</th>\n",
       "      <th>07065X0002</th>\n",
       "      <td>40</td>\n",
       "    </tr>\n",
       "    <tr>\n",
       "      <th>07074X0014</th>\n",
       "      <td>40</td>\n",
       "    </tr>\n",
       "    <tr>\n",
       "      <th>07077X0023</th>\n",
       "      <td>40</td>\n",
       "    </tr>\n",
       "    <tr>\n",
       "      <th>07095X0117</th>\n",
       "      <td>40</td>\n",
       "    </tr>\n",
       "    <tr>\n",
       "      <th>07097X0067</th>\n",
       "      <td>40</td>\n",
       "    </tr>\n",
       "    <tr>\n",
       "      <th>...</th>\n",
       "      <th>...</th>\n",
       "      <td>...</td>\n",
       "    </tr>\n",
       "    <tr>\n",
       "      <th rowspan=\"5\" valign=\"top\">head_mn_f</th>\n",
       "      <th>09515X0032_mn_f</th>\n",
       "      <td>40</td>\n",
       "    </tr>\n",
       "    <tr>\n",
       "      <th>09516X0029_mn_f</th>\n",
       "      <td>40</td>\n",
       "    </tr>\n",
       "    <tr>\n",
       "      <th>09517X0013_mn_f</th>\n",
       "      <td>40</td>\n",
       "    </tr>\n",
       "    <tr>\n",
       "      <th>09521X0013_mn_f</th>\n",
       "      <td>40</td>\n",
       "    </tr>\n",
       "    <tr>\n",
       "      <th>09526X0090_mn_f</th>\n",
       "      <td>40</td>\n",
       "    </tr>\n",
       "  </tbody>\n",
       "</table>\n",
       "<p>1269 rows × 1 columns</p>\n",
       "</div>"
      ],
      "text/plain": [
       "                           Number of observation\n",
       "datatype  obgnme                                \n",
       "head      07065X0002                          40\n",
       "          07074X0014                          40\n",
       "          07077X0023                          40\n",
       "          07095X0117                          40\n",
       "          07097X0067                          40\n",
       "...                                          ...\n",
       "head_mn_f 09515X0032_mn_f                     40\n",
       "          09516X0029_mn_f                     40\n",
       "          09517X0013_mn_f                     40\n",
       "          09521X0013_mn_f                     40\n",
       "          09526X0090_mn_f                     40\n",
       "\n",
       "[1269 rows x 1 columns]"
      ]
     },
     "execution_count": 24,
     "metadata": {},
     "output_type": "execute_result"
    }
   ],
   "source": [
    "# -- Remove all existing observation\n",
    "mopt.remove_obs()\n",
    "\n",
    "# -- Iterate over all observation files\n",
    "for obsfile in glob(os.path.join(mm.mldir, 'obs', '*.dat')):\n",
    "    # -- Add observation\n",
    "    mopt.add_obs(data=obsfile, datatype='head', check_loc=False)\n",
    "    \n",
    "# -- Add fluctuation on mean & median for all locnames\n",
    "mopt.add_fluc(tag='_mn_', on='mean')\n",
    "mopt.add_fluc(tag='_md_', on='median')\n",
    "\n",
    "# -- Print infos\n",
    "(\n",
    "    mopt\n",
    "    .get_obs_df()\n",
    "    .groupby(['datatype', 'obgnme'])\n",
    "    .size()\n",
    "    .to_frame('Number of observation')\n",
    ")"
   ]
  },
  {
   "cell_type": "markdown",
   "id": "651dfab4",
   "metadata": {},
   "source": [
    "Next, we will build a simple `DataFrame` with **weights** and **tuning factors** we want to apply (can comes from external files)."
   ]
  },
  {
   "cell_type": "code",
   "execution_count": 25,
   "id": "72cbf1ac",
   "metadata": {},
   "outputs": [
    {
     "data": {
      "text/html": [
       "<div>\n",
       "<style scoped>\n",
       "    .dataframe tbody tr th:only-of-type {\n",
       "        vertical-align: middle;\n",
       "    }\n",
       "\n",
       "    .dataframe tbody tr th {\n",
       "        vertical-align: top;\n",
       "    }\n",
       "\n",
       "    .dataframe thead th {\n",
       "        text-align: right;\n",
       "    }\n",
       "</style>\n",
       "<table border=\"1\" class=\"dataframe\">\n",
       "  <thead>\n",
       "    <tr style=\"text-align: right;\">\n",
       "      <th></th>\n",
       "      <th>head</th>\n",
       "      <th>head_mn_f</th>\n",
       "      <th>head_md_f</th>\n",
       "    </tr>\n",
       "  </thead>\n",
       "  <tbody>\n",
       "    <tr>\n",
       "      <th>lambda</th>\n",
       "      <td>1.5</td>\n",
       "      <td>0.5</td>\n",
       "      <td>1</td>\n",
       "    </tr>\n",
       "    <tr>\n",
       "      <th>sigma</th>\n",
       "      <td>0.01</td>\n",
       "      <td>0.01</td>\n",
       "      <td>0.01</td>\n",
       "    </tr>\n",
       "  </tbody>\n",
       "</table>\n",
       "</div>"
      ],
      "text/plain": [
       "        head head_mn_f head_md_f\n",
       "lambda   1.5       0.5         1\n",
       "sigma   0.01      0.01      0.01"
      ]
     },
     "execution_count": 25,
     "metadata": {},
     "output_type": "execute_result"
    }
   ],
   "source": [
    "# -- Initialize weight_df\n",
    "weight_df = pd.DataFrame(columns=mopt.get_obs_df()['datatype'].unique(), index=['lambda', 'sigma'])\n",
    "\n",
    "# -- Set acceptable error to 0.01 meter\n",
    "weight_df.loc['sigma'] = 0.01\n",
    "\n",
    "# -- Set tuning factors: 1.5 for heads, 0.5 for mean heads fluctuations, 1 for median heads fluctuations\n",
    "weight_df.loc['lambda'] = [1.5, 0.5, 1]\n",
    "\n",
    "# -- Print weights\n",
    "weight_df.head()"
   ]
  },
  {
   "cell_type": "markdown",
   "id": "467b222c",
   "metadata": {},
   "source": [
    "Now let's compute all weights!"
   ]
  },
  {
   "cell_type": "code",
   "execution_count": 26,
   "id": "87fecd2f",
   "metadata": {},
   "outputs": [
    {
     "data": {
      "text/html": [
       "<div>\n",
       "<style scoped>\n",
       "    .dataframe tbody tr th:only-of-type {\n",
       "        vertical-align: middle;\n",
       "    }\n",
       "\n",
       "    .dataframe tbody tr th {\n",
       "        vertical-align: top;\n",
       "    }\n",
       "\n",
       "    .dataframe thead th {\n",
       "        text-align: right;\n",
       "    }\n",
       "</style>\n",
       "<table border=\"1\" class=\"dataframe\">\n",
       "  <thead>\n",
       "    <tr style=\"text-align: right;\">\n",
       "      <th></th>\n",
       "      <th></th>\n",
       "      <th>weight</th>\n",
       "    </tr>\n",
       "    <tr>\n",
       "      <th>datatype</th>\n",
       "      <th>obgnme</th>\n",
       "      <th></th>\n",
       "    </tr>\n",
       "  </thead>\n",
       "  <tbody>\n",
       "    <tr>\n",
       "      <th rowspan=\"5\" valign=\"top\">head</th>\n",
       "      <th>07065X0002</th>\n",
       "      <td>0.543607</td>\n",
       "    </tr>\n",
       "    <tr>\n",
       "      <th>07074X0014</th>\n",
       "      <td>0.543607</td>\n",
       "    </tr>\n",
       "    <tr>\n",
       "      <th>07077X0023</th>\n",
       "      <td>0.543607</td>\n",
       "    </tr>\n",
       "    <tr>\n",
       "      <th>07095X0117</th>\n",
       "      <td>0.543607</td>\n",
       "    </tr>\n",
       "    <tr>\n",
       "      <th>07097X0067</th>\n",
       "      <td>0.543607</td>\n",
       "    </tr>\n",
       "    <tr>\n",
       "      <th>...</th>\n",
       "      <th>...</th>\n",
       "      <td>...</td>\n",
       "    </tr>\n",
       "    <tr>\n",
       "      <th rowspan=\"5\" valign=\"top\">head_mn_f</th>\n",
       "      <th>09515X0032_mn_f</th>\n",
       "      <td>0.313851</td>\n",
       "    </tr>\n",
       "    <tr>\n",
       "      <th>09516X0029_mn_f</th>\n",
       "      <td>0.313851</td>\n",
       "    </tr>\n",
       "    <tr>\n",
       "      <th>09517X0013_mn_f</th>\n",
       "      <td>0.313851</td>\n",
       "    </tr>\n",
       "    <tr>\n",
       "      <th>09521X0013_mn_f</th>\n",
       "      <td>0.313851</td>\n",
       "    </tr>\n",
       "    <tr>\n",
       "      <th>09526X0090_mn_f</th>\n",
       "      <td>0.313851</td>\n",
       "    </tr>\n",
       "  </tbody>\n",
       "</table>\n",
       "<p>1269 rows × 1 columns</p>\n",
       "</div>"
      ],
      "text/plain": [
       "                             weight\n",
       "datatype  obgnme                   \n",
       "head      07065X0002       0.543607\n",
       "          07074X0014       0.543607\n",
       "          07077X0023       0.543607\n",
       "          07095X0117       0.543607\n",
       "          07097X0067       0.543607\n",
       "...                             ...\n",
       "head_mn_f 09515X0032_mn_f  0.313851\n",
       "          09516X0029_mn_f  0.313851\n",
       "          09517X0013_mn_f  0.313851\n",
       "          09521X0013_mn_f  0.313851\n",
       "          09526X0090_mn_f  0.313851\n",
       "\n",
       "[1269 rows x 1 columns]"
      ]
     },
     "execution_count": 26,
     "metadata": {},
     "output_type": "execute_result"
    }
   ],
   "source": [
    "# -- Convert them to dictionaries\n",
    "mopt.compute_weights(lambda_dic= weight_df.loc['lambda'].to_dict(),\n",
    "                     sigma_dic=weight_df.loc['sigma'].to_dict())\n",
    "\n",
    "# -- Plots the weight distribution\n",
    "(\n",
    "    mopt\n",
    "    .get_obs_df()\n",
    "    .groupby(['datatype', 'obgnme'])\n",
    "    .agg({'weight': 'first'})\n",
    ")"
   ]
  },
  {
   "cell_type": "markdown",
   "id": "7c935b17",
   "metadata": {},
   "source": [
    "## 👉 Write _sim_ / _ins_ files"
   ]
  },
  {
   "cell_type": "markdown",
   "id": "3e76e90c",
   "metadata": {},
   "source": [
    "`MartheOptim` also has a builtin method to write instruction files from added observations. Consider using the `.write_insfile()` method."
   ]
  },
  {
   "cell_type": "code",
   "execution_count": 27,
   "id": "2510649f",
   "metadata": {},
   "outputs": [],
   "source": [
    "# -- Just remove duplicated locname\n",
    "toremove = ('07818X0033', '07823X0007', '08018X0004', '08022X0010', '08028X0176', '08036X0948', '08036X0954',\n",
    "            '08046X0005', '08062X0020', '08063X0014', '08075X0014', '08085X0046', '08087X0021', '08087X0022',\n",
    "            '08264X0012', '08272X0500', '08297X0001', '08507X0013', '08797X0205', '09244X0025', '09247X0112',\n",
    "            '09248X0050', '09265X0036')\n",
    "mopt.remove_obs(locnme=[ln for ln in mopt.obs.keys() if ln.startswith(toremove)])"
   ]
  },
  {
   "cell_type": "code",
   "execution_count": 28,
   "id": "88dc43d7",
   "metadata": {},
   "outputs": [
    {
     "name": "stdout",
     "output_type": "stream",
     "text": [
      "pif ~\n",
      " l1 (loc000n00)23:39  \n",
      " l1 (loc000n01)23:39  \n",
      " l1 (loc000n02)23:39  \n",
      " l1 (loc000n03)23:39  \n"
     ]
    }
   ],
   "source": [
    "# -- Write instruction file by locnme\n",
    "mopt.write_insfile(locnme='07065X0002')\n",
    "\n",
    "# -- Print created file\n",
    "!head -n 5 'monav3/pest/ins/07065X0002.ins'"
   ]
  },
  {
   "cell_type": "code",
   "execution_count": 29,
   "id": "5ba82d4d",
   "metadata": {},
   "outputs": [],
   "source": [
    "# -- Write all instruction files at once\n",
    "mopt.write_insfile()"
   ]
  },
  {
   "cell_type": "markdown",
   "id": "294a287c",
   "metadata": {},
   "source": [
    "<div class=\"alert alert-warning\" role=\"alert\">\n",
    "    <span style=\"color: darkorange; font-size: 16px; font-weight: bold;\">⚠ Warning: </span>\n",
    "    <span style=\"color: darkorange;\"> to write <b>instruction files</b> step-by-step, the user has to <b>disable</b> the <i>auto-cleaning</i> by setting <code>cleanup=False</code>.\n",
    "</div>"
   ]
  },
  {
   "cell_type": "markdown",
   "id": "ca21e788",
   "metadata": {},
   "source": [
    "The PEST tools not only requires the instruction files but also the equivalent **Marthe** model output data (_historiq.prn_). In general, these files are generated after a **forward run**. The `pyEMU` library use the pest `inscheck` **executable** to build the its `Pst` instance during the setup. In consequence, that produces a bunch of anoying **pest inscheck warnings**. PyMarthe can avoid these by extracting required simulated data before the _.pst_ file construction thanks to the `.write_simfile()` method. The only prerequisite is to have a _historiq.prn_ file, i.e. to have run the model at least 1 time."
   ]
  },
  {
   "cell_type": "code",
   "execution_count": 33,
   "id": "78e66949",
   "metadata": {},
   "outputs": [
    {
     "name": "stdout",
     "output_type": "stream",
     "text": [
      "1972-12-31 00:00:00   1.3209670000E+01     \n",
      "1973-12-31 00:00:00   1.3209900000E+01     \n",
      "1974-12-31 00:00:00   1.3209440000E+01     \n",
      "1975-12-31 00:00:00   1.3210340000E+01     \n",
      "1976-12-31 00:00:00   1.3207430000E+01     \n"
     ]
    }
   ],
   "source": [
    "# -- Pre-write simulated files\n",
    "mopt.write_simfile()\n",
    "\n",
    "# -- See all created file\n",
    "!head -n 5 'monav3/pest/sim/07065X0002.dat'"
   ]
  },
  {
   "cell_type": "markdown",
   "id": "be9470d0",
   "metadata": {},
   "source": [
    "# 🎇 **Parameters management** 🎇"
   ]
  },
  {
   "cell_type": "markdown",
   "id": "9547a15b",
   "metadata": {},
   "source": [
    "A **marthe** model is defined by a serie of **properties**. In order to calibrate or optimize the model, the main goal is to **convert** these model properties to **adjustable parameters**. In `PyMarthe`, there are two types of parameters:\n",
    "\n",
    "- `list-like`: **global** parameters based on **KeysMultiIndex**\n",
    "- `grid-like`: **distributed** parametesr based on **filed properties**\n",
    "\n",
    "Let's start by have a better understanding of these two concepts."
   ]
  },
  {
   "cell_type": "markdown",
   "id": "29d163e0",
   "metadata": {},
   "source": [
    "## 👉 `list-like` parametrization"
   ]
  },
  {
   "cell_type": "markdown",
   "id": "8aacc42c",
   "metadata": {},
   "source": [
    "The `MartheOptim` instance support the parametrisation of some  `list-like` **properties** such as:<br>\n",
    "\n",
    "&emsp;&emsp;➼ `soil` (`MartheSoil`)<br>\n",
    "&emsp;&emsp;➼ `aqpump` (`MarthePump`)<br>\n",
    "&emsp;&emsp;➼ `rivpump` (`MarthePump`)<br>\n",
    "    \n",
    "The parametrisation of list-like properties are based on a **KeysMultiIndex** (`kmi`) argument: this is a _pandas_ `MultiIndex` object where `keys` are provided by the user and correspond to a **non-unique set of parameters**. These `keys` must be part of the column names of the data of the entity parametrised. For example, for **pumping data**, the `keys` must be in `mm.prop['aqpump'].data.columns`.<br>\n",
    "The other main argument to provide is the name of the column which parmeter values are located  (`value_col`).\n",
    "\n",
    "Let's try to perform parametrise some **pumping data** of the **MONA** model."
   ]
  },
  {
   "cell_type": "markdown",
   "id": "4141f550",
   "metadata": {},
   "source": [
    "<div class=\"alert alert-info\" role=\"alert\">\n",
    "    <span style=\"color: blue; font-size: 16px; font-weight: bold;\">✔ NOTE: </span>\n",
    "    <span style=\"color: darkblue;\"> to easily build the <code>kmi</code> object, consider using provided tools such as <code>pest_utils.get_kmi()</code> fucntion.\n",
    "    </span>\n",
    "</div>"
   ]
  },
  {
   "cell_type": "markdown",
   "id": "64f089e1",
   "metadata": {},
   "source": [
    "To begin with, let's load **pumping data** and extract 2 arbitrary pumping wells to parametrize."
   ]
  },
  {
   "cell_type": "code",
   "execution_count": 134,
   "id": "c0e342bd",
   "metadata": {},
   "outputs": [
    {
     "name": "stdout",
     "output_type": "stream",
     "text": [
      "Selected wells:\n",
      " ['aqpump_035533', 'aqpump_031686']\n"
     ]
    }
   ],
   "source": [
    "# ---- Read aquifer pumping data\n",
    "mm.load_prop('aqpump', verbose=False)\n",
    "mp = mm.prop['aqpump']\n",
    "\n",
    "# -- Select arbitrary wells (2 first)\n",
    "wids = mp.data.boundname[:2]\n",
    "\n",
    "# -- Print selected wells\n",
    "print('Selected wells:\\n', wids.to_list())"
   ]
  },
  {
   "cell_type": "markdown",
   "id": "4879362e",
   "metadata": {},
   "source": [
    "### ☛ Build `kmi`"
   ]
  },
  {
   "cell_type": "markdown",
   "id": "d077808a",
   "metadata": {},
   "source": [
    "The fun part can finally begin!<br>\n",
    "\n",
    "Let's assume that we want to parametrize the column named `value` (_pumping rate_) according to the following `keys` ➟ _`istep`_, _`layer`_, _`boundname`_.<br>\n",
    "\n",
    "**What does this mean in practice❔**\n",
    "\n",
    "Well, you can consider the `keys` as **fixed characteristics** of the well and its records, whereas the `value` correspond to the variables we will be able to **modify / change** during the _calibration_/_optimisation_ process.\n",
    "\n",
    "Of course, it is possible to specify the exact keys we want to use for parametrisation (_ex: only the 10 first `itsep`_)"
   ]
  },
  {
   "cell_type": "code",
   "execution_count": 135,
   "id": "38c3aa6a",
   "metadata": {},
   "outputs": [
    {
     "name": "stdout",
     "output_type": "stream",
     "text": [
      "MultiIndex([('aqpump_035533', 1,  0),\n",
      "            ('aqpump_035533', 1,  1),\n",
      "            ('aqpump_035533', 1,  2),\n",
      "            ('aqpump_035533', 1,  3),\n",
      "            ('aqpump_035533', 1,  4),\n",
      "            ('aqpump_035533', 1,  5),\n",
      "            ('aqpump_035533', 1,  6),\n",
      "            ('aqpump_035533', 1,  7),\n",
      "            ('aqpump_035533', 1,  8),\n",
      "            ('aqpump_035533', 1,  9),\n",
      "            ('aqpump_035533', 1, 10),\n",
      "            ('aqpump_035533', 1, 11),\n",
      "            ('aqpump_035533', 1, 12),\n",
      "            ('aqpump_035533', 1, 13),\n",
      "            ('aqpump_035533', 1, 14),\n",
      "            ('aqpump_035533', 1, 15),\n",
      "            ('aqpump_035533', 1, 16),\n",
      "            ('aqpump_035533', 1, 17),\n",
      "            ('aqpump_035533', 1, 18),\n",
      "            ('aqpump_035533', 1, 19),\n",
      "            ('aqpump_035533', 1, 20),\n",
      "            ('aqpump_035533', 1, 21),\n",
      "            ('aqpump_035533', 1, 22),\n",
      "            ('aqpump_035533', 1, 23),\n",
      "            ('aqpump_035533', 1, 24),\n",
      "            ('aqpump_035533', 1, 25),\n",
      "            ('aqpump_035533', 1, 26),\n",
      "            ('aqpump_035533', 1, 27),\n",
      "            ('aqpump_035533', 1, 28),\n",
      "            ('aqpump_035533', 1, 29),\n",
      "            ('aqpump_035533', 1, 30),\n",
      "            ('aqpump_035533', 1, 31),\n",
      "            ('aqpump_035533', 1, 32),\n",
      "            ('aqpump_035533', 1, 33),\n",
      "            ('aqpump_035533', 1, 34),\n",
      "            ('aqpump_035533', 1, 35),\n",
      "            ('aqpump_035533', 1, 36),\n",
      "            ('aqpump_035533', 1, 37),\n",
      "            ('aqpump_035533', 1, 38),\n",
      "            ('aqpump_035533', 1, 39)],\n",
      "           names=['boundname', 'layer', 'istep'])\n"
     ]
    }
   ],
   "source": [
    "# -- Build a basic `kmi` object for the first pumping well\n",
    "kmi0 = pest_utils.get_kmi(mobj=mp,\n",
    "                          keys=['boundname', 'layer', 'istep'],\n",
    "                          boundname=wids[0],\n",
    "                          layer=1)\n",
    "\n",
    "# -- See results\n",
    "print(kmi0)"
   ]
  },
  {
   "cell_type": "markdown",
   "id": "6fabc98f",
   "metadata": {},
   "source": [
    "### ☛ Add parameters"
   ]
  },
  {
   "cell_type": "markdown",
   "id": "5a57cffd",
   "metadata": {},
   "source": [
    "Next, to add a `list-like` set of parameters in the main `MartheOptim` instance, consider unsing the `.add_param()` method. This will create a new `MartheListParam`  instance in the parameter storage `.param`."
   ]
  },
  {
   "cell_type": "code",
   "execution_count": 136,
   "id": "5936aba2",
   "metadata": {},
   "outputs": [
    {
     "name": "stdout",
     "output_type": "stream",
     "text": [
      "Parameter storage:\n"
     ]
    },
    {
     "data": {
      "text/plain": [
       "{'hk': <pymarthe.mparam.MartheGridParam at 0x177bdf87190>,\n",
       " 'aqpump_035533': <pymarthe.mparam.MartheListParam at 0x177c0bf3af0>}"
      ]
     },
     "execution_count": 136,
     "metadata": {},
     "output_type": "execute_result"
    }
   ],
   "source": [
    "# -- Simple list-like parameter implementation\n",
    "mopt.add_param(parname=wids[0], mobj=mp, kmi=kmi0)\n",
    "\n",
    "# -- See results\n",
    "print('Parameter storage:')\n",
    "mopt.param"
   ]
  },
  {
   "cell_type": "code",
   "execution_count": 137,
   "id": "fd69f2ca",
   "metadata": {},
   "outputs": [
    {
     "name": "stdout",
     "output_type": "stream",
     "text": [
      "\t MartheListParam \n",
      " ------------------------------\n",
      "Parameter name: aqpump_035533\n",
      "Parameter group: aqpump_035533\n",
      "Parameter model property: MarthePump\n",
      "Parameter type: list\n",
      "Parameter target column: 'value'\n",
      "Parameter file: monav3\\pest\\par\n",
      "Template file: monav3\\pest\\tpl\n",
      "Parameter data:\n"
     ]
    },
    {
     "data": {
      "text/html": [
       "<div>\n",
       "<style scoped>\n",
       "    .dataframe tbody tr th:only-of-type {\n",
       "        vertical-align: middle;\n",
       "    }\n",
       "\n",
       "    .dataframe tbody tr th {\n",
       "        vertical-align: top;\n",
       "    }\n",
       "\n",
       "    .dataframe thead th {\n",
       "        text-align: right;\n",
       "    }\n",
       "</style>\n",
       "<table border=\"1\" class=\"dataframe\">\n",
       "  <thead>\n",
       "    <tr style=\"text-align: right;\">\n",
       "      <th></th>\n",
       "      <th>parnme</th>\n",
       "      <th>trans</th>\n",
       "      <th>btrans</th>\n",
       "      <th>parchglim</th>\n",
       "      <th>defaultvalue</th>\n",
       "      <th>parlbnd</th>\n",
       "      <th>parubnd</th>\n",
       "      <th>pargp</th>\n",
       "      <th>scale</th>\n",
       "      <th>offset</th>\n",
       "      <th>dercom</th>\n",
       "    </tr>\n",
       "  </thead>\n",
       "  <tbody>\n",
       "    <tr>\n",
       "      <th>aqpump_035533__1__35</th>\n",
       "      <td>aqpump_035533__1__35</td>\n",
       "      <td>none</td>\n",
       "      <td>none</td>\n",
       "      <td>factor</td>\n",
       "      <td>0.0</td>\n",
       "      <td>1.000000e-10</td>\n",
       "      <td>1.000000e+10</td>\n",
       "      <td>aqpump_035533</td>\n",
       "      <td>1</td>\n",
       "      <td>0</td>\n",
       "      <td>1</td>\n",
       "    </tr>\n",
       "    <tr>\n",
       "      <th>aqpump_035533__1__36</th>\n",
       "      <td>aqpump_035533__1__36</td>\n",
       "      <td>none</td>\n",
       "      <td>none</td>\n",
       "      <td>factor</td>\n",
       "      <td>0.0</td>\n",
       "      <td>1.000000e-10</td>\n",
       "      <td>1.000000e+10</td>\n",
       "      <td>aqpump_035533</td>\n",
       "      <td>1</td>\n",
       "      <td>0</td>\n",
       "      <td>1</td>\n",
       "    </tr>\n",
       "    <tr>\n",
       "      <th>aqpump_035533__1__37</th>\n",
       "      <td>aqpump_035533__1__37</td>\n",
       "      <td>none</td>\n",
       "      <td>none</td>\n",
       "      <td>factor</td>\n",
       "      <td>0.0</td>\n",
       "      <td>1.000000e-10</td>\n",
       "      <td>1.000000e+10</td>\n",
       "      <td>aqpump_035533</td>\n",
       "      <td>1</td>\n",
       "      <td>0</td>\n",
       "      <td>1</td>\n",
       "    </tr>\n",
       "    <tr>\n",
       "      <th>aqpump_035533__1__38</th>\n",
       "      <td>aqpump_035533__1__38</td>\n",
       "      <td>none</td>\n",
       "      <td>none</td>\n",
       "      <td>factor</td>\n",
       "      <td>0.0</td>\n",
       "      <td>1.000000e-10</td>\n",
       "      <td>1.000000e+10</td>\n",
       "      <td>aqpump_035533</td>\n",
       "      <td>1</td>\n",
       "      <td>0</td>\n",
       "      <td>1</td>\n",
       "    </tr>\n",
       "    <tr>\n",
       "      <th>aqpump_035533__1__39</th>\n",
       "      <td>aqpump_035533__1__39</td>\n",
       "      <td>none</td>\n",
       "      <td>none</td>\n",
       "      <td>factor</td>\n",
       "      <td>0.0</td>\n",
       "      <td>1.000000e-10</td>\n",
       "      <td>1.000000e+10</td>\n",
       "      <td>aqpump_035533</td>\n",
       "      <td>1</td>\n",
       "      <td>0</td>\n",
       "      <td>1</td>\n",
       "    </tr>\n",
       "  </tbody>\n",
       "</table>\n",
       "</div>"
      ],
      "text/plain": [
       "                                    parnme trans btrans parchglim   \n",
       "aqpump_035533__1__35  aqpump_035533__1__35  none   none    factor  \\\n",
       "aqpump_035533__1__36  aqpump_035533__1__36  none   none    factor   \n",
       "aqpump_035533__1__37  aqpump_035533__1__37  none   none    factor   \n",
       "aqpump_035533__1__38  aqpump_035533__1__38  none   none    factor   \n",
       "aqpump_035533__1__39  aqpump_035533__1__39  none   none    factor   \n",
       "\n",
       "                      defaultvalue       parlbnd       parubnd          pargp   \n",
       "aqpump_035533__1__35           0.0  1.000000e-10  1.000000e+10  aqpump_035533  \\\n",
       "aqpump_035533__1__36           0.0  1.000000e-10  1.000000e+10  aqpump_035533   \n",
       "aqpump_035533__1__37           0.0  1.000000e-10  1.000000e+10  aqpump_035533   \n",
       "aqpump_035533__1__38           0.0  1.000000e-10  1.000000e+10  aqpump_035533   \n",
       "aqpump_035533__1__39           0.0  1.000000e-10  1.000000e+10  aqpump_035533   \n",
       "\n",
       "                      scale  offset  dercom  \n",
       "aqpump_035533__1__35      1       0       1  \n",
       "aqpump_035533__1__36      1       0       1  \n",
       "aqpump_035533__1__37      1       0       1  \n",
       "aqpump_035533__1__38      1       0       1  \n",
       "aqpump_035533__1__39      1       0       1  "
      ]
     },
     "execution_count": 137,
     "metadata": {},
     "output_type": "execute_result"
    }
   ],
   "source": [
    "# -- Print MartheListParam infos\n",
    "mlp = mopt.param['aqpump_035533']\n",
    "print('\\t', mlp, '\\n', '-'*30)\n",
    "print('Parameter name:', mlp.parname)\n",
    "print('Parameter group:', mlp.pargp)\n",
    "print('Parameter model property:', mlp.mobj)\n",
    "print('Parameter type:', mlp.type)\n",
    "print('Parameter target column:', f\"'{mlp.value_col}'\")\n",
    "print('Parameter file:', mlp.parpath)\n",
    "print('Template file:', mlp.tplpath)\n",
    "print('Parameter data:')\n",
    "mopt.get_param_df().tail()"
   ]
  },
  {
   "cell_type": "markdown",
   "id": "ffd48163",
   "metadata": {},
   "source": [
    "The user can easily set a **initial value** of to the added parameter using the `defaultvalue` argument, otherwise, the **current values** in the property class of the model will be considered."
   ]
  },
  {
   "cell_type": "code",
   "execution_count": 138,
   "id": "eaed0293",
   "metadata": {},
   "outputs": [
    {
     "name": "stdout",
     "output_type": "stream",
     "text": [
      "Parameter data:\n"
     ]
    },
    {
     "name": "stderr",
     "output_type": "stream",
     "text": [
      "C:\\Users\\pierr\\OneDrive\\Documents\\dev\\adeqwat\\examples\\..\\pymarthe\\moptim.py:830: Warning: WARNING : parname `aqpump_035533` already added. It will be overwrited.\n"
     ]
    },
    {
     "data": {
      "text/html": [
       "<div>\n",
       "<style scoped>\n",
       "    .dataframe tbody tr th:only-of-type {\n",
       "        vertical-align: middle;\n",
       "    }\n",
       "\n",
       "    .dataframe tbody tr th {\n",
       "        vertical-align: top;\n",
       "    }\n",
       "\n",
       "    .dataframe thead th {\n",
       "        text-align: right;\n",
       "    }\n",
       "</style>\n",
       "<table border=\"1\" class=\"dataframe\">\n",
       "  <thead>\n",
       "    <tr style=\"text-align: right;\">\n",
       "      <th></th>\n",
       "      <th>parnme</th>\n",
       "      <th>trans</th>\n",
       "      <th>btrans</th>\n",
       "      <th>parchglim</th>\n",
       "      <th>defaultvalue</th>\n",
       "      <th>parlbnd</th>\n",
       "      <th>parubnd</th>\n",
       "      <th>pargp</th>\n",
       "      <th>scale</th>\n",
       "      <th>offset</th>\n",
       "      <th>dercom</th>\n",
       "    </tr>\n",
       "  </thead>\n",
       "  <tbody>\n",
       "    <tr>\n",
       "      <th>aqpump_035533__1__35</th>\n",
       "      <td>aqpump_035533__1__35</td>\n",
       "      <td>none</td>\n",
       "      <td>none</td>\n",
       "      <td>factor</td>\n",
       "      <td>-14.3</td>\n",
       "      <td>1.000000e-10</td>\n",
       "      <td>1.000000e+10</td>\n",
       "      <td>aqpump_035533</td>\n",
       "      <td>1</td>\n",
       "      <td>0</td>\n",
       "      <td>1</td>\n",
       "    </tr>\n",
       "    <tr>\n",
       "      <th>aqpump_035533__1__36</th>\n",
       "      <td>aqpump_035533__1__36</td>\n",
       "      <td>none</td>\n",
       "      <td>none</td>\n",
       "      <td>factor</td>\n",
       "      <td>-14.3</td>\n",
       "      <td>1.000000e-10</td>\n",
       "      <td>1.000000e+10</td>\n",
       "      <td>aqpump_035533</td>\n",
       "      <td>1</td>\n",
       "      <td>0</td>\n",
       "      <td>1</td>\n",
       "    </tr>\n",
       "    <tr>\n",
       "      <th>aqpump_035533__1__37</th>\n",
       "      <td>aqpump_035533__1__37</td>\n",
       "      <td>none</td>\n",
       "      <td>none</td>\n",
       "      <td>factor</td>\n",
       "      <td>-14.3</td>\n",
       "      <td>1.000000e-10</td>\n",
       "      <td>1.000000e+10</td>\n",
       "      <td>aqpump_035533</td>\n",
       "      <td>1</td>\n",
       "      <td>0</td>\n",
       "      <td>1</td>\n",
       "    </tr>\n",
       "    <tr>\n",
       "      <th>aqpump_035533__1__38</th>\n",
       "      <td>aqpump_035533__1__38</td>\n",
       "      <td>none</td>\n",
       "      <td>none</td>\n",
       "      <td>factor</td>\n",
       "      <td>-14.3</td>\n",
       "      <td>1.000000e-10</td>\n",
       "      <td>1.000000e+10</td>\n",
       "      <td>aqpump_035533</td>\n",
       "      <td>1</td>\n",
       "      <td>0</td>\n",
       "      <td>1</td>\n",
       "    </tr>\n",
       "    <tr>\n",
       "      <th>aqpump_035533__1__39</th>\n",
       "      <td>aqpump_035533__1__39</td>\n",
       "      <td>none</td>\n",
       "      <td>none</td>\n",
       "      <td>factor</td>\n",
       "      <td>-14.3</td>\n",
       "      <td>1.000000e-10</td>\n",
       "      <td>1.000000e+10</td>\n",
       "      <td>aqpump_035533</td>\n",
       "      <td>1</td>\n",
       "      <td>0</td>\n",
       "      <td>1</td>\n",
       "    </tr>\n",
       "  </tbody>\n",
       "</table>\n",
       "</div>"
      ],
      "text/plain": [
       "                                    parnme trans btrans parchglim   \n",
       "aqpump_035533__1__35  aqpump_035533__1__35  none   none    factor  \\\n",
       "aqpump_035533__1__36  aqpump_035533__1__36  none   none    factor   \n",
       "aqpump_035533__1__37  aqpump_035533__1__37  none   none    factor   \n",
       "aqpump_035533__1__38  aqpump_035533__1__38  none   none    factor   \n",
       "aqpump_035533__1__39  aqpump_035533__1__39  none   none    factor   \n",
       "\n",
       "                      defaultvalue       parlbnd       parubnd          pargp   \n",
       "aqpump_035533__1__35         -14.3  1.000000e-10  1.000000e+10  aqpump_035533  \\\n",
       "aqpump_035533__1__36         -14.3  1.000000e-10  1.000000e+10  aqpump_035533   \n",
       "aqpump_035533__1__37         -14.3  1.000000e-10  1.000000e+10  aqpump_035533   \n",
       "aqpump_035533__1__38         -14.3  1.000000e-10  1.000000e+10  aqpump_035533   \n",
       "aqpump_035533__1__39         -14.3  1.000000e-10  1.000000e+10  aqpump_035533   \n",
       "\n",
       "                      scale  offset  dercom  \n",
       "aqpump_035533__1__35      1       0       1  \n",
       "aqpump_035533__1__36      1       0       1  \n",
       "aqpump_035533__1__37      1       0       1  \n",
       "aqpump_035533__1__38      1       0       1  \n",
       "aqpump_035533__1__39      1       0       1  "
      ]
     },
     "execution_count": 138,
     "metadata": {},
     "output_type": "execute_result"
    }
   ],
   "source": [
    "# -- Set a default initial pumping rate value\n",
    "mopt.add_param(parname=wids[0], mobj=mp, kmi=kmi0, defaultvalue=-14.3)\n",
    "\n",
    "# -- See results\n",
    "print('Parameter data:')\n",
    "mopt.get_param_df().tail()"
   ]
  },
  {
   "cell_type": "markdown",
   "id": "1bbcab37",
   "metadata": {},
   "source": [
    "### ☛ Apply transformations"
   ]
  },
  {
   "cell_type": "markdown",
   "id": "4ce72089",
   "metadata": {},
   "source": [
    "This is totaly possible to attach a data **transformation** process to the required  values to optimised. However, unlike observations, it is also necessary to enter the **back-transformation**. The transformation can be specified:<br>\n",
    "\n",
    "&emsp;&emsp;<span style=\"font-size: 20px\">➀</span> **During** parameter implementation (`trans`, `btrans` arguments)<br>\n",
    "&emsp;&emsp;<span style=\"font-size: 20px\">➁</span> **After** parameter implementation (`.set_param_trans()` method)<br>\n",
    "\n",
    "The transformation to apply **must be valid** otherwise an error will be raised. It can be a:\n",
    "\n",
    "- **Basic `str` function**: _`'log10'`_, _`'sqrt'`_, ...\n",
    "- **Evaluable callable**: _`'lambda x: 10**(x + 1)'`_, _`'lambda x: -x'`_, ...\n",
    "\n",
    "Let's try to apply **absolute transformation** to pumping parameter values. Note that pumping data are always $<=0$."
   ]
  },
  {
   "cell_type": "code",
   "execution_count": 139,
   "id": "31a8124b",
   "metadata": {},
   "outputs": [
    {
     "name": "stdout",
     "output_type": "stream",
     "text": [
      "Parameter data (transformed):\n"
     ]
    },
    {
     "data": {
      "text/html": [
       "<div>\n",
       "<style scoped>\n",
       "    .dataframe tbody tr th:only-of-type {\n",
       "        vertical-align: middle;\n",
       "    }\n",
       "\n",
       "    .dataframe tbody tr th {\n",
       "        vertical-align: top;\n",
       "    }\n",
       "\n",
       "    .dataframe thead th {\n",
       "        text-align: right;\n",
       "    }\n",
       "</style>\n",
       "<table border=\"1\" class=\"dataframe\">\n",
       "  <thead>\n",
       "    <tr style=\"text-align: right;\">\n",
       "      <th></th>\n",
       "      <th>parnme</th>\n",
       "      <th>trans</th>\n",
       "      <th>btrans</th>\n",
       "      <th>parchglim</th>\n",
       "      <th>defaultvalue</th>\n",
       "      <th>parlbnd</th>\n",
       "      <th>parubnd</th>\n",
       "      <th>pargp</th>\n",
       "      <th>scale</th>\n",
       "      <th>offset</th>\n",
       "      <th>dercom</th>\n",
       "    </tr>\n",
       "  </thead>\n",
       "  <tbody>\n",
       "    <tr>\n",
       "      <th>aqpump_031686__1__37</th>\n",
       "      <td>aqpump_031686__1__37</td>\n",
       "      <td>abs</td>\n",
       "      <td>lambda x : -x</td>\n",
       "      <td>factor</td>\n",
       "      <td>21.9</td>\n",
       "      <td>1.000000e-10</td>\n",
       "      <td>1.000000e+10</td>\n",
       "      <td>aqpump_031686</td>\n",
       "      <td>1</td>\n",
       "      <td>0</td>\n",
       "      <td>1</td>\n",
       "    </tr>\n",
       "    <tr>\n",
       "      <th>aqpump_031686__1__38</th>\n",
       "      <td>aqpump_031686__1__38</td>\n",
       "      <td>abs</td>\n",
       "      <td>lambda x : -x</td>\n",
       "      <td>factor</td>\n",
       "      <td>21.9</td>\n",
       "      <td>1.000000e-10</td>\n",
       "      <td>1.000000e+10</td>\n",
       "      <td>aqpump_031686</td>\n",
       "      <td>1</td>\n",
       "      <td>0</td>\n",
       "      <td>1</td>\n",
       "    </tr>\n",
       "    <tr>\n",
       "      <th>aqpump_031686__1__39</th>\n",
       "      <td>aqpump_031686__1__39</td>\n",
       "      <td>abs</td>\n",
       "      <td>lambda x : -x</td>\n",
       "      <td>factor</td>\n",
       "      <td>21.9</td>\n",
       "      <td>1.000000e-10</td>\n",
       "      <td>1.000000e+10</td>\n",
       "      <td>aqpump_031686</td>\n",
       "      <td>1</td>\n",
       "      <td>0</td>\n",
       "      <td>1</td>\n",
       "    </tr>\n",
       "  </tbody>\n",
       "</table>\n",
       "</div>"
      ],
      "text/plain": [
       "                                    parnme trans         btrans parchglim   \n",
       "aqpump_031686__1__37  aqpump_031686__1__37   abs  lambda x : -x    factor  \\\n",
       "aqpump_031686__1__38  aqpump_031686__1__38   abs  lambda x : -x    factor   \n",
       "aqpump_031686__1__39  aqpump_031686__1__39   abs  lambda x : -x    factor   \n",
       "\n",
       "                      defaultvalue       parlbnd       parubnd          pargp   \n",
       "aqpump_031686__1__37          21.9  1.000000e-10  1.000000e+10  aqpump_031686  \\\n",
       "aqpump_031686__1__38          21.9  1.000000e-10  1.000000e+10  aqpump_031686   \n",
       "aqpump_031686__1__39          21.9  1.000000e-10  1.000000e+10  aqpump_031686   \n",
       "\n",
       "                      scale  offset  dercom  \n",
       "aqpump_031686__1__37      1       0       1  \n",
       "aqpump_031686__1__38      1       0       1  \n",
       "aqpump_031686__1__39      1       0       1  "
      ]
     },
     "execution_count": 139,
     "metadata": {},
     "output_type": "execute_result"
    }
   ],
   "source": [
    "# -- Get kmi for second pumping well\n",
    "kmi1 = pest_utils.get_kmi(mobj=mp,\n",
    "                          keys=['boundname', 'layer', 'istep', ],\n",
    "                          layer=1, boundname=wids[1])\n",
    "\n",
    "# -- Add parameters with transformations\n",
    "mopt.add_param(parname=wids[1], mobj=mp,\n",
    "               kmi=kmi1, value_col='value',\n",
    "               trans='abs',\n",
    "               btrans='lambda x : -x')\n",
    "\n",
    "# -- See results\n",
    "print('Parameter data (transformed):')\n",
    "mopt.get_param_df(transformed=True).tail(3) # defaultvalue must be > 0 now"
   ]
  },
  {
   "cell_type": "code",
   "execution_count": 140,
   "id": "513657fd",
   "metadata": {},
   "outputs": [],
   "source": [
    "# -- Apply transformation a posteriori (on target locnme)\n",
    "mopt.set_param_trans(trans='sqrt', btrans='lambda x: x**2', parname=wids[0])"
   ]
  },
  {
   "cell_type": "code",
   "execution_count": 141,
   "id": "9da6a092",
   "metadata": {},
   "outputs": [
    {
     "data": {
      "text/html": [
       "<div>\n",
       "<style scoped>\n",
       "    .dataframe tbody tr th:only-of-type {\n",
       "        vertical-align: middle;\n",
       "    }\n",
       "\n",
       "    .dataframe tbody tr th {\n",
       "        vertical-align: top;\n",
       "    }\n",
       "\n",
       "    .dataframe thead th {\n",
       "        text-align: right;\n",
       "    }\n",
       "</style>\n",
       "<table border=\"1\" class=\"dataframe\">\n",
       "  <thead>\n",
       "    <tr style=\"text-align: right;\">\n",
       "      <th></th>\n",
       "      <th>trans</th>\n",
       "      <th>btrans</th>\n",
       "    </tr>\n",
       "    <tr>\n",
       "      <th>pargp</th>\n",
       "      <th></th>\n",
       "      <th></th>\n",
       "    </tr>\n",
       "  </thead>\n",
       "  <tbody>\n",
       "    <tr>\n",
       "      <th>aqpump_031686</th>\n",
       "      <td>none</td>\n",
       "      <td>none</td>\n",
       "    </tr>\n",
       "    <tr>\n",
       "      <th>aqpump_035533</th>\n",
       "      <td>sqrt</td>\n",
       "      <td>lambda x: x**2</td>\n",
       "    </tr>\n",
       "    <tr>\n",
       "      <th>hk_pp</th>\n",
       "      <td>sqrt</td>\n",
       "      <td>lambda x: x**2</td>\n",
       "    </tr>\n",
       "  </tbody>\n",
       "</table>\n",
       "</div>"
      ],
      "text/plain": [
       "              trans          btrans\n",
       "pargp                              \n",
       "aqpump_031686  none            none\n",
       "aqpump_035533  sqrt  lambda x: x**2\n",
       "hk_pp          sqrt  lambda x: x**2"
      ]
     },
     "execution_count": 141,
     "metadata": {},
     "output_type": "execute_result"
    }
   ],
   "source": [
    "# -- Apply transformation a posteriori (on target parname)\n",
    "mopt.set_param_trans(trans='sqrt', btrans='lambda x: x**2', parname=wids[0])\n",
    "\n",
    "# -- Reset transformation a posteriori (on target pargp)\n",
    "mopt.set_param_trans('none', 'none', pargp=wids[1])\n",
    "\n",
    "# -- See results\n",
    "(\n",
    "    mopt\n",
    "    .get_param_df()\n",
    "    .groupby('pargp')\n",
    "    .agg({'trans': 'first', 'btrans': 'first'})\n",
    ")"
   ]
  },
  {
   "cell_type": "markdown",
   "id": "30059486",
   "metadata": {},
   "source": [
    "<div class=\"alert alert-info\" role=\"alert\">\n",
    "    <span style=\"color: blue; font-size: 16px; font-weight: bold;\">✔ NOTE: </span>\n",
    "    <span style=\"color: darkblue;\"> several other <i><b>PEST-related</i> arguments</b> can be added during parameter implementation. Feel free to consult <code>help(mopt.add_param)</code>.\n",
    "    </span>\n",
    "</div>"
   ]
  },
  {
   "cell_type": "markdown",
   "id": "b77c273c",
   "metadata": {},
   "source": [
    "## 👉 `grid-like` parametrization"
   ]
  },
  {
   "cell_type": "markdown",
   "id": "83815567",
   "metadata": {},
   "source": [
    "The `MartheOptim` instance can also support the parametrisation of **distributed properties** based on a **discretised reference field** called an `izone` (`MartheField` instance), where the modeller defines an **specific integer** for each active cell, corresponding to an **zone id**. Each cell with the same **zone id** for a given layer will be parameterised in the same way.\n",
    "\n",
    "There are 2 different ways to parametrise a cell or a bunch of cells:<br>\n",
    "\n",
    "<span style=\"font-size: 24px;\">\n",
    "    &emsp;&emsp;➣\n",
    "</span>\n",
    "<span style=\"font-size: 17px; color: #DA70D6\">\n",
    "    <b>ZPC</b>: <i style=\"font-size: 15px; color: #DDA0DD\"><b>Z</b>one of <b>P</b>iecewise <b>C</b>onstancy</i><br></span>\n",
    "<span style=\"font-size: 24px;\">\n",
    "    &emsp;&emsp;➣\n",
    "</span>\n",
    "<span style=\"font-size: 17px; color: #DA70D6\">\n",
    "    <b>PP</b>: <i style=\"font-size: 15px; color: #DDA0DD\"><b>P</b>ilot <b>P</b>oints</i><br>\n",
    "</span>\n",
    "\n",
    "<br>\n",
    "\n",
    "All the **parametrisation informations** about each active cell are included in the `izone` field.\n",
    "\n",
    "<br>\n",
    "\n",
    "\n",
    "<div style=\"background-color: #008080; padding: 12px; border: 2px solid #40E0D0; border-radius: 10px; font-family: 'Times New Roman', serif; width: 60%; margin: 0 auto;\">\n",
    "  <div style=\"display: flex; justify-content: space-between; align-items: center;\">\n",
    "    <div style=\"font-weight: bold; font-size: 18px; padding: 5px; color: white;\">\n",
    "      <p><code>izone &lt; 0</code></p>\n",
    "      <p><code>izone &gt; 0</code></p>\n",
    "      <p><code>izone = NaN</code></p>\n",
    "      <p><code>izone = &plusmn;9999, 0</code></p>\n",
    "    </div>\n",
    "    <div style=\"position: relative;\">\n",
    "      <span style=\"position: absolute; top: -19px; right: -105px; font-size: 30px; color: #008080; border: 2.5px solid #40E0D0; background-color: white; padding: 10px 15px; border-radius: 50%;\">ℹ️</span>\n",
    "      <div style=\"font-weight: bold; padding: 5px; margin-left: 20px; text-align: right; font-size: 18px; color: white;\">\n",
    "        <p>➸&emsp;&emsp;Zone of piecewise constancy</p>\n",
    "        <p>➸&emsp;&emsp;Zone with pilot points</p>\n",
    "        <p>➸&emsp;&emsp;Zone not parametrised</p>\n",
    "        <p>➸&emsp;&emsp;Inactive zone</p>\n",
    "      </div>\n",
    "    </div>\n",
    "  </div>\n",
    "</div>\n",
    "\n",
    "<br>\n",
    "\n",
    "<div class=\"alert alert-info\" role=\"alert\">\n",
    "    <span style=\"color: blue; font-size: 16px; font-weight: bold;\">✔ NOTE: </span>\n",
    "    <span style=\"color: darkblue;\"> Even if the <code>izone</code> field has to be a <code>MartheField</code> instance, it can be built from <b>any other sources</b> that can writte <b>Marthe</b> grid files. Feel free to use the <b>WinMarthe</b> (<i><b>G</b>raphical <b>I</b>nterface</i>) to generate <code>izone</code> field if it's easier for you.\n",
    "</div>\n"
   ]
  },
  {
   "cell_type": "markdown",
   "id": "37286c4d",
   "metadata": {},
   "source": [
    "### ☛ Manage _**Z**one of **P**iecewise **C**onstancy_ (`zpc`)"
   ]
  },
  {
   "cell_type": "markdown",
   "id": "e980b560",
   "metadata": {},
   "source": [
    "In this section we will focus on `zpc` parametrisation only by creating a basic `izone` object.<br>\n",
    "To begin with, let's fecth the `permh` property and initiase `izone` object."
   ]
  },
  {
   "cell_type": "code",
   "execution_count": 142,
   "id": "e0cdd532",
   "metadata": {},
   "outputs": [
    {
     "data": {
      "image/png": "[encoded data removed]",
      "text/plain": [
       "<Figure size 600x400 with 1 Axes>"
      ]
     },
     "metadata": {},
     "output_type": "display_data"
    }
   ],
   "source": [
    "# -- Load permh property\n",
    "permh = mm.prop['permh']\n",
    "\n",
    "# -- Initiale Marthefield fill with NaN values\n",
    "ipermh = MartheField('ipermh', np.nan, mm)\n",
    "\n",
    "# -- Plot result on layer 6\n",
    "plt.rcParams.update({'font.size': 8})\n",
    "fig, ax = plt.subplots(figsize=(6, 4))\n",
    "ipermh.plot(ax=ax, layer=6, masked_values=[], cmap='Greys_r')\n",
    "plt.delaxes(ax.get_figure().axes[1])"
   ]
  },
  {
   "cell_type": "markdown",
   "id": "dbc30995",
   "metadata": {},
   "source": [
    "To set a `zpc` parametrisation, the user has to set to the related cells a **negative interger**. All the cells with the **same interger** form a **parameterisation zone** with a **uniform field value** (in this case _permeability_) throughout the zone.<br>\n",
    "Let's take it slowly and define first a unique a unique `zpc` for all layers."
   ]
  },
  {
   "cell_type": "code",
   "execution_count": 143,
   "id": "22c2a6d5",
   "metadata": {},
   "outputs": [
    {
     "data": {
      "text/plain": [
       "<Axes: >"
      ]
     },
     "execution_count": 143,
     "metadata": {},
     "output_type": "execute_result"
    },
    {
     "data": {
      "image/png": "[encoded data removed]",
      "text/plain": [
       "<Figure size 600x400 with 2 Axes>"
      ]
     },
     "metadata": {},
     "output_type": "display_data"
    }
   ],
   "source": [
    "# -- Set unique zpc for all layers\n",
    "ipermh.set_data(-1)\n",
    "\n",
    "# -- Plot result on layer 6\n",
    "plt.rcParams.update({'font.size': 8})\n",
    "fig, ax = plt.subplots(figsize=(6, 4))\n",
    "ipermh.plot(ax=ax, layer=6, cmap='Greys_r')"
   ]
  },
  {
   "cell_type": "markdown",
   "id": "e28c1afa",
   "metadata": {},
   "source": [
    "<div class=\"alert alert-info\" role=\"alert\">\n",
    "    <span style=\"color: blue; font-size: 16px; font-weight: bold;\">✔ NOTE: </span>\n",
    "    <span style=\"color: darkblue;\"> a shortcut for creating an <code>izone</code> object composed of a <code>zpc</code> parameterisation on all layers is to use the directly the <code>MartheField</code> constructor (<i>ex:<code>MartheField('izone', -1, mm, use_imask=True)</code></i>).\n",
    "</div>"
   ]
  },
  {
   "cell_type": "markdown",
   "id": "8b99d822",
   "metadata": {},
   "source": [
    "Now let's try to make  a more complex parameterisation on layer $13$ by spliting it into 4 `zpc` according to a **middle point** to finally produce: \n",
    "\n",
    "- **South West**: _`izone = -1`_\n",
    "- **North West**: _`izone = -2`_\n",
    "- **North East**: _`izone = -3`_\n",
    "- **North East**: _`izone = -4`_\n"
   ]
  },
  {
   "cell_type": "code",
   "execution_count": 36,
   "id": "f06156b5",
   "metadata": {},
   "outputs": [
    {
     "data": {
      "text/plain": [
       "Text(0.5, 1.0, 'Multiple zpc parameterisation (layer 13)')"
      ]
     },
     "execution_count": 36,
     "metadata": {},
     "output_type": "execute_result"
    },
    {
     "data": {
      "image/png": "[encoded data removed]",
      "text/plain": [
       "<Figure size 800x500 with 2 Axes>"
      ]
     },
     "metadata": {},
     "output_type": "display_data"
    }
   ],
   "source": [
    "# -- Set split point coordinate\n",
    "x, y, ilay = 451, 276, 13\n",
    "\n",
    "# -- Get layer global mask\n",
    "mask = ipermh.get_data(layer=ilay, masked_values=ipermh.dmv, as_mask=True)\n",
    "\n",
    "# -- Extract cardinal mask\n",
    "south, north = ipermh.data['y'] < y, ipermh.data['y'] > y\n",
    "west, east = ipermh.data['x'] < x, ipermh.data['x'] > x\n",
    "\n",
    "# -- Set zpc ids inplace\n",
    "ipermh.data['value'][np.logical_and.reduce([mask, south, west])] = -1\n",
    "ipermh.data['value'][np.logical_and.reduce([mask, north, west])] = -2\n",
    "ipermh.data['value'][np.logical_and.reduce([mask, north, east])] = -3\n",
    "ipermh.data['value'][np.logical_and.reduce([mask, south, east])] = -4\n",
    "\n",
    "# -- Plot result on layer 13\n",
    "plt.rcParams.update({'font.size': 8})\n",
    "fig, ax = plt.subplots(figsize=(8, 5))\n",
    "ipermh.plot(ax=ax, layer=ilay, lw=.05, ec='k',\n",
    "            cmap=ListedColormap(plt.cm.Pastel1.colors[:4]))\n",
    "\n",
    "# -- Add middle point\n",
    "ax.scatter(x, y, s=40, c='r')\n",
    "ax.text(x, y - 10, 'Middle point',\n",
    "        fontsize=9, fontstyle='italic',\n",
    "        va='top', ha='center')\n",
    "\n",
    "# -- Add title \n",
    "ax.set_title(f'Multiple zpc parameterisation (layer {ilay})',\n",
    "             fontsize=12, fontweight='bold')"
   ]
  },
  {
   "cell_type": "markdown",
   "id": "961e291b",
   "metadata": {},
   "source": [
    "<div class=\"alert alert-info\" role=\"alert\">\n",
    "    <span style=\"color: blue; font-size: 16px; font-weight: bold;\">✔ NOTE: </span>\n",
    "    <span style=\"color: darkblue;\"> remember that this sectorisation is for <b>educational purposes only</b> and makes absolutely no sense from a hydrogeological point of view!\n",
    "</div>"
   ]
  },
  {
   "cell_type": "markdown",
   "id": "052d3818",
   "metadata": {},
   "source": [
    "Let's make a summary of all parametrised layers."
   ]
  },
  {
   "cell_type": "code",
   "execution_count": 38,
   "id": "672b4aea",
   "metadata": {},
   "outputs": [
    {
     "data": {
      "text/html": [
       "<div>\n",
       "<style scoped>\n",
       "    .dataframe tbody tr th:only-of-type {\n",
       "        vertical-align: middle;\n",
       "    }\n",
       "\n",
       "    .dataframe tbody tr th {\n",
       "        vertical-align: top;\n",
       "    }\n",
       "\n",
       "    .dataframe thead th {\n",
       "        text-align: right;\n",
       "    }\n",
       "</style>\n",
       "<table border=\"1\" class=\"dataframe\">\n",
       "  <thead>\n",
       "    <tr style=\"text-align: right;\">\n",
       "      <th></th>\n",
       "      <th></th>\n",
       "      <th>ncells</th>\n",
       "    </tr>\n",
       "    <tr>\n",
       "      <th>layer</th>\n",
       "      <th>zpc</th>\n",
       "      <th></th>\n",
       "    </tr>\n",
       "  </thead>\n",
       "  <tbody>\n",
       "    <tr>\n",
       "      <th>0</th>\n",
       "      <th>-1</th>\n",
       "      <td>2874</td>\n",
       "    </tr>\n",
       "    <tr>\n",
       "      <th>1</th>\n",
       "      <th>-1</th>\n",
       "      <td>2227</td>\n",
       "    </tr>\n",
       "    <tr>\n",
       "      <th>2</th>\n",
       "      <th>-1</th>\n",
       "      <td>3161</td>\n",
       "    </tr>\n",
       "    <tr>\n",
       "      <th>3</th>\n",
       "      <th>-1</th>\n",
       "      <td>4055</td>\n",
       "    </tr>\n",
       "    <tr>\n",
       "      <th>4</th>\n",
       "      <th>-1</th>\n",
       "      <td>3899</td>\n",
       "    </tr>\n",
       "    <tr>\n",
       "      <th>5</th>\n",
       "      <th>-1</th>\n",
       "      <td>4331</td>\n",
       "    </tr>\n",
       "    <tr>\n",
       "      <th>6</th>\n",
       "      <th>-1</th>\n",
       "      <td>4326</td>\n",
       "    </tr>\n",
       "    <tr>\n",
       "      <th>7</th>\n",
       "      <th>-1</th>\n",
       "      <td>4337</td>\n",
       "    </tr>\n",
       "    <tr>\n",
       "      <th>8</th>\n",
       "      <th>-1</th>\n",
       "      <td>6205</td>\n",
       "    </tr>\n",
       "    <tr>\n",
       "      <th>9</th>\n",
       "      <th>-1</th>\n",
       "      <td>6667</td>\n",
       "    </tr>\n",
       "    <tr>\n",
       "      <th>10</th>\n",
       "      <th>-1</th>\n",
       "      <td>5772</td>\n",
       "    </tr>\n",
       "    <tr>\n",
       "      <th>11</th>\n",
       "      <th>-1</th>\n",
       "      <td>1838</td>\n",
       "    </tr>\n",
       "    <tr>\n",
       "      <th>12</th>\n",
       "      <th>-1</th>\n",
       "      <td>3381</td>\n",
       "    </tr>\n",
       "    <tr>\n",
       "      <th rowspan=\"4\" valign=\"top\">13</th>\n",
       "      <th>-4</th>\n",
       "      <td>1889</td>\n",
       "    </tr>\n",
       "    <tr>\n",
       "      <th>-3</th>\n",
       "      <td>1361</td>\n",
       "    </tr>\n",
       "    <tr>\n",
       "      <th>-2</th>\n",
       "      <td>2762</td>\n",
       "    </tr>\n",
       "    <tr>\n",
       "      <th>-1</th>\n",
       "      <td>1844</td>\n",
       "    </tr>\n",
       "    <tr>\n",
       "      <th>14</th>\n",
       "      <th>-1</th>\n",
       "      <td>6044</td>\n",
       "    </tr>\n",
       "  </tbody>\n",
       "</table>\n",
       "</div>"
      ],
      "text/plain": [
       "           ncells\n",
       "layer zpc        \n",
       "0     -1     2874\n",
       "1     -1     2227\n",
       "2     -1     3161\n",
       "3     -1     4055\n",
       "4     -1     3899\n",
       "5     -1     4331\n",
       "6     -1     4326\n",
       "7     -1     4337\n",
       "8     -1     6205\n",
       "9     -1     6667\n",
       "10    -1     5772\n",
       "11    -1     1838\n",
       "12    -1     3381\n",
       "13    -4     1889\n",
       "      -3     1361\n",
       "      -2     2762\n",
       "      -1     1844\n",
       "14    -1     6044"
      ]
     },
     "execution_count": 38,
     "metadata": {},
     "output_type": "execute_result"
    }
   ],
   "source": [
    "# -- zpc parametrisation summary\n",
    "df = pd.DataFrame.from_records(ipermh.data)\n",
    "(\n",
    "    df\n",
    "    .mask(df.value.isin(ipermh.dmv))\n",
    "    .dropna()\n",
    "    .groupby(['layer', 'value'])\n",
    "    .size()\n",
    "    .reset_index()\n",
    "    .set_axis(['layer', 'zpc', 'ncells'], axis=1)\n",
    "    .astype(int)\n",
    "    .set_index(['layer', 'zpc'])\n",
    ")"
   ]
  },
  {
   "cell_type": "markdown",
   "id": "e4e25f0e",
   "metadata": {},
   "source": [
    "### ☛ Manage _**P**ilot **P**oints_ (`pp`)"
   ]
  },
  {
   "cell_type": "markdown",
   "id": "fe50ba77",
   "metadata": {},
   "source": [
    "The **Pilot Point method** is a widely used  technique in hydrogeological model calibration. It involves the selection of specific points, called _pilot points_, within the model domain where parameter values can be adjusted. These pilot points act as _'control points'_ that help refine the model's representation of the hydrogeological system.<br>\n",
    "By strategically adjusting the pilot point parameter values, this method enable huge improvements in areas where the model performance is poor or uncertain. The method helps capture the **spatial heterogeneity** of hydrogeological properties.\n",
    "\n",
    "The `MartheOptim` instance has the ability to manage pilot points parametrisation for field calibration. To define a zone that will be parametrised with pilot points the user has to set to the related cells in the `izone` field a **positive interger**.<br>\n",
    "Let's try to add pilot point parametrisation for the layer $4$."
   ]
  },
  {
   "cell_type": "code",
   "execution_count": 146,
   "id": "e9c621e5",
   "metadata": {},
   "outputs": [
    {
     "data": {
      "text/plain": [
       "<Axes: >"
      ]
     },
     "execution_count": 146,
     "metadata": {},
     "output_type": "execute_result"
    },
    {
     "data": {
      "image/png": "[encoded data removed]",
      "text/plain": [
       "<Figure size 600x400 with 2 Axes>"
      ]
     },
     "metadata": {},
     "output_type": "display_data"
    }
   ],
   "source": [
    "# -- Set unique pilot point zone for layer 4\n",
    "ipermh.set_data(1, layer=4)\n",
    "\n",
    "# -- Plot result on layer 4\n",
    "plt.rcParams.update({'font.size': 8})\n",
    "fig, ax = plt.subplots(figsize=(6, 4))\n",
    "ipermh.plot(ax=ax, layer=4, cmap='Greys_r')"
   ]
  },
  {
   "cell_type": "markdown",
   "id": "c47eb11f",
   "metadata": {},
   "source": [
    "In order to parametrise this zone, the user must provide the coordinates of required pilot points and store them in a python `dict`. This python dictionary will be named `pp_data` and has follow the following **format**:<br>\n",
    "\n",
    "```python\n",
    "pp_data = {\n",
    "    \n",
    "        layer_0 :{\n",
    "                zone_1: ppobj_0,\n",
    "                zone_2: ppobj_1,\n",
    "                ...\n",
    "                zone_K: ppobj_K\n",
    "                },\n",
    "    \n",
    "        ...,\n",
    "    \n",
    "        layer_N :{\n",
    "                zone_1: ppobj_0,\n",
    "                zone_2: ppobj_1,\n",
    "                ...\n",
    "                zone_K: ppobj_K\n",
    "                }\n",
    "}\n",
    "\n",
    "\n",
    "```\n",
    "\n",
    "The `ppobj` correspond to '**p**ilot **p**oint **obj**ect', it can be:\n",
    "- **Pilot Point coordinates**&emsp;➻&emsp; _`[[ppx_0, ppy_0], ..., [ppx_N, ppy_N]]`_\n",
    "- **Path to a point shapefile**&emsp;➻&emsp;_`'gis/pp_layer_0.shp'`_\n"
   ]
  },
  {
   "cell_type": "code",
   "execution_count": 148,
   "id": "cb888e57",
   "metadata": {},
   "outputs": [],
   "source": [
    "# -- Set/extract external pilot point coordinates\n",
    "pp_shpfile = os.path.join(mm.mldir, 'gis', 'pp_l4.shp')\n",
    "ppx, ppy = shp_utils.shp2points(pp_shpfile, stack=False)\n",
    "\n",
    "# -- Build the pp_data object\n",
    "pp_data = {4: {1: pp_shpfile}}  # layer 4, ppzone 1"
   ]
  },
  {
   "cell_type": "code",
   "execution_count": 149,
   "id": "1cef3320",
   "metadata": {},
   "outputs": [
    {
     "data": {
      "text/plain": [
       "Text(0.5, 1.0, 'Layer 4 parametrisation')"
      ]
     },
     "execution_count": 149,
     "metadata": {},
     "output_type": "execute_result"
    },
    {
     "data": {
      "image/png": "[encoded data removed]",
      "text/plain": [
       "<Figure size 900x600 with 2 Axes>"
      ]
     },
     "metadata": {},
     "output_type": "display_data"
    }
   ],
   "source": [
    "# -- Plot permh field (log)\n",
    "plt.rcParams.update({'font.size': 8})\n",
    "fig, ax = plt.subplots(figsize=(9, 6))\n",
    "permh.plot(ax=ax, layer=4, log=True, extent=(305, 205, 490, 375))\n",
    "\n",
    "# -- Add pilot points\n",
    "ax.scatter(ppx, ppy, s=40, marker='+', c='white', lw=1.05, label='Pilot points')\n",
    "ax.legend(facecolor='k', labelcolor='w', fontsize=10, markerscale=1.5, borderpad=.6)\n",
    "\n",
    "# -- Add title \n",
    "ax.set_title('Layer 4 parametrisation',\n",
    "             fontsize=12, fontweight='bold')"
   ]
  },
  {
   "cell_type": "markdown",
   "id": "98d74451",
   "metadata": {},
   "source": [
    "### ☛ The `PilotPoints` instance"
   ]
  },
  {
   "cell_type": "markdown",
   "id": "34a19c34",
   "metadata": {},
   "source": [
    "As we stated above, pilot points can come from **any external source**. However, parameterising model with large number of layers with very different and complex geometries, it can be quite restrictive to create all the pilot points **manually**. That the reason why a very usefull class called `PilotPoints` has been implemented in `PyMarthe` to facilitate the **generation of pilot points** compatible with `MartheOptim`.<br>\n",
    "\n",
    "The `PilotPoints` tool can be initialised providing a **pre-filled** `izone` **field**."
   ]
  },
  {
   "cell_type": "markdown",
   "id": "853e4733",
   "metadata": {},
   "source": [
    "<div class=\"alert alert-warning\" role=\"alert\">\n",
    "    <span style=\"color: darkorange; font-size: 16px; font-weight: bold;\">⚠ Warning: </span>\n",
    "    <span style=\"color: darkorange;\"> the <code>PilotPoints</code> tool requires additional <code>shapely</code> librairy. Make sure to install it properly (<code>!pip install shapely</code>).\n",
    "</div>"
   ]
  },
  {
   "cell_type": "code",
   "execution_count": 150,
   "id": "326c0532",
   "metadata": {},
   "outputs": [
    {
     "name": "stdout",
     "output_type": "stream",
     "text": [
      "\t PilotPoints \n",
      " ------------------------------\n",
      "Actual pilot points data: {4: {1: None}}\n"
     ]
    }
   ],
   "source": [
    "# -- Initialize PilotPoints instance\n",
    "pp = PilotPoints(izone=ipermh)\n",
    "\n",
    "# -- Print basic infos\n",
    "print('\\t', pp, '\\n', '-'*30)\n",
    "print('Actual pilot points data:', pp.data)"
   ]
  },
  {
   "cell_type": "markdown",
   "id": "28ddcfa0",
   "metadata": {},
   "source": [
    "The `PilotPoint` instance can be used to generate pilot points either by specifying:<br>\n",
    "\n",
    "&emsp;&emsp;➼ _**xy-spacing**_ between points: `.add_spacing_pp()` (_to control the **experimental variagram** used during **kriging process**_)<br>\n",
    "&emsp;&emsp;➼ _**fixed number**_ of pilot points: `.add_n_pp()` (_to control the number of parameters during **calibration process**_)<br>"
   ]
  },
  {
   "cell_type": "markdown",
   "id": "12ca2854",
   "metadata": {},
   "source": [
    "<p style=\"color: #DB7093; font-size:1.2em;\">📍 <i><code>spacing</code></i> generator</p>"
   ]
  },
  {
   "cell_type": "code",
   "execution_count": 7,
   "id": "f0b2beae",
   "metadata": {},
   "outputs": [
    {
     "data": {
      "text/plain": [
       "{4: {1: {'layer': 4,\n",
       "   'zone': 1,\n",
       "   'xspacing': 13,\n",
       "   'yspacing': 10,\n",
       "   'xoffset': 0,\n",
       "   'yoffset': 0,\n",
       "   'buffer': 0,\n",
       "   'n': 133,\n",
       "   'pp': <MULTIPOINT (306.5 258, 306.5 268, 306.5 278, 306.5 288, 319.5 258, 319.5 26...>}}}"
      ]
     },
     "execution_count": 7,
     "metadata": {},
     "output_type": "execute_result"
    }
   ],
   "source": [
    "# -- Set spacing\n",
    "dx, dy = 13, 10 # in model distance unit (= km)\n",
    "\n",
    "# -- Generate pilot points\n",
    "pp.add_spacing_pp(layer=4, zone=1,\n",
    "                  xspacing=dx, yspacing=dy,\n",
    "                  xoffset=0, yoffset=0)\n",
    "\n",
    "# -- Print added pilot points\n",
    "pp.data"
   ]
  },
  {
   "cell_type": "markdown",
   "id": "9b677b92",
   "metadata": {},
   "source": [
    "The generated objet correspond to a python dictonary with **meta data** i.e. data provided for the points creation such as `layer`, `zone`, `xspacing`, ... and **pp data** (`pp`) which corresponds to a `MULTIPOINT` shapely object.<br>\n",
    "\n",
    "The `PilotPoints` instance also provide a internal `.plot()` method to have a better look on generated points."
   ]
  },
  {
   "cell_type": "code",
   "execution_count": 9,
   "id": "9e0c97f2",
   "metadata": {},
   "outputs": [
    {
     "data": {
      "text/plain": [
       "<Axes: title={'center': 'Pilot Points (layer 4, zone 1)'}>"
      ]
     },
     "execution_count": 9,
     "metadata": {},
     "output_type": "execute_result"
    },
    {
     "data": {
      "image/png": "[encoded data removed]",
      "text/plain": [
       "<Figure size 800x600 with 1 Axes>"
      ]
     },
     "metadata": {},
     "output_type": "display_data"
    }
   ],
   "source": [
    "# -- Plot generated points\n",
    "pp.plot(layer=4, zone=1)"
   ]
  },
  {
   "cell_type": "markdown",
   "id": "99c767cc",
   "metadata": {},
   "source": [
    "Sometimes **aquifer geometry** can more complex and the user may wish to **exaggerate** the extension of the active zone in order to generate pilot points beyond the active zone to improve **interpolation by kriging**. This can be done with the `PilotPoint` instance by specifying a **buffer zone** around the active zone using the `buffer` argument.<br>\n",
    "\n",
    "Let's try it out."
   ]
  },
  {
   "cell_type": "code",
   "execution_count": 37,
   "id": "63def732",
   "metadata": {},
   "outputs": [
    {
     "data": {
      "text/plain": [
       "<Axes: title={'center': 'Pilot Points (layer 4, zone 1)'}>"
      ]
     },
     "execution_count": 37,
     "metadata": {},
     "output_type": "execute_result"
    },
    {
     "data": {
      "image/png": "[encoded data removed]",
      "text/plain": [
       "<Figure size 800x600 with 1 Axes>"
      ]
     },
     "metadata": {},
     "output_type": "display_data"
    }
   ],
   "source": [
    "# -- Set spacing\n",
    "dx, dy, buffer = 8, 8, 4 # in model distance unit (= km)\n",
    "\n",
    "# -- Generate pilot points (with buffer)\n",
    "pp.add_spacing_pp(layer=4, zone=1,\n",
    "                  xspacing=dx, yspacing=dy,\n",
    "                  xoffset=0, yoffset=0, buffer=buffer)\n",
    "\n",
    "# -- Plot generated points\n",
    "pp.plot(layer=4, zone=1, buffer=buffer)"
   ]
  },
  {
   "cell_type": "markdown",
   "id": "52152959",
   "metadata": {},
   "source": [
    "<div class=\"alert alert-danger\" role=\"alert\">\n",
    "    <span style=\"color: red; font-size: 16px; font-weight: bold;\">⛔ CAREFUL: </span>\n",
    "    <span style=\"color: darkred;\"> using <code>buffer</code> will probably generate pilot points <b>outside the zone extension</b> wich can produce an issue while sampling the parameters <code>defaultvalue</code> during parameter implementation. We are currently working on ways to avoid the problems caused by this particular case and <b>recommend not using</b> the <code>buffer</code> with the current version of <code>PyMarthe</code>.\n",
    "    </span>\n",
    "</div>"
   ]
  },
  {
   "cell_type": "markdown",
   "id": "f5752c3b",
   "metadata": {},
   "source": [
    "<p style=\"color: #DB7093; font-size:1.2em;\">📍 <i><code>fixed</code></i> generator</p>"
   ]
  },
  {
   "cell_type": "code",
   "execution_count": 151,
   "id": "5019734c",
   "metadata": {},
   "outputs": [
    {
     "name": "stderr",
     "output_type": "stream",
     "text": [
      "C:\\Users\\pierr\\OneDrive\\Documents\\dev\\adeqwat\\examples\\..\\pymarthe\\utils\\shp_utils.py:96: RuntimeWarning: invalid value encountered in divide\n",
      "C:\\Users\\pierr\\OneDrive\\Documents\\dev\\adeqwat\\examples\\..\\pymarthe\\utils\\shp_utils.py:96: RuntimeWarning: divide by zero encountered in divide\n"
     ]
    },
    {
     "data": {
      "text/plain": [
       "{4: {1: {'layer': 4,\n",
       "   'zone': 1,\n",
       "   'n': 75,\n",
       "   'tol': 0.1,\n",
       "   'xoffset': 0,\n",
       "   'yoffset': 0,\n",
       "   'buffer': 0,\n",
       "   'xspacing': 14.299999999999645,\n",
       "   'yspacing': 14.299999999999645,\n",
       "   'pp': <MULTIPOINT (320.9 265.6, 320.9 280, 320.9 294.4, 320.9 308.8, 320.9 323.2, ...>}}}"
      ]
     },
     "execution_count": 151,
     "metadata": {},
     "output_type": "execute_result"
    }
   ],
   "source": [
    "# -- Set number of pilot points\n",
    "N = 75\n",
    "\n",
    "# -- Generate pilot points\n",
    "pp.add_n_pp(layer=4, zone=1, n=N, tol=.1)\n",
    "\n",
    "# -- Print added pilot points\n",
    "pp.data"
   ]
  },
  {
   "cell_type": "markdown",
   "id": "9bf9bbbd",
   "metadata": {},
   "source": [
    "<div class=\"alert alert-info\" role=\"alert\">\n",
    "    <span style=\"color: blue; font-size: 16px; font-weight: bold;\">✔ NOTE: </span>\n",
    "    <span style=\"color: darkblue;\"> generating <code>n</code> points in parametrised zone is performed by infering <b>regular space</b> between points using an <b>iterative approach</b> according to the given <b>tolerance</b> (<code>tol</code>, <i>in model distance unit</i>). A <b>low value</b> can slow down the points generation but offers a better precision (match exactly the required number of pilot points). \n",
    "</div>"
   ]
  },
  {
   "cell_type": "code",
   "execution_count": 25,
   "id": "73c9d156",
   "metadata": {},
   "outputs": [
    {
     "data": {
      "text/plain": [
       "<Axes: title={'center': 'Pilot Points (layer 4, zone 1)'}>"
      ]
     },
     "execution_count": 25,
     "metadata": {},
     "output_type": "execute_result"
    },
    {
     "data": {
      "image/png": "[encoded data removed]",
      "text/plain": [
       "<Figure size 800x600 with 1 Axes>"
      ]
     },
     "metadata": {},
     "output_type": "display_data"
    }
   ],
   "source": [
    "# -- Plot N generated points\n",
    "pp.plot(layer=4, zone=1, pp_kwargs={'s': 32, 'color':'navy'}, zone_kwargs={'lw': .8})"
   ]
  },
  {
   "cell_type": "markdown",
   "id": "5fd8f54d",
   "metadata": {},
   "source": [
    "<div class=\"alert alert-info\" role=\"alert\">\n",
    "    <span style=\"color: blue; font-size: 16px; font-weight: bold;\">✔ NOTE: </span>\n",
    "    <span style=\"color: darkblue;\"> all generated pilot points can be <b>written on disk</b> as <i>shapefile</i> using the internal <code>.to_shapefile()</code>.\n",
    "</div>"
   ]
  },
  {
   "cell_type": "markdown",
   "id": "34210cee",
   "metadata": {},
   "source": [
    "<span style=\"font-size: 2em;\">🔎\n",
    "</span>\n",
    "<span>Sometimes it can be hard to find the correct <b>variogram range</b> to use for the <b>kriging interpolation</b>. It highly depends on pilot point location. Several modellers agree that one of the best practices to adopt is to define the range of the variagram in proportion to the <b>maximum distance between two neighbouring pilot points</b>:\n",
    "</span>\n",
    "\n",
    "<div style=\"align: center; font-size: 20px; padding-top: 12px;\">\n",
    "    $$variagram\\_range = factor \\times min(D_{neighbours\\_pp})$$\n",
    "</div>\n",
    "\n",
    "The `PilotPoints` instance provides a internal method `.extract_vgm_range()` to make this process easier!"
   ]
  },
  {
   "cell_type": "code",
   "execution_count": 51,
   "id": "1b859672",
   "metadata": {},
   "outputs": [
    {
     "name": "stdout",
     "output_type": "stream",
     "text": [
      "\tInfered Variogram Ranges \n",
      " ------------------------------\n",
      "Factor = 2 ==> {4: {1: 16}}\n",
      "Factor = 3 ==> {4: {1: 24}}\n",
      "Factor = 4 ==> {4: {1: 32}}\n",
      "Factor = 5 ==> {4: {1: 40}}\n"
     ]
    }
   ],
   "source": [
    "# -- Extract variogram range\n",
    "print('\\tInfered Variogram Ranges', '\\n', '-'*30)\n",
    "for f in range(2, 6):\n",
    "    print(f'Factor = {f} ==>', pp.extract_vgm_range(factor=f))"
   ]
  },
  {
   "cell_type": "markdown",
   "id": "59b9684c",
   "metadata": {},
   "source": [
    "Once the pilot points have been generated, they need to be converted into an `pp_data` object to be compatible with `MartheGridParam` instance. To do so, consider using the `.to_pp_data()` method."
   ]
  },
  {
   "cell_type": "code",
   "execution_count": 40,
   "id": "def1b51e",
   "metadata": {},
   "outputs": [
    {
     "data": {
      "text/plain": [
       "{4: {1: [[302.5, 260.0],\n",
       "   [302.5, 268.0],\n",
       "   [302.5, 276.0],\n",
       "   [302.5, 284.0],\n",
       "   [302.5, 292.0],\n",
       "   [310.5, 252.0],\n",
       "   [310.5, 260.0],\n",
       "   [310.5, 268.0],\n",
       "   [310.5, 276.0],\n",
       "   [310.5, 284.0],\n",
       "   [310.5, 292.0],\n",
       "   [310.5, 300.0],\n",
       "   [310.5, 308.0],\n",
       "   [310.5, 316.0],\n",
       "   [310.5, 324.0],\n",
       "   [318.5, 252.0],\n",
       "   [318.5, 260.0],\n",
       "   [318.5, 268.0],\n",
       "   [318.5, 276.0],\n",
       "   [318.5, 284.0],\n",
       "   [318.5, 292.0],\n",
       "   [318.5, 300.0],\n",
       "   [318.5, 308.0],\n",
       "   [318.5, 316.0],\n",
       "   [318.5, 324.0],\n",
       "   [318.5, 332.0],\n",
       "   [318.5, 340.0],\n",
       "   [318.5, 348.0],\n",
       "   [318.5, 356.0],\n",
       "   [318.5, 364.0],\n",
       "   [318.5, 372.0],\n",
       "   [326.5, 244.0],\n",
       "   [326.5, 252.0],\n",
       "   [326.5, 260.0],\n",
       "   [326.5, 268.0],\n",
       "   [326.5, 276.0],\n",
       "   [326.5, 284.0],\n",
       "   [326.5, 292.0],\n",
       "   [326.5, 300.0],\n",
       "   [326.5, 308.0],\n",
       "   [326.5, 316.0],\n",
       "   [326.5, 324.0],\n",
       "   [326.5, 332.0],\n",
       "   [326.5, 340.0],\n",
       "   [326.5, 348.0],\n",
       "   [326.5, 356.0],\n",
       "   [326.5, 364.0],\n",
       "   [326.5, 372.0],\n",
       "   [334.5, 236.0],\n",
       "   [334.5, 244.0],\n",
       "   [334.5, 252.0],\n",
       "   [334.5, 260.0],\n",
       "   [334.5, 268.0],\n",
       "   [334.5, 276.0],\n",
       "   [334.5, 284.0],\n",
       "   [334.5, 292.0],\n",
       "   [334.5, 300.0],\n",
       "   [334.5, 308.0],\n",
       "   [334.5, 316.0],\n",
       "   [334.5, 324.0],\n",
       "   [334.5, 332.0],\n",
       "   [334.5, 340.0],\n",
       "   [334.5, 348.0],\n",
       "   [334.5, 356.0],\n",
       "   [334.5, 364.0],\n",
       "   [342.5, 212.0],\n",
       "   [342.5, 220.0],\n",
       "   [342.5, 228.0],\n",
       "   [342.5, 236.0],\n",
       "   [342.5, 244.0],\n",
       "   [342.5, 252.0],\n",
       "   [342.5, 260.0],\n",
       "   [342.5, 268.0],\n",
       "   [342.5, 276.0],\n",
       "   [342.5, 284.0],\n",
       "   [342.5, 292.0],\n",
       "   [342.5, 300.0],\n",
       "   [342.5, 308.0],\n",
       "   [342.5, 316.0],\n",
       "   [342.5, 324.0],\n",
       "   [342.5, 332.0],\n",
       "   [342.5, 340.0],\n",
       "   [342.5, 348.0],\n",
       "   [342.5, 356.0],\n",
       "   [350.5, 204.0],\n",
       "   [350.5, 212.0],\n",
       "   [350.5, 220.0],\n",
       "   [350.5, 228.0],\n",
       "   [350.5, 236.0],\n",
       "   [350.5, 244.0],\n",
       "   [350.5, 252.0],\n",
       "   [350.5, 260.0],\n",
       "   [350.5, 268.0],\n",
       "   [350.5, 276.0],\n",
       "   [350.5, 284.0],\n",
       "   [350.5, 292.0],\n",
       "   [350.5, 300.0],\n",
       "   [350.5, 308.0],\n",
       "   [350.5, 316.0],\n",
       "   [350.5, 324.0],\n",
       "   [350.5, 332.0],\n",
       "   [350.5, 340.0],\n",
       "   [350.5, 348.0],\n",
       "   [358.5, 204.0],\n",
       "   [358.5, 212.0],\n",
       "   [358.5, 220.0],\n",
       "   [358.5, 228.0],\n",
       "   [358.5, 236.0],\n",
       "   [358.5, 244.0],\n",
       "   [358.5, 260.0],\n",
       "   [358.5, 268.0],\n",
       "   [358.5, 276.0],\n",
       "   [358.5, 284.0],\n",
       "   [358.5, 292.0],\n",
       "   [358.5, 300.0],\n",
       "   [358.5, 308.0],\n",
       "   [358.5, 316.0],\n",
       "   [358.5, 324.0],\n",
       "   [358.5, 332.0],\n",
       "   [366.5, 204.0],\n",
       "   [366.5, 212.0],\n",
       "   [366.5, 220.0],\n",
       "   [366.5, 228.0],\n",
       "   [366.5, 236.0],\n",
       "   [366.5, 260.0],\n",
       "   [366.5, 268.0],\n",
       "   [366.5, 276.0],\n",
       "   [366.5, 284.0],\n",
       "   [366.5, 292.0],\n",
       "   [366.5, 300.0],\n",
       "   [366.5, 308.0],\n",
       "   [366.5, 316.0],\n",
       "   [366.5, 324.0],\n",
       "   [366.5, 332.0],\n",
       "   [366.5, 340.0],\n",
       "   [374.5, 204.0],\n",
       "   [374.5, 212.0],\n",
       "   [374.5, 220.0],\n",
       "   [374.5, 228.0],\n",
       "   [374.5, 236.0],\n",
       "   [374.5, 244.0],\n",
       "   [374.5, 252.0],\n",
       "   [374.5, 260.0],\n",
       "   [374.5, 268.0],\n",
       "   [374.5, 276.0],\n",
       "   [374.5, 284.0],\n",
       "   [374.5, 292.0],\n",
       "   [374.5, 300.0],\n",
       "   [374.5, 308.0],\n",
       "   [374.5, 316.0],\n",
       "   [374.5, 324.0],\n",
       "   [374.5, 332.0],\n",
       "   [374.5, 340.0],\n",
       "   [382.5, 204.0],\n",
       "   [382.5, 212.0],\n",
       "   [382.5, 220.0],\n",
       "   [382.5, 228.0],\n",
       "   [382.5, 236.0],\n",
       "   [382.5, 244.0],\n",
       "   [382.5, 252.0],\n",
       "   [382.5, 260.0],\n",
       "   [382.5, 268.0],\n",
       "   [382.5, 276.0],\n",
       "   [382.5, 284.0],\n",
       "   [382.5, 292.0],\n",
       "   [382.5, 300.0],\n",
       "   [382.5, 308.0],\n",
       "   [382.5, 316.0],\n",
       "   [382.5, 324.0],\n",
       "   [382.5, 332.0],\n",
       "   [390.5, 204.0],\n",
       "   [390.5, 212.0],\n",
       "   [390.5, 220.0],\n",
       "   [390.5, 228.0],\n",
       "   [390.5, 236.0],\n",
       "   [390.5, 244.0],\n",
       "   [390.5, 252.0],\n",
       "   [390.5, 260.0],\n",
       "   [390.5, 268.0],\n",
       "   [390.5, 276.0],\n",
       "   [390.5, 284.0],\n",
       "   [390.5, 292.0],\n",
       "   [390.5, 300.0],\n",
       "   [390.5, 308.0],\n",
       "   [390.5, 316.0],\n",
       "   [398.5, 204.0],\n",
       "   [398.5, 212.0],\n",
       "   [398.5, 220.0],\n",
       "   [398.5, 228.0],\n",
       "   [398.5, 236.0],\n",
       "   [398.5, 244.0],\n",
       "   [398.5, 252.0],\n",
       "   [398.5, 260.0],\n",
       "   [398.5, 268.0],\n",
       "   [398.5, 276.0],\n",
       "   [398.5, 284.0],\n",
       "   [398.5, 292.0],\n",
       "   [398.5, 300.0],\n",
       "   [398.5, 308.0],\n",
       "   [398.5, 316.0],\n",
       "   [398.5, 324.0],\n",
       "   [406.5, 204.0],\n",
       "   [406.5, 212.0],\n",
       "   [406.5, 220.0],\n",
       "   [406.5, 228.0],\n",
       "   [406.5, 236.0],\n",
       "   [406.5, 244.0],\n",
       "   [406.5, 252.0],\n",
       "   [406.5, 260.0],\n",
       "   [406.5, 268.0],\n",
       "   [406.5, 276.0],\n",
       "   [406.5, 284.0],\n",
       "   [406.5, 292.0],\n",
       "   [406.5, 300.0],\n",
       "   [406.5, 308.0],\n",
       "   [406.5, 316.0],\n",
       "   [414.5, 220.0],\n",
       "   [414.5, 228.0],\n",
       "   [414.5, 236.0],\n",
       "   [414.5, 244.0],\n",
       "   [414.5, 252.0],\n",
       "   [414.5, 260.0],\n",
       "   [414.5, 268.0],\n",
       "   [414.5, 276.0],\n",
       "   [414.5, 284.0],\n",
       "   [414.5, 292.0],\n",
       "   [414.5, 300.0],\n",
       "   [414.5, 308.0],\n",
       "   [414.5, 316.0],\n",
       "   [422.5, 220.0],\n",
       "   [422.5, 228.0],\n",
       "   [422.5, 236.0],\n",
       "   [422.5, 244.0],\n",
       "   [422.5, 252.0],\n",
       "   [422.5, 260.0],\n",
       "   [422.5, 268.0],\n",
       "   [422.5, 276.0],\n",
       "   [422.5, 284.0],\n",
       "   [422.5, 292.0],\n",
       "   [422.5, 300.0],\n",
       "   [422.5, 308.0],\n",
       "   [422.5, 316.0],\n",
       "   [422.5, 324.0],\n",
       "   [430.5, 228.0],\n",
       "   [430.5, 236.0],\n",
       "   [430.5, 244.0],\n",
       "   [430.5, 252.0],\n",
       "   [430.5, 260.0],\n",
       "   [430.5, 268.0],\n",
       "   [430.5, 276.0],\n",
       "   [430.5, 284.0],\n",
       "   [430.5, 292.0],\n",
       "   [430.5, 300.0],\n",
       "   [430.5, 308.0],\n",
       "   [430.5, 316.0],\n",
       "   [430.5, 324.0],\n",
       "   [438.5, 236.0],\n",
       "   [438.5, 244.0],\n",
       "   [438.5, 252.0],\n",
       "   [438.5, 260.0],\n",
       "   [438.5, 268.0],\n",
       "   [438.5, 276.0],\n",
       "   [438.5, 284.0],\n",
       "   [438.5, 292.0],\n",
       "   [438.5, 300.0],\n",
       "   [438.5, 308.0],\n",
       "   [438.5, 316.0],\n",
       "   [438.5, 324.0],\n",
       "   [446.5, 236.0],\n",
       "   [446.5, 244.0],\n",
       "   [446.5, 252.0],\n",
       "   [446.5, 260.0],\n",
       "   [446.5, 268.0],\n",
       "   [446.5, 276.0],\n",
       "   [446.5, 284.0],\n",
       "   [446.5, 292.0],\n",
       "   [446.5, 300.0],\n",
       "   [446.5, 308.0],\n",
       "   [446.5, 316.0],\n",
       "   [446.5, 324.0],\n",
       "   [454.5, 236.0],\n",
       "   [454.5, 244.0],\n",
       "   [454.5, 252.0],\n",
       "   [454.5, 260.0],\n",
       "   [454.5, 268.0],\n",
       "   [454.5, 276.0],\n",
       "   [454.5, 284.0],\n",
       "   [454.5, 292.0],\n",
       "   [462.5, 236.0],\n",
       "   [462.5, 244.0],\n",
       "   [462.5, 252.0],\n",
       "   [462.5, 260.0],\n",
       "   [462.5, 268.0],\n",
       "   [462.5, 276.0],\n",
       "   [462.5, 284.0],\n",
       "   [470.5, 236.0],\n",
       "   [470.5, 244.0],\n",
       "   [470.5, 252.0],\n",
       "   [470.5, 260.0],\n",
       "   [470.5, 268.0],\n",
       "   [470.5, 276.0],\n",
       "   [478.5, 236.0],\n",
       "   [478.5, 244.0],\n",
       "   [478.5, 252.0],\n",
       "   [478.5, 260.0],\n",
       "   [478.5, 268.0],\n",
       "   [478.5, 276.0],\n",
       "   [486.5, 236.0],\n",
       "   [486.5, 244.0],\n",
       "   [486.5, 252.0]]}}"
      ]
     },
     "execution_count": 40,
     "metadata": {},
     "output_type": "execute_result"
    }
   ],
   "source": [
    "# -- Converting generated pilot points to pp_data object\n",
    "pp.to_pp_data()"
   ]
  },
  {
   "cell_type": "markdown",
   "id": "cfd9ab76",
   "metadata": {},
   "source": [
    "### ☛ Add parameters"
   ]
  },
  {
   "cell_type": "markdown",
   "id": "784f26be",
   "metadata": {},
   "source": [
    "Next, to add a `grid-like` set of parameters in the main `MartheOptim` instance, consider unsing the `.add_param()` method. This will create a new `MartheGridParam`  instance in the parameter storage `.param`. Remember that by default, if no `izone` argument is specified, a basic one with a unqiue `zpc` parametrisation for all layers will be considered.<br>\n",
    "\n",
    "If at least one zone is parametrised as **pilot points**, make sure to specify the right `pp_data` object to set informations about points coordinates. Let's focus on **hydraulic permeability** (_ex: `hk`_) property only and try to add it as parameter."
   ]
  },
  {
   "cell_type": "code",
   "execution_count": 102,
   "id": "6f3f5638",
   "metadata": {},
   "outputs": [
    {
     "name": "stderr",
     "output_type": "stream",
     "text": [
      "C:\\Users\\pierr\\OneDrive\\Documents\\dev\\adeqwat\\examples\\..\\pymarthe\\mparam.py:427: UserWarning: WARNING : no `izone` provided. A generic one will be created  from the `permh` field with a unique zpc zone  (in active cells) for each layer.\n"
     ]
    },
    {
     "name": "stdout",
     "output_type": "stream",
     "text": [
      "Parameter type: grid\n",
      "Parameter storage:\n",
      " {'hk': <pymarthe.mparam.MartheGridParam object at 0x000001779A0F9FF0>}\n",
      "Parameter data:\n"
     ]
    },
    {
     "data": {
      "text/html": [
       "<div>\n",
       "<style scoped>\n",
       "    .dataframe tbody tr th:only-of-type {\n",
       "        vertical-align: middle;\n",
       "    }\n",
       "\n",
       "    .dataframe tbody tr th {\n",
       "        vertical-align: top;\n",
       "    }\n",
       "\n",
       "    .dataframe thead th {\n",
       "        text-align: right;\n",
       "    }\n",
       "</style>\n",
       "<table border=\"1\" class=\"dataframe\">\n",
       "  <thead>\n",
       "    <tr style=\"text-align: right;\">\n",
       "      <th></th>\n",
       "      <th>parnme</th>\n",
       "      <th>trans</th>\n",
       "      <th>btrans</th>\n",
       "      <th>parchglim</th>\n",
       "      <th>defaultvalue</th>\n",
       "      <th>parlbnd</th>\n",
       "      <th>parubnd</th>\n",
       "      <th>pargp</th>\n",
       "      <th>scale</th>\n",
       "      <th>offset</th>\n",
       "      <th>dercom</th>\n",
       "    </tr>\n",
       "    <tr>\n",
       "      <th>parname</th>\n",
       "      <th></th>\n",
       "      <th></th>\n",
       "      <th></th>\n",
       "      <th></th>\n",
       "      <th></th>\n",
       "      <th></th>\n",
       "      <th></th>\n",
       "      <th></th>\n",
       "      <th></th>\n",
       "      <th></th>\n",
       "      <th></th>\n",
       "    </tr>\n",
       "  </thead>\n",
       "  <tbody>\n",
       "    <tr>\n",
       "      <th>hk_zpc_l01_z01</th>\n",
       "      <td>hk_zpc_l01_z01</td>\n",
       "      <td>none</td>\n",
       "      <td>none</td>\n",
       "      <td>factor</td>\n",
       "      <td>0.004578</td>\n",
       "      <td>1.000000e-10</td>\n",
       "      <td>1.000000e+10</td>\n",
       "      <td>hk_zpc</td>\n",
       "      <td>1</td>\n",
       "      <td>0</td>\n",
       "      <td>1</td>\n",
       "    </tr>\n",
       "    <tr>\n",
       "      <th>hk_zpc_l02_z01</th>\n",
       "      <td>hk_zpc_l02_z01</td>\n",
       "      <td>none</td>\n",
       "      <td>none</td>\n",
       "      <td>factor</td>\n",
       "      <td>0.012281</td>\n",
       "      <td>1.000000e-10</td>\n",
       "      <td>1.000000e+10</td>\n",
       "      <td>hk_zpc</td>\n",
       "      <td>1</td>\n",
       "      <td>0</td>\n",
       "      <td>1</td>\n",
       "    </tr>\n",
       "    <tr>\n",
       "      <th>hk_zpc_l03_z01</th>\n",
       "      <td>hk_zpc_l03_z01</td>\n",
       "      <td>none</td>\n",
       "      <td>none</td>\n",
       "      <td>factor</td>\n",
       "      <td>0.000110</td>\n",
       "      <td>1.000000e-10</td>\n",
       "      <td>1.000000e+10</td>\n",
       "      <td>hk_zpc</td>\n",
       "      <td>1</td>\n",
       "      <td>0</td>\n",
       "      <td>1</td>\n",
       "    </tr>\n",
       "    <tr>\n",
       "      <th>hk_zpc_l04_z01</th>\n",
       "      <td>hk_zpc_l04_z01</td>\n",
       "      <td>none</td>\n",
       "      <td>none</td>\n",
       "      <td>factor</td>\n",
       "      <td>0.000052</td>\n",
       "      <td>1.000000e-10</td>\n",
       "      <td>1.000000e+10</td>\n",
       "      <td>hk_zpc</td>\n",
       "      <td>1</td>\n",
       "      <td>0</td>\n",
       "      <td>1</td>\n",
       "    </tr>\n",
       "    <tr>\n",
       "      <th>hk_zpc_l05_z01</th>\n",
       "      <td>hk_zpc_l05_z01</td>\n",
       "      <td>none</td>\n",
       "      <td>none</td>\n",
       "      <td>factor</td>\n",
       "      <td>0.010701</td>\n",
       "      <td>1.000000e-10</td>\n",
       "      <td>1.000000e+10</td>\n",
       "      <td>hk_zpc</td>\n",
       "      <td>1</td>\n",
       "      <td>0</td>\n",
       "      <td>1</td>\n",
       "    </tr>\n",
       "  </tbody>\n",
       "</table>\n",
       "</div>"
      ],
      "text/plain": [
       "                        parnme trans btrans parchglim  defaultvalue   \n",
       "parname                                                               \n",
       "hk_zpc_l01_z01  hk_zpc_l01_z01  none   none    factor      0.004578  \\\n",
       "hk_zpc_l02_z01  hk_zpc_l02_z01  none   none    factor      0.012281   \n",
       "hk_zpc_l03_z01  hk_zpc_l03_z01  none   none    factor      0.000110   \n",
       "hk_zpc_l04_z01  hk_zpc_l04_z01  none   none    factor      0.000052   \n",
       "hk_zpc_l05_z01  hk_zpc_l05_z01  none   none    factor      0.010701   \n",
       "\n",
       "                     parlbnd       parubnd   pargp  scale  offset  dercom  \n",
       "parname                                                                    \n",
       "hk_zpc_l01_z01  1.000000e-10  1.000000e+10  hk_zpc      1       0       1  \n",
       "hk_zpc_l02_z01  1.000000e-10  1.000000e+10  hk_zpc      1       0       1  \n",
       "hk_zpc_l03_z01  1.000000e-10  1.000000e+10  hk_zpc      1       0       1  \n",
       "hk_zpc_l04_z01  1.000000e-10  1.000000e+10  hk_zpc      1       0       1  \n",
       "hk_zpc_l05_z01  1.000000e-10  1.000000e+10  hk_zpc      1       0       1  "
      ]
     },
     "execution_count": 102,
     "metadata": {},
     "output_type": "execute_result"
    }
   ],
   "source": [
    "# -- Without `izone`\n",
    "mopt.remove_param(parname='hk')\n",
    "mopt.add_param(parname='hk', mobj=permh)\n",
    "\n",
    "# -- Show results\n",
    "print('Parameter type:', mopt.param['hk'].type)\n",
    "print('Parameter storage:\\n', mopt.param)\n",
    "print('Parameter data:')\n",
    "mopt.get_param_df().head(5)"
   ]
  },
  {
   "cell_type": "code",
   "execution_count": 103,
   "id": "df9f06bd",
   "metadata": {},
   "outputs": [
    {
     "name": "stderr",
     "output_type": "stream",
     "text": [
      "C:\\Users\\pierr\\OneDrive\\Documents\\dev\\adeqwat\\examples\\..\\pymarthe\\mparam.py:635: UserWarning: WARNING : pilot point coordinates not provided for layer = 4 and zone = 1. Default pilot points will be generated.\n"
     ]
    },
    {
     "name": "stdout",
     "output_type": "stream",
     "text": [
      "Parameter storage:\n",
      " {'hk': <pymarthe.mparam.MartheGridParam object at 0x000001779A3EA1D0>}\n",
      "Parameter data:\n"
     ]
    },
    {
     "data": {
      "text/html": [
       "<div>\n",
       "<style scoped>\n",
       "    .dataframe tbody tr th:only-of-type {\n",
       "        vertical-align: middle;\n",
       "    }\n",
       "\n",
       "    .dataframe tbody tr th {\n",
       "        vertical-align: top;\n",
       "    }\n",
       "\n",
       "    .dataframe thead th {\n",
       "        text-align: right;\n",
       "    }\n",
       "</style>\n",
       "<table border=\"1\" class=\"dataframe\">\n",
       "  <thead>\n",
       "    <tr style=\"text-align: right;\">\n",
       "      <th></th>\n",
       "      <th>parnme</th>\n",
       "      <th>trans</th>\n",
       "      <th>btrans</th>\n",
       "      <th>parchglim</th>\n",
       "      <th>defaultvalue</th>\n",
       "      <th>parlbnd</th>\n",
       "      <th>parubnd</th>\n",
       "      <th>pargp</th>\n",
       "      <th>scale</th>\n",
       "      <th>offset</th>\n",
       "      <th>dercom</th>\n",
       "    </tr>\n",
       "    <tr>\n",
       "      <th>parname</th>\n",
       "      <th></th>\n",
       "      <th></th>\n",
       "      <th></th>\n",
       "      <th></th>\n",
       "      <th></th>\n",
       "      <th></th>\n",
       "      <th></th>\n",
       "      <th></th>\n",
       "      <th></th>\n",
       "      <th></th>\n",
       "      <th></th>\n",
       "    </tr>\n",
       "  </thead>\n",
       "  <tbody>\n",
       "    <tr>\n",
       "      <th>hk_l05_z01_43</th>\n",
       "      <td>hk_l05_z01_43</td>\n",
       "      <td>none</td>\n",
       "      <td>none</td>\n",
       "      <td>factor</td>\n",
       "      <td>1.482100e-07</td>\n",
       "      <td>1.000000e-10</td>\n",
       "      <td>1.000000e+10</td>\n",
       "      <td>hk_pp</td>\n",
       "      <td>1</td>\n",
       "      <td>0</td>\n",
       "      <td>1</td>\n",
       "    </tr>\n",
       "    <tr>\n",
       "      <th>hk_l05_z01_26</th>\n",
       "      <td>hk_l05_z01_26</td>\n",
       "      <td>none</td>\n",
       "      <td>none</td>\n",
       "      <td>factor</td>\n",
       "      <td>1.079237e-07</td>\n",
       "      <td>1.000000e-10</td>\n",
       "      <td>1.000000e+10</td>\n",
       "      <td>hk_pp</td>\n",
       "      <td>1</td>\n",
       "      <td>0</td>\n",
       "      <td>1</td>\n",
       "    </tr>\n",
       "    <tr>\n",
       "      <th>hk_l05_z01_29</th>\n",
       "      <td>hk_l05_z01_29</td>\n",
       "      <td>none</td>\n",
       "      <td>none</td>\n",
       "      <td>factor</td>\n",
       "      <td>2.663800e-09</td>\n",
       "      <td>1.000000e-10</td>\n",
       "      <td>1.000000e+10</td>\n",
       "      <td>hk_pp</td>\n",
       "      <td>1</td>\n",
       "      <td>0</td>\n",
       "      <td>1</td>\n",
       "    </tr>\n",
       "    <tr>\n",
       "      <th>hk_l05_z01_33</th>\n",
       "      <td>hk_l05_z01_33</td>\n",
       "      <td>none</td>\n",
       "      <td>none</td>\n",
       "      <td>factor</td>\n",
       "      <td>2.618843e-09</td>\n",
       "      <td>1.000000e-10</td>\n",
       "      <td>1.000000e+10</td>\n",
       "      <td>hk_pp</td>\n",
       "      <td>1</td>\n",
       "      <td>0</td>\n",
       "      <td>1</td>\n",
       "    </tr>\n",
       "    <tr>\n",
       "      <th>hk_l05_z01_04</th>\n",
       "      <td>hk_l05_z01_04</td>\n",
       "      <td>none</td>\n",
       "      <td>none</td>\n",
       "      <td>factor</td>\n",
       "      <td>1.037973e-05</td>\n",
       "      <td>1.000000e-10</td>\n",
       "      <td>1.000000e+10</td>\n",
       "      <td>hk_pp</td>\n",
       "      <td>1</td>\n",
       "      <td>0</td>\n",
       "      <td>1</td>\n",
       "    </tr>\n",
       "  </tbody>\n",
       "</table>\n",
       "</div>"
      ],
      "text/plain": [
       "                      parnme trans btrans parchglim  defaultvalue   \n",
       "parname                                                             \n",
       "hk_l05_z01_43  hk_l05_z01_43  none   none    factor  1.482100e-07  \\\n",
       "hk_l05_z01_26  hk_l05_z01_26  none   none    factor  1.079237e-07   \n",
       "hk_l05_z01_29  hk_l05_z01_29  none   none    factor  2.663800e-09   \n",
       "hk_l05_z01_33  hk_l05_z01_33  none   none    factor  2.618843e-09   \n",
       "hk_l05_z01_04  hk_l05_z01_04  none   none    factor  1.037973e-05   \n",
       "\n",
       "                    parlbnd       parubnd  pargp  scale  offset  dercom  \n",
       "parname                                                                  \n",
       "hk_l05_z01_43  1.000000e-10  1.000000e+10  hk_pp      1       0       1  \n",
       "hk_l05_z01_26  1.000000e-10  1.000000e+10  hk_pp      1       0       1  \n",
       "hk_l05_z01_29  1.000000e-10  1.000000e+10  hk_pp      1       0       1  \n",
       "hk_l05_z01_33  1.000000e-10  1.000000e+10  hk_pp      1       0       1  \n",
       "hk_l05_z01_04  1.000000e-10  1.000000e+10  hk_pp      1       0       1  "
      ]
     },
     "execution_count": 103,
     "metadata": {},
     "output_type": "execute_result"
    }
   ],
   "source": [
    "# -- With `izone` but without pilot point information\n",
    "mopt.remove_param(parname='hk')\n",
    "mopt.add_param(parname='hk', mobj=permh, izone=ipermh)\n",
    "\n",
    "# -- Show results\n",
    "print('Parameter storage:\\n', mopt.param)\n",
    "print('Parameter data:')\n",
    "mopt.get_param_df().sample(5)"
   ]
  },
  {
   "cell_type": "markdown",
   "id": "2bea7a72",
   "metadata": {},
   "source": [
    "As the `list-like parmeters` discussed above, some others arguments (`**kwargs`) can be implemented while adding parameters such as `defaultvalue`, `parchglim`, `parlbnd`, `parubnd`, `pargp`, `scale`, ...<br>\n",
    "\n",
    "So, a global `defaultvalue` can be provided easily by the user, otherwise, the **prior / initial values** will be taken from the current `mobj` field as:<br>\n",
    "\n",
    "&emsp;&emsp;➼&emsp;**zonal mean field** value for `zpc`<br>\n",
    "&emsp;&emsp;➼&emsp;**sampled field** value for `pp`<br>"
   ]
  },
  {
   "cell_type": "code",
   "execution_count": 104,
   "id": "ceed0e73",
   "metadata": {},
   "outputs": [
    {
     "name": "stdout",
     "output_type": "stream",
     "text": [
      "Parameter storage:\n",
      " {'hk': <pymarthe.mparam.MartheGridParam object at 0x000001779C9232B0>}\n",
      "Parameter data:\n"
     ]
    },
    {
     "data": {
      "text/html": [
       "<div>\n",
       "<style scoped>\n",
       "    .dataframe tbody tr th:only-of-type {\n",
       "        vertical-align: middle;\n",
       "    }\n",
       "\n",
       "    .dataframe tbody tr th {\n",
       "        vertical-align: top;\n",
       "    }\n",
       "\n",
       "    .dataframe thead th {\n",
       "        text-align: right;\n",
       "    }\n",
       "</style>\n",
       "<table border=\"1\" class=\"dataframe\">\n",
       "  <thead>\n",
       "    <tr style=\"text-align: right;\">\n",
       "      <th></th>\n",
       "      <th>parnme</th>\n",
       "      <th>trans</th>\n",
       "      <th>btrans</th>\n",
       "      <th>parchglim</th>\n",
       "      <th>defaultvalue</th>\n",
       "      <th>parlbnd</th>\n",
       "      <th>parubnd</th>\n",
       "      <th>pargp</th>\n",
       "      <th>scale</th>\n",
       "      <th>offset</th>\n",
       "      <th>dercom</th>\n",
       "    </tr>\n",
       "    <tr>\n",
       "      <th>parname</th>\n",
       "      <th></th>\n",
       "      <th></th>\n",
       "      <th></th>\n",
       "      <th></th>\n",
       "      <th></th>\n",
       "      <th></th>\n",
       "      <th></th>\n",
       "      <th></th>\n",
       "      <th></th>\n",
       "      <th></th>\n",
       "      <th></th>\n",
       "    </tr>\n",
       "  </thead>\n",
       "  <tbody>\n",
       "    <tr>\n",
       "      <th>hk_l05_z01_032</th>\n",
       "      <td>hk_l05_z01_032</td>\n",
       "      <td>none</td>\n",
       "      <td>none</td>\n",
       "      <td>factor</td>\n",
       "      <td>0.001</td>\n",
       "      <td>1.000000e-10</td>\n",
       "      <td>1.000000e+10</td>\n",
       "      <td>hk_pp</td>\n",
       "      <td>1</td>\n",
       "      <td>0</td>\n",
       "      <td>1</td>\n",
       "    </tr>\n",
       "    <tr>\n",
       "      <th>hk_l05_z01_119</th>\n",
       "      <td>hk_l05_z01_119</td>\n",
       "      <td>none</td>\n",
       "      <td>none</td>\n",
       "      <td>factor</td>\n",
       "      <td>0.001</td>\n",
       "      <td>1.000000e-10</td>\n",
       "      <td>1.000000e+10</td>\n",
       "      <td>hk_pp</td>\n",
       "      <td>1</td>\n",
       "      <td>0</td>\n",
       "      <td>1</td>\n",
       "    </tr>\n",
       "    <tr>\n",
       "      <th>hk_l05_z01_112</th>\n",
       "      <td>hk_l05_z01_112</td>\n",
       "      <td>none</td>\n",
       "      <td>none</td>\n",
       "      <td>factor</td>\n",
       "      <td>0.001</td>\n",
       "      <td>1.000000e-10</td>\n",
       "      <td>1.000000e+10</td>\n",
       "      <td>hk_pp</td>\n",
       "      <td>1</td>\n",
       "      <td>0</td>\n",
       "      <td>1</td>\n",
       "    </tr>\n",
       "    <tr>\n",
       "      <th>hk_l05_z01_022</th>\n",
       "      <td>hk_l05_z01_022</td>\n",
       "      <td>none</td>\n",
       "      <td>none</td>\n",
       "      <td>factor</td>\n",
       "      <td>0.001</td>\n",
       "      <td>1.000000e-10</td>\n",
       "      <td>1.000000e+10</td>\n",
       "      <td>hk_pp</td>\n",
       "      <td>1</td>\n",
       "      <td>0</td>\n",
       "      <td>1</td>\n",
       "    </tr>\n",
       "    <tr>\n",
       "      <th>hk_l05_z01_136</th>\n",
       "      <td>hk_l05_z01_136</td>\n",
       "      <td>none</td>\n",
       "      <td>none</td>\n",
       "      <td>factor</td>\n",
       "      <td>0.001</td>\n",
       "      <td>1.000000e-10</td>\n",
       "      <td>1.000000e+10</td>\n",
       "      <td>hk_pp</td>\n",
       "      <td>1</td>\n",
       "      <td>0</td>\n",
       "      <td>1</td>\n",
       "    </tr>\n",
       "  </tbody>\n",
       "</table>\n",
       "</div>"
      ],
      "text/plain": [
       "                        parnme trans btrans parchglim  defaultvalue   \n",
       "parname                                                               \n",
       "hk_l05_z01_032  hk_l05_z01_032  none   none    factor         0.001  \\\n",
       "hk_l05_z01_119  hk_l05_z01_119  none   none    factor         0.001   \n",
       "hk_l05_z01_112  hk_l05_z01_112  none   none    factor         0.001   \n",
       "hk_l05_z01_022  hk_l05_z01_022  none   none    factor         0.001   \n",
       "hk_l05_z01_136  hk_l05_z01_136  none   none    factor         0.001   \n",
       "\n",
       "                     parlbnd       parubnd  pargp  scale  offset  dercom  \n",
       "parname                                                                   \n",
       "hk_l05_z01_032  1.000000e-10  1.000000e+10  hk_pp      1       0       1  \n",
       "hk_l05_z01_119  1.000000e-10  1.000000e+10  hk_pp      1       0       1  \n",
       "hk_l05_z01_112  1.000000e-10  1.000000e+10  hk_pp      1       0       1  \n",
       "hk_l05_z01_022  1.000000e-10  1.000000e+10  hk_pp      1       0       1  \n",
       "hk_l05_z01_136  1.000000e-10  1.000000e+10  hk_pp      1       0       1  "
      ]
     },
     "execution_count": 104,
     "metadata": {},
     "output_type": "execute_result"
    }
   ],
   "source": [
    "# -- With `izone`, pilot point data, setting all initial values to 0.001\n",
    "mopt.remove_param(parname='hk')\n",
    "mopt.add_param(parname='hk',\n",
    "               mobj=permh,\n",
    "               izone=ipermh,\n",
    "               pp_data=pp.to_pp_data(),\n",
    "               defaultvalue=1e-3)\n",
    "\n",
    "# -- Show results\n",
    "print('Parameter storage:\\n', mopt.param)\n",
    "print('Parameter data:')\n",
    "mopt.get_param_df().sample(5)"
   ]
  },
  {
   "cell_type": "code",
   "execution_count": 105,
   "id": "bc262504",
   "metadata": {},
   "outputs": [
    {
     "name": "stdout",
     "output_type": "stream",
     "text": [
      "Parameter storage:\n",
      " {'hk': <pymarthe.mparam.MartheGridParam object at 0x000001779BBA6E60>}\n",
      "Parameter data:\n"
     ]
    },
    {
     "name": "stderr",
     "output_type": "stream",
     "text": [
      "C:\\Users\\pierr\\OneDrive\\Documents\\dev\\adeqwat\\examples\\..\\pymarthe\\mparam.py:791: UserWarning: WARNINGS : could not extract field data properly at pilot points coordinates.  for `layer`=4 and `zone`=1. The reason can be the:\n",
      "\t- Absence of spatial index in main model\n",
      "\t- Bad spatial index files creation\n",
      "\t- Presence of corrupted spatial index files\n",
      "\t- Pilot point(s) location outside the current zone\n",
      "The mean field value on this zone will be set as `default_value` instead.\n"
     ]
    },
    {
     "data": {
      "text/html": [
       "<div>\n",
       "<style scoped>\n",
       "    .dataframe tbody tr th:only-of-type {\n",
       "        vertical-align: middle;\n",
       "    }\n",
       "\n",
       "    .dataframe tbody tr th {\n",
       "        vertical-align: top;\n",
       "    }\n",
       "\n",
       "    .dataframe thead th {\n",
       "        text-align: right;\n",
       "    }\n",
       "</style>\n",
       "<table border=\"1\" class=\"dataframe\">\n",
       "  <thead>\n",
       "    <tr style=\"text-align: right;\">\n",
       "      <th></th>\n",
       "      <th>parnme</th>\n",
       "      <th>trans</th>\n",
       "      <th>btrans</th>\n",
       "      <th>parchglim</th>\n",
       "      <th>defaultvalue</th>\n",
       "      <th>parlbnd</th>\n",
       "      <th>parubnd</th>\n",
       "      <th>pargp</th>\n",
       "      <th>scale</th>\n",
       "      <th>offset</th>\n",
       "      <th>dercom</th>\n",
       "    </tr>\n",
       "    <tr>\n",
       "      <th>parname</th>\n",
       "      <th></th>\n",
       "      <th></th>\n",
       "      <th></th>\n",
       "      <th></th>\n",
       "      <th></th>\n",
       "      <th></th>\n",
       "      <th></th>\n",
       "      <th></th>\n",
       "      <th></th>\n",
       "      <th></th>\n",
       "      <th></th>\n",
       "    </tr>\n",
       "  </thead>\n",
       "  <tbody>\n",
       "    <tr>\n",
       "      <th>hk_l05_z01_281</th>\n",
       "      <td>hk_l05_z01_281</td>\n",
       "      <td>none</td>\n",
       "      <td>none</td>\n",
       "      <td>factor</td>\n",
       "      <td>0.010701</td>\n",
       "      <td>1.000000e-09</td>\n",
       "      <td>0.5</td>\n",
       "      <td>hk_pp</td>\n",
       "      <td>1</td>\n",
       "      <td>0</td>\n",
       "      <td>1</td>\n",
       "    </tr>\n",
       "    <tr>\n",
       "      <th>hk_l05_z01_184</th>\n",
       "      <td>hk_l05_z01_184</td>\n",
       "      <td>none</td>\n",
       "      <td>none</td>\n",
       "      <td>factor</td>\n",
       "      <td>0.010701</td>\n",
       "      <td>1.000000e-09</td>\n",
       "      <td>0.5</td>\n",
       "      <td>hk_pp</td>\n",
       "      <td>1</td>\n",
       "      <td>0</td>\n",
       "      <td>1</td>\n",
       "    </tr>\n",
       "    <tr>\n",
       "      <th>hk_l05_z01_303</th>\n",
       "      <td>hk_l05_z01_303</td>\n",
       "      <td>none</td>\n",
       "      <td>none</td>\n",
       "      <td>factor</td>\n",
       "      <td>0.010701</td>\n",
       "      <td>1.000000e-09</td>\n",
       "      <td>0.5</td>\n",
       "      <td>hk_pp</td>\n",
       "      <td>1</td>\n",
       "      <td>0</td>\n",
       "      <td>1</td>\n",
       "    </tr>\n",
       "    <tr>\n",
       "      <th>hk_l05_z01_254</th>\n",
       "      <td>hk_l05_z01_254</td>\n",
       "      <td>none</td>\n",
       "      <td>none</td>\n",
       "      <td>factor</td>\n",
       "      <td>0.010701</td>\n",
       "      <td>1.000000e-09</td>\n",
       "      <td>0.5</td>\n",
       "      <td>hk_pp</td>\n",
       "      <td>1</td>\n",
       "      <td>0</td>\n",
       "      <td>1</td>\n",
       "    </tr>\n",
       "    <tr>\n",
       "      <th>hk_l05_z01_051</th>\n",
       "      <td>hk_l05_z01_051</td>\n",
       "      <td>none</td>\n",
       "      <td>none</td>\n",
       "      <td>factor</td>\n",
       "      <td>0.010701</td>\n",
       "      <td>1.000000e-09</td>\n",
       "      <td>0.5</td>\n",
       "      <td>hk_pp</td>\n",
       "      <td>1</td>\n",
       "      <td>0</td>\n",
       "      <td>1</td>\n",
       "    </tr>\n",
       "  </tbody>\n",
       "</table>\n",
       "</div>"
      ],
      "text/plain": [
       "                        parnme trans btrans parchglim  defaultvalue   \n",
       "parname                                                               \n",
       "hk_l05_z01_281  hk_l05_z01_281  none   none    factor      0.010701  \\\n",
       "hk_l05_z01_184  hk_l05_z01_184  none   none    factor      0.010701   \n",
       "hk_l05_z01_303  hk_l05_z01_303  none   none    factor      0.010701   \n",
       "hk_l05_z01_254  hk_l05_z01_254  none   none    factor      0.010701   \n",
       "hk_l05_z01_051  hk_l05_z01_051  none   none    factor      0.010701   \n",
       "\n",
       "                     parlbnd  parubnd  pargp  scale  offset  dercom  \n",
       "parname                                                              \n",
       "hk_l05_z01_281  1.000000e-09      0.5  hk_pp      1       0       1  \n",
       "hk_l05_z01_184  1.000000e-09      0.5  hk_pp      1       0       1  \n",
       "hk_l05_z01_303  1.000000e-09      0.5  hk_pp      1       0       1  \n",
       "hk_l05_z01_254  1.000000e-09      0.5  hk_pp      1       0       1  \n",
       "hk_l05_z01_051  1.000000e-09      0.5  hk_pp      1       0       1  "
      ]
     },
     "execution_count": 105,
     "metadata": {},
     "output_type": "execute_result"
    }
   ],
   "source": [
    "# -- With `izone`, pilot point data and constrain bounds\n",
    "mopt.remove_param(parname='hk')\n",
    "mopt.add_param(parname='hk',\n",
    "               mobj=permh,\n",
    "               izone=ipermh,\n",
    "               pp_data=pp.to_pp_data(),\n",
    "               parlbnd=1e-9,\n",
    "               parubnd=5e-1)\n",
    "\n",
    "# -- Show results\n",
    "print('Parameter storage:\\n', mopt.param)\n",
    "print('Parameter data:')\n",
    "mopt.get_param_df().sample(5)"
   ]
  },
  {
   "cell_type": "markdown",
   "id": "29b82d8d",
   "metadata": {},
   "source": [
    "<div class=\"alert alert-warning\" role=\"alert\">\n",
    "    <span style=\"color: darkorange; font-size: 16px; font-weight: bold;\">⚠ Warning: </span>\n",
    "    <span style=\"color: darkorange;\"> if the <b>sampling process</b> cannot be performed on all pilot points, then the considered <code>defaultvalue</code> will be set to the <b>mean</b> value of the entire zone.\n",
    "</div>"
   ]
  },
  {
   "cell_type": "markdown",
   "id": "8b43f2eb",
   "metadata": {},
   "source": [
    "### ☛ Apply transformations"
   ]
  },
  {
   "cell_type": "markdown",
   "id": "86a1ccb6",
   "metadata": {},
   "source": [
    "`Martheoptim` instance allows the user to apply **any type of transformation** on parameter data. One of the major advantages of `PyMarthe` about the transformation of parameter values is that all transformations are managed **in** and **by** the library. Thus, all values given to **PEST** will correspond to **pre-transformed** data. This allows **extreme flexibility** in terms of control and **scaling effects**. However, the user must take care to maintain **continuity** in the parameter transformations, that is the reason why, unlike observations, when implementing a transformation it is also necessary to fill in the **inverse trasnformation** (also known as **back-transformation**) in order to modify the model properties only with **untransformed data**!\n",
    "\n",
    "The transformation can be specified:<br>\n",
    "\n",
    "&emsp;&emsp;<span style=\"font-size: 20px\">➀</span> **During** parameter implementation (`trans` & `btrans` arguments)<br>\n",
    "&emsp;&emsp;<span style=\"font-size: 20px\">➁</span> **After** parameter implementation (`.set_param_trans()` method)<br>\n",
    "\n",
    "The transformation to apply **must be valid** otherwise an error will be raised. It can be a:\n",
    "\n",
    "- **Basic `str` function**: _`'log10'`_, _`'sqrt'`_, ...\n",
    "- **Evaluable callable**: _`'lambda x: 10**(x + 1)'`_, _`'lambda x: -x'`_, ..."
   ]
  },
  {
   "cell_type": "code",
   "execution_count": 154,
   "id": "f1fc4faf",
   "metadata": {},
   "outputs": [
    {
     "name": "stdout",
     "output_type": "stream",
     "text": [
      "Parameter data:\n"
     ]
    },
    {
     "name": "stderr",
     "output_type": "stream",
     "text": [
      "C:\\Users\\pierr\\AppData\\Local\\Programs\\Python\\Python310\\lib\\site-packages\\pandas\\core\\arraylike.py:396: RuntimeWarning: invalid value encountered in sqrt\n"
     ]
    },
    {
     "data": {
      "text/html": [
       "<div>\n",
       "<style scoped>\n",
       "    .dataframe tbody tr th:only-of-type {\n",
       "        vertical-align: middle;\n",
       "    }\n",
       "\n",
       "    .dataframe tbody tr th {\n",
       "        vertical-align: top;\n",
       "    }\n",
       "\n",
       "    .dataframe thead th {\n",
       "        text-align: right;\n",
       "    }\n",
       "</style>\n",
       "<table border=\"1\" class=\"dataframe\">\n",
       "  <thead>\n",
       "    <tr style=\"text-align: right;\">\n",
       "      <th></th>\n",
       "      <th>parnme</th>\n",
       "      <th>trans</th>\n",
       "      <th>btrans</th>\n",
       "      <th>parchglim</th>\n",
       "      <th>defaultvalue</th>\n",
       "      <th>parlbnd</th>\n",
       "      <th>parubnd</th>\n",
       "      <th>pargp</th>\n",
       "      <th>scale</th>\n",
       "      <th>offset</th>\n",
       "      <th>dercom</th>\n",
       "    </tr>\n",
       "  </thead>\n",
       "  <tbody>\n",
       "    <tr>\n",
       "      <th>hk_l05_z01_12</th>\n",
       "      <td>hk_l05_z01_12</td>\n",
       "      <td>log10</td>\n",
       "      <td>lambda x: 10**x</td>\n",
       "      <td>factor</td>\n",
       "      <td>-3.0</td>\n",
       "      <td>-1.000000e+01</td>\n",
       "      <td>1.000000e+01</td>\n",
       "      <td>hk_pp</td>\n",
       "      <td>1</td>\n",
       "      <td>0</td>\n",
       "      <td>1</td>\n",
       "    </tr>\n",
       "    <tr>\n",
       "      <th>hk_zpc_l02_z01</th>\n",
       "      <td>hk_zpc_l02_z01</td>\n",
       "      <td>log10</td>\n",
       "      <td>lambda x: 10**x</td>\n",
       "      <td>factor</td>\n",
       "      <td>-3.0</td>\n",
       "      <td>-1.000000e+01</td>\n",
       "      <td>1.000000e+01</td>\n",
       "      <td>hk_zpc</td>\n",
       "      <td>1</td>\n",
       "      <td>0</td>\n",
       "      <td>1</td>\n",
       "    </tr>\n",
       "    <tr>\n",
       "      <th>hk_zpc_l11_z01</th>\n",
       "      <td>hk_zpc_l11_z01</td>\n",
       "      <td>log10</td>\n",
       "      <td>lambda x: 10**x</td>\n",
       "      <td>factor</td>\n",
       "      <td>-3.0</td>\n",
       "      <td>-1.000000e+01</td>\n",
       "      <td>1.000000e+01</td>\n",
       "      <td>hk_zpc</td>\n",
       "      <td>1</td>\n",
       "      <td>0</td>\n",
       "      <td>1</td>\n",
       "    </tr>\n",
       "    <tr>\n",
       "      <th>aqpump_031686__1__11</th>\n",
       "      <td>aqpump_031686__1__11</td>\n",
       "      <td>none</td>\n",
       "      <td>none</td>\n",
       "      <td>factor</td>\n",
       "      <td>-21.9</td>\n",
       "      <td>1.000000e-10</td>\n",
       "      <td>1.000000e+10</td>\n",
       "      <td>aqpump_031686</td>\n",
       "      <td>1</td>\n",
       "      <td>0</td>\n",
       "      <td>1</td>\n",
       "    </tr>\n",
       "    <tr>\n",
       "      <th>aqpump_035533__1__28</th>\n",
       "      <td>aqpump_035533__1__28</td>\n",
       "      <td>sqrt</td>\n",
       "      <td>lambda x: x**2</td>\n",
       "      <td>factor</td>\n",
       "      <td>NaN</td>\n",
       "      <td>1.000000e-05</td>\n",
       "      <td>1.000000e+05</td>\n",
       "      <td>aqpump_035533</td>\n",
       "      <td>1</td>\n",
       "      <td>0</td>\n",
       "      <td>1</td>\n",
       "    </tr>\n",
       "  </tbody>\n",
       "</table>\n",
       "</div>"
      ],
      "text/plain": [
       "                                    parnme  trans           btrans parchglim   \n",
       "hk_l05_z01_12                hk_l05_z01_12  log10  lambda x: 10**x    factor  \\\n",
       "hk_zpc_l02_z01              hk_zpc_l02_z01  log10  lambda x: 10**x    factor   \n",
       "hk_zpc_l11_z01              hk_zpc_l11_z01  log10  lambda x: 10**x    factor   \n",
       "aqpump_031686__1__11  aqpump_031686__1__11   none             none    factor   \n",
       "aqpump_035533__1__28  aqpump_035533__1__28   sqrt   lambda x: x**2    factor   \n",
       "\n",
       "                      defaultvalue       parlbnd       parubnd          pargp   \n",
       "hk_l05_z01_12                 -3.0 -1.000000e+01  1.000000e+01          hk_pp  \\\n",
       "hk_zpc_l02_z01                -3.0 -1.000000e+01  1.000000e+01         hk_zpc   \n",
       "hk_zpc_l11_z01                -3.0 -1.000000e+01  1.000000e+01         hk_zpc   \n",
       "aqpump_031686__1__11         -21.9  1.000000e-10  1.000000e+10  aqpump_031686   \n",
       "aqpump_035533__1__28           NaN  1.000000e-05  1.000000e+05  aqpump_035533   \n",
       "\n",
       "                      scale  offset  dercom  \n",
       "hk_l05_z01_12             1       0       1  \n",
       "hk_zpc_l02_z01            1       0       1  \n",
       "hk_zpc_l11_z01            1       0       1  \n",
       "aqpump_031686__1__11      1       0       1  \n",
       "aqpump_035533__1__28      1       0       1  "
      ]
     },
     "execution_count": 154,
     "metadata": {},
     "output_type": "execute_result"
    }
   ],
   "source": [
    "# -- Adding parameter with log transformations (1)\n",
    "mopt.remove_param(parname='hk')\n",
    "mopt.add_param(parname='hk',\n",
    "               mobj=permh,\n",
    "               izone=ipermh,\n",
    "               pp_data=pp.to_pp_data(),\n",
    "               defaultvalue=1e-3,\n",
    "               trans='log10',                # transformation\n",
    "               btrans='lambda x: 10**x')     # back-transformation\n",
    "\n",
    "# -- Show results\n",
    "print('Parameter data:')\n",
    "mopt.get_param_df(transformed=True).sample(5)"
   ]
  },
  {
   "cell_type": "code",
   "execution_count": 123,
   "id": "e98b25ee",
   "metadata": {},
   "outputs": [],
   "source": [
    "mopt.set_param_trans(trans='sqrt', btrans='lambda x: x**2', parname=['hk_l05_z01_000', 'hk_l05_z01_000'])"
   ]
  },
  {
   "cell_type": "code",
   "execution_count": 131,
   "id": "aca34e84",
   "metadata": {},
   "outputs": [
    {
     "data": {
      "text/html": [
       "<div>\n",
       "<style scoped>\n",
       "    .dataframe tbody tr th:only-of-type {\n",
       "        vertical-align: middle;\n",
       "    }\n",
       "\n",
       "    .dataframe tbody tr th {\n",
       "        vertical-align: top;\n",
       "    }\n",
       "\n",
       "    .dataframe thead th {\n",
       "        text-align: right;\n",
       "    }\n",
       "</style>\n",
       "<table border=\"1\" class=\"dataframe\">\n",
       "  <thead>\n",
       "    <tr style=\"text-align: right;\">\n",
       "      <th></th>\n",
       "      <th>trans</th>\n",
       "      <th>btrans</th>\n",
       "    </tr>\n",
       "    <tr>\n",
       "      <th>pargp</th>\n",
       "      <th></th>\n",
       "      <th></th>\n",
       "    </tr>\n",
       "  </thead>\n",
       "  <tbody>\n",
       "    <tr>\n",
       "      <th>hk_pp</th>\n",
       "      <td>sqrt</td>\n",
       "      <td>lambda x: x**2</td>\n",
       "    </tr>\n",
       "  </tbody>\n",
       "</table>\n",
       "</div>"
      ],
      "text/plain": [
       "      trans          btrans\n",
       "pargp                      \n",
       "hk_pp  sqrt  lambda x: x**2"
      ]
     },
     "execution_count": 131,
     "metadata": {},
     "output_type": "execute_result"
    }
   ],
   "source": [
    "# -- Apply transformation a posteriori (2)\n",
    "mopt.set_param_trans(trans='sqrt', btrans='lambda x: x**2')\n",
    "\n",
    "# -- See results\n",
    "(\n",
    "    mopt\n",
    "    .get_param_df()\n",
    "    .groupby('pargp')\n",
    "    .agg({'trans': 'first', 'btrans': 'first'})\n",
    ")"
   ]
  },
  {
   "cell_type": "markdown",
   "id": "45648bf2",
   "metadata": {},
   "source": [
    "<div class=\"alert alert-danger\" role=\"alert\">\n",
    "    <span style=\"color: red; font-size: 16px; font-weight: bold;\">⛔ CAREFUL: </span>\n",
    "    <span style=\"color: darkred;\"> <code>PyMarthe</code> only accepts <b>ONE transformation / back-transformation per parametrised field</b>.\n",
    "    </span>\n",
    "</div>"
   ]
  },
  {
   "cell_type": "markdown",
   "id": "168d505d",
   "metadata": {},
   "source": [
    "## 👉 Write _par_ / _tpl_ files"
   ]
  },
  {
   "cell_type": "markdown",
   "id": "028a247e",
   "metadata": {},
   "source": [
    "To write basic **parameter** files (_.dat_) and **template** (_.tpl_) files from the `MartheOptim` instance consider using the appropriate writing functions (can be performed for a single, a group or all paramaters). The **default values** of each parameter will be written in a distinct parameter file according to the user transformation."
   ]
  },
  {
   "cell_type": "code",
   "execution_count": 165,
   "id": "3e4f5731",
   "metadata": {},
   "outputs": [],
   "source": [
    "# -- Reset all transformations\n",
    "mopt.set_param_trans('none', 'none')\n",
    "\n",
    "# -- Write all parameter files\n",
    "mopt.write_parfile()\n",
    "\n",
    "# -- Write all template files\n",
    "mopt.write_tplfile()"
   ]
  },
  {
   "cell_type": "markdown",
   "id": "8bdf3139",
   "metadata": {},
   "source": [
    "The output **parameter** files for **pilot points parameters** correspond to a 5 columns _.dat_ file:\n",
    "1. **parameter names**\n",
    "2. **x-coordinates** _(pilot points)_\n",
    "3. **y-coordinates** _(pilot points)_\n",
    "4. **zone ids**\n",
    "5. **parameter values**"
   ]
  },
  {
   "cell_type": "code",
   "execution_count": 166,
   "id": "ded9d6bc",
   "metadata": {},
   "outputs": [
    {
     "name": "stdout",
     "output_type": "stream",
     "text": [
      "hk_l05_z01_00 3.2090000000E+02      2.6560000000E+02      1           1.0000000000E-03     \n",
      "hk_l05_z01_01 3.2090000000E+02      2.8000000000E+02      1           1.0000000000E-03     \n",
      "hk_l05_z01_02 3.2090000000E+02      2.9440000000E+02      1           1.0000000000E-03     \n",
      "hk_l05_z01_03 3.2090000000E+02      3.0880000000E+02      1           1.0000000000E-03     \n",
      "hk_l05_z01_04 3.2090000000E+02      3.2320000000E+02      1           1.0000000000E-03     \n"
     ]
    }
   ],
   "source": [
    "# -- Print par file (pilot point)\n",
    "!head -n 5 'monav3/pest/par/hk_pp_l05_z01.dat'"
   ]
  },
  {
   "cell_type": "code",
   "execution_count": 184,
   "id": "6813334e",
   "metadata": {},
   "outputs": [
    {
     "name": "stdout",
     "output_type": "stream",
     "text": [
      "ptf ~\n",
      "hk_l05_z01_00 3.2090000000E+02      2.6560000000E+02      1            ~hk_l05_z01_00~      \n",
      "hk_l05_z01_01 3.2090000000E+02      2.8000000000E+02      1            ~hk_l05_z01_01~      \n",
      "hk_l05_z01_02 3.2090000000E+02      2.9440000000E+02      1            ~hk_l05_z01_02~      \n",
      "hk_l05_z01_03 3.2090000000E+02      3.0880000000E+02      1            ~hk_l05_z01_03~      \n"
     ]
    }
   ],
   "source": [
    "# -- Print tpl file (pilot point)\n",
    "!head -n 5 'monav3/pest/tpl/hk_pp_l05_z01.tpl'"
   ]
  },
  {
   "cell_type": "markdown",
   "id": "a797b585",
   "metadata": {},
   "source": [
    "The output **parameter** files for **zpc** and all `list-like` **parameters** correspond to a 2 columns _.dat_ file:\n",
    "1. **parameter names**\n",
    "2. **parameter values**"
   ]
  },
  {
   "cell_type": "code",
   "execution_count": 170,
   "id": "2b76d274",
   "metadata": {},
   "outputs": [
    {
     "name": "stdout",
     "output_type": "stream",
     "text": [
      "hk_zpc_l01_z01 1.0000000000E-03     \n",
      "hk_zpc_l02_z01 1.0000000000E-03     \n",
      "hk_zpc_l03_z01 1.0000000000E-03     \n",
      "hk_zpc_l04_z01 1.0000000000E-03     \n",
      "hk_zpc_l06_z01 1.0000000000E-03     \n"
     ]
    }
   ],
   "source": [
    "# -- Print par file (zpc)\n",
    "!head -n 5 'monav3/pest/par/hk_zpc.dat'"
   ]
  },
  {
   "cell_type": "code",
   "execution_count": 185,
   "id": "36b55e50",
   "metadata": {},
   "outputs": [
    {
     "name": "stdout",
     "output_type": "stream",
     "text": [
      "ptf ~\n",
      "hk_zpc_l01_z01  ~hk_zpc_l01_z01~     \n",
      "hk_zpc_l02_z01  ~hk_zpc_l02_z01~     \n",
      "hk_zpc_l03_z01  ~hk_zpc_l03_z01~     \n",
      "hk_zpc_l04_z01  ~hk_zpc_l04_z01~     \n"
     ]
    }
   ],
   "source": [
    "# -- Print tpl file (zpc)\n",
    "!head -n 5 'monav3/pest/tpl/hk_zpc.tpl'"
   ]
  },
  {
   "cell_type": "code",
   "execution_count": 173,
   "id": "0a3bfd16",
   "metadata": {},
   "outputs": [
    {
     "name": "stdout",
     "output_type": "stream",
     "text": [
      " aqpump_031686__1__35  -2.1900000000E+01    \n",
      " aqpump_031686__1__36  -2.1900000000E+01    \n",
      " aqpump_031686__1__37  -2.1900000000E+01    \n",
      " aqpump_031686__1__38  -2.1900000000E+01    \n",
      " aqpump_031686__1__39  -2.1900000000E+01    \n"
     ]
    }
   ],
   "source": [
    "# -- Print created file (aquifer pumping)\n",
    "!tail -n 5 'monav3/pest/par/aqpump_031686.dat'"
   ]
  },
  {
   "cell_type": "code",
   "execution_count": 186,
   "id": "f2e6c97a",
   "metadata": {},
   "outputs": [
    {
     "name": "stdout",
     "output_type": "stream",
     "text": [
      "ptf ~\n",
      " aqpump_031686__1__0    ~aqpump_031686_1_0~  \n",
      " aqpump_031686__1__1    ~aqpump_031686_1_1~  \n",
      " aqpump_031686__1__2    ~aqpump_031686_1_2~  \n",
      " aqpump_031686__1__3    ~aqpump_031686_1_3~  \n"
     ]
    }
   ],
   "source": [
    "# -- Print tpl file (zpc)\n",
    "!head -n 5 'monav3/pest/tpl/aqpump_031686.tpl'"
   ]
  },
  {
   "cell_type": "markdown",
   "id": "926211f4",
   "metadata": {},
   "source": [
    "## 👉 Write kriging factor files"
   ]
  },
  {
   "cell_type": "markdown",
   "id": "9f0abd74",
   "metadata": {},
   "source": [
    "If `izone` contains pilot point zone(s), it's necessary to compute and store **the kriging factors** in order to perform **ordinary kriging** between pilot points and be able to set **interpolated field values** into each required grid cells.\n",
    "To do so, consider using the `.write_kriging_factors()` method. It is a simple wrapper to the `pyemu.utils.geostats.OrdinaryKrige.calc_factors()`. The goal is to write a _PEST-like_ kriging factor files (_.fac_) given the ranges of **exponential variograms** (argument `vgm_range`) for each layer and zone of pilot points."
   ]
  },
  {
   "cell_type": "code",
   "execution_count": 178,
   "id": "0422cb1a",
   "metadata": {},
   "outputs": [
    {
     "name": "stdout",
     "output_type": "stream",
     "text": [
      "starting interp point loop for 3899 points\n",
      "starting 0\n",
      "starting 1\n",
      "starting 2\n",
      "starting 3\n",
      "took 11.515228 seconds\n",
      "OrdinaryKrige.to_grid_factors_file(): spatial_reference attr is None, assuming unstructured grid\n"
     ]
    }
   ],
   "source": [
    "# Valid range input\n",
    "mopt.write_kriging_factors(vgm_range=pp.extract_vgm_range(factor=2), parname='hk')"
   ]
  },
  {
   "cell_type": "markdown",
   "id": "3e0f7826",
   "metadata": {},
   "source": [
    "<div class=\"alert alert-info\" role=\"alert\">\n",
    "    <span style=\"color: blue; font-size: 16px; font-weight: bold;\">✔ NOTE: </span>\n",
    "    <span style=\"color: darkblue;\"> setting <code>save_cov=True</code> will automatically save the computed <b>covariance matrix</b> as binary file (readable with <code>pyemu.Cov</code>).\n",
    "</div>"
   ]
  },
  {
   "cell_type": "code",
   "execution_count": 183,
   "id": "32def554",
   "metadata": {},
   "outputs": [
    {
     "name": "stdout",
     "output_type": "stream",
     "text": [
      "points.junk\n",
      "zone.junk\n",
      "3899 1\n",
      "75\n",
      "hk_l05_z01_00\n",
      "hk_l05_z01_01\n",
      "hk_l05_z01_02\n",
      "hk_l05_z01_03\n",
      "hk_l05_z01_04\n",
      "hk_l05_z01_05\n",
      "3895 0 13 0.00000e+00 42   0.69987195 43  0.092026316 50   0.15797269 27 0.0023609058 57 0.0041937961 45 0.00014356825 29 0.0014258691 64  0.017132984 17 0.0074376344 58 0.0014971736 18 0.0018826687 19 0.0063994968 46 0.0076549548 \n",
      "3896 0 12 0.00000e+00 42   0.61229796 43  0.092159811 50   0.22003402 27 0.0039501438 57 0.0074804675 45 0.00041652736 29 0.0059219068 64  0.022558447 17  0.010681321 18 0.0064454291 65 0.0070755941 46  0.010978377 \n",
      "3897 0 12 0.00000e+00 42   0.53569313 50   0.27652859 43  0.083237847 57  0.012301112 27 0.0054750868 45 0.0046260832 64  0.030719778 29 0.0082385565 17  0.013688506 18 0.0083497381 65 0.0083463465 53  0.012795233 \n",
      "3898 0 12 0.00000e+00 42   0.47165586 50   0.32672984 43  0.069309007 57  0.018513062 27 0.0068184053 64  0.039654116 45  0.005661577 29 0.0099942022 65 0.0097094883 17  0.016451123 18  0.010113973 53  0.015389345 \n",
      "3899 0 12 0.00000e+00 42    0.4169006 50   0.36780042 43  0.053008307 57  0.026471764 64   0.04973686 27 0.0080232013 45 0.0066785155 29  0.011696493 65  0.010858543 17  0.019081509 53  0.017892206 18   0.01185159 \n"
     ]
    }
   ],
   "source": [
    "# -- Print fac file (pilot point)\n",
    "!head -n 10 'monav3/pest/par/hk_pp_l05_z01.fac'\n",
    "!tail -n 5 'monav3/pest/par/hk_pp_l05_z01.fac'"
   ]
  },
  {
   "cell_type": "markdown",
   "id": "d5f41618",
   "metadata": {},
   "source": [
    "# 🎇 **`PEST` interfacing** 🎇"
   ]
  },
  {
   "cell_type": "markdown",
   "id": "023c2e28",
   "metadata": {},
   "source": [
    "Once we have transformed the **model properties** into **parameters** and written the related **PEST** files, we need to save the **current parameterisation**, generate the model **launch script** and **algorithm control** files to finally start the calibration / optimisation process.<br>\n",
    "\n",
    "Let's build a reduced example of parametrisation setup."
   ]
  },
  {
   "cell_type": "code",
   "execution_count": 5,
   "id": "41d0c28c",
   "metadata": {},
   "outputs": [
    {
     "name": "stderr",
     "output_type": "stream",
     "text": [
      "C:\\Users\\pierr\\OneDrive\\Documents\\dev\\adeqwat\\examples\\..\\pymarthe\\utils\\shp_utils.py:96: RuntimeWarning: invalid value encountered in divide\n",
      "C:\\Users\\pierr\\OneDrive\\Documents\\dev\\adeqwat\\examples\\..\\pymarthe\\utils\\shp_utils.py:96: RuntimeWarning: divide by zero encountered in divide\n"
     ]
    },
    {
     "name": "stdout",
     "output_type": "stream",
     "text": [
      "starting interp point loop for 3899 points\n",
      "starting 0\n",
      "starting 1\n",
      "starting 2\n",
      "starting 3\n",
      "took 9.646379 seconds\n",
      "OrdinaryKrige.to_grid_factors_file(): spatial_reference attr is None, assuming unstructured grid\n"
     ]
    }
   ],
   "source": [
    "# -- 1) Build MartheOptim object\n",
    "mopt = MartheOptim(mm, name='opti_mona', **pest_dirs)\n",
    "\n",
    "# -- 2) Implement observation data\n",
    "ext_file = os.path.join(mm.mldir, 'obs', '07065X0002.dat')\n",
    "mopt.add_obs(data=ext_file, datatype='head')\n",
    "\n",
    "# -- 3) Add fluctuations\n",
    "mopt.add_fluc(locnme='07065X0002', tag='mn', on='mean')\n",
    "\n",
    "# -- 4) Add list-like parameter\n",
    "mm.load_prop('aqpump', verbose=False)\n",
    "kmi = pest_utils.get_kmi(mobj=mm.prop['aqpump'], keys=['boundname', 'layer', 'istep'], boundname='aqpump_035533', layer=1)\n",
    "mopt.add_param(parname='aqpump_035533', mobj=mm.prop['aqpump'], kmi=kmi, defaultvalue=-35)\n",
    "\n",
    "# -- 5) Add grid-like parameter\n",
    "ipermh = MartheField('ipermh', -1, mm, use_imask=True)       # build basic izone (zpc on all layer)\n",
    "ipermh.set_data(1, layer=4)                                  # enable pilot points parametrisation on layer 4\n",
    "pp = PilotPoints(izone=ipermh)                               # initialize pilot point manager\n",
    "pp.add_spacing_pp(layer=4, zone=1, xspacing=13, yspacing=10) # seed pilot points from xy-spacing\n",
    "mopt.add_param(parname='hk', mobj=mm.prop['permh'], izone=ipermh,\n",
    "               pp_data=pp.to_pp_data(), defaultvalue=1e-3,\n",
    "               trans='log10', btrans='lambda x: 10**x')      # add parameterised permeability      \n",
    "\n",
    "# -- 6) Write files\n",
    "mopt.write_insfile()\n",
    "mopt.write_simfile()\n",
    "mopt.write_parfile()\n",
    "mopt.write_tplfile()\n",
    "mopt.write_kriging_factors(vgm_range=pp.extract_vgm_range(factor=2))"
   ]
  },
  {
   "cell_type": "markdown",
   "id": "c5b93d9b",
   "metadata": {},
   "source": [
    "## 👉 Configuration"
   ]
  },
  {
   "cell_type": "markdown",
   "id": "fbb44e16",
   "metadata": {},
   "source": [
    "`MartheOptim` can easily generate and write a text file containing all the necessary information about the **current parametrisation**. This external text file, _.config_, will be used during the **forward run** process by instantialized a `MartheModel` instance **transforming back** the parameters into model properties (with _changed_/_optimized values_). \n",
    "The configuration file **keep only** the essential informations, it is organised into 3 distinct parts:<br>\n",
    "\n",
    "&emsp;&emsp;➼<b>Title</b> : file title with creation timestamp<br>\n",
    "&emsp;&emsp;➼<b>Headers</b> : general informations about parametrisation (<i>model paths</i>, <i>spatial index</i>, <i>number of observation sets</i>, <i>number of parmeter sets</i>, ...)<br>\n",
    "&emsp;&emsp;➼<b>Observation sections</b> : blocks of informations about observation data. Each block is delimited by a:<br>\n",
    "&emsp;&emsp;&emsp;&emsp;&emsp;&emsp;&emsp;&emsp;&emsp;&emsp;&emsp;&emsp;&emsp;&emsp;➢ _**start tag**_ : `[START_OBS]`<br>\n",
    "&emsp;&emsp;&emsp;&emsp;&emsp;&emsp;&emsp;&emsp;&emsp;&emsp;&emsp;&emsp;&emsp;&emsp;➢ _**end tag**_ : `[END_OBS]`<br>\n",
    "&emsp;&emsp;➼<b>Parameter sections</b> : blocks of informations about parameter data. Each block is delimited by a:<br>\n",
    "&emsp;&emsp;&emsp;&emsp;&emsp;&emsp;&emsp;&emsp;&emsp;&emsp;&emsp;&emsp;&emsp;&emsp;➢ _**start tag**_ : `[START_PARAM]`<br>\n",
    "&emsp;&emsp;&emsp;&emsp;&emsp;&emsp;&emsp;&emsp;&emsp;&emsp;&emsp;&emsp;&emsp;&emsp;➢ _**end tag**_ : `[END_PARAM]`<br>\n",
    "\n",
    "<p align=\"left\">\n",
    "  <img \n",
    "  src=\"../assets/configfile_concept.png\"\n",
    "  alt=\"configfile_concept\" \n",
    "  width=\"615\"\n",
    "  height=\"500\"\n",
    "  >\n",
    "</p>\n"
   ]
  },
  {
   "cell_type": "code",
   "execution_count": 6,
   "id": "03bee831",
   "metadata": {},
   "outputs": [
    {
     "name": "stdout",
     "output_type": "stream",
     "text": [
      "MARTHE OPTIMIZATION CONFIGURATION FILE (08/07/2023 13:43:19)\n",
      "\n",
      "***\n",
      "Model name: mona\n",
      "Model full path: monav3\\mona.rma\n",
      "Model spatial index: monav3\\mona_si\n",
      "Number of parameters: 187\n",
      "Number of parameters blocks: 2\n",
      "Number of observation data types: 2\n",
      "Number of observation blocks: 2\n",
      "Number of observations: 80\n",
      "Number of not null observations: 80\n",
      "Parameter files directory: monav3\\pest\\par\n",
      "Parameter templates directory: monav3\\pest\\tpl\n",
      "Observation files directory: .\n",
      "Simulation files directory: monav3\\pest\\sim\n",
      "***\n",
      "\n",
      "[START_PARAM]\n",
      "parname= aqpump_035533\n",
      "type= list\n",
      "class= MarthePump\n",
      "property name= aqpump\n",
      "keys= boundname,layer,istep\n",
      "value_col= value\n",
      "trans= none\n",
      "btrans= none\n",
      "parfile= monav3\\pest\\par\\aqpump_035533.dat\n",
      "[END_PARAM]\n",
      "\n"
     ]
    }
   ],
   "source": [
    "# -- Save/write parametrisation configuration\n",
    "configfile = os.path.join(mm.mldir, 'opti_mona.config')\n",
    "mopt.write_config(configfile)\n",
    "\n",
    "# -- See results\n",
    "!head monav3/opti_mona.config -n 30"
   ]
  },
  {
   "cell_type": "markdown",
   "id": "eb12584a",
   "metadata": {},
   "source": [
    "The main advantage of saving the parameter configuration is that the user can load a `MartheModel` instance from it. In other words, it will load the parametrised properties of a **Marthe** model and **set data from parameter files**.\n",
    "As a example, the user can mimic the **PEST** algorithm behaviour and change some values in a given parameter file and check _a posteriori_ the related model property values after loading the model with the specific **class method** `MartheModel.from_config()`."
   ]
  },
  {
   "cell_type": "code",
   "execution_count": 214,
   "id": "2701a141",
   "metadata": {},
   "outputs": [
    {
     "name": "stderr",
     "output_type": "stream",
     "text": [
      "C:\\Users\\pierr\\OneDrive\\Documents\\dev\\adeqwat\\examples\\..\\pymarthe\\mpump.py:88: UserWarning: Pumping condition applied on inactive cell : Node = 26813, Layer = 1, Nested = 0, Row = 53, Column = 25 .\n",
      "C:\\Users\\pierr\\OneDrive\\Documents\\dev\\adeqwat\\examples\\..\\pymarthe\\mpump.py:88: UserWarning: Pumping condition applied on inactive cell : Node = 105550, Layer = 5, Nested = 0, Row = 73, Column = 26 .\n",
      "C:\\Users\\pierr\\OneDrive\\Documents\\dev\\adeqwat\\examples\\..\\pymarthe\\mpump.py:88: UserWarning: Pumping condition applied on inactive cell : Node = 4911, Layer = 0, Nested = 0, Row = 33, Column = 27 .\n",
      "C:\\Users\\pierr\\OneDrive\\Documents\\dev\\adeqwat\\examples\\..\\pymarthe\\mpump.py:88: UserWarning: Pumping condition applied on inactive cell : Node = 105551, Layer = 5, Nested = 0, Row = 73, Column = 27 .\n",
      "C:\\Users\\pierr\\OneDrive\\Documents\\dev\\adeqwat\\examples\\..\\pymarthe\\mpump.py:88: UserWarning: Pumping condition applied on inactive cell : Node = 27114, Layer = 1, Nested = 0, Row = 55, Column = 30 .\n",
      "C:\\Users\\pierr\\OneDrive\\Documents\\dev\\adeqwat\\examples\\..\\pymarthe\\mpump.py:88: UserWarning: Pumping condition applied on inactive cell : Node = 6099, Layer = 0, Nested = 0, Row = 41, Column = 31 .\n",
      "C:\\Users\\pierr\\OneDrive\\Documents\\dev\\adeqwat\\examples\\..\\pymarthe\\mpump.py:88: UserWarning: Pumping condition applied on inactive cell : Node = 6247, Layer = 0, Nested = 0, Row = 42, Column = 31 .\n",
      "C:\\Users\\pierr\\OneDrive\\Documents\\dev\\adeqwat\\examples\\..\\pymarthe\\mpump.py:88: UserWarning: Pumping condition applied on inactive cell : Node = 6395, Layer = 0, Nested = 0, Row = 43, Column = 31 .\n",
      "C:\\Users\\pierr\\OneDrive\\Documents\\dev\\adeqwat\\examples\\..\\pymarthe\\mpump.py:88: UserWarning: Pumping condition applied on inactive cell : Node = 6840, Layer = 0, Nested = 0, Row = 46, Column = 32 .\n",
      "C:\\Users\\pierr\\OneDrive\\Documents\\dev\\adeqwat\\examples\\..\\pymarthe\\mpump.py:88: UserWarning: Pumping condition applied on inactive cell : Node = 28304, Layer = 1, Nested = 0, Row = 63, Column = 36 .\n",
      "C:\\Users\\pierr\\OneDrive\\Documents\\dev\\adeqwat\\examples\\..\\pymarthe\\mpump.py:88: UserWarning: Pumping condition applied on inactive cell : Node = 29933, Layer = 1, Nested = 0, Row = 74, Column = 37 .\n",
      "C:\\Users\\pierr\\OneDrive\\Documents\\dev\\adeqwat\\examples\\..\\pymarthe\\mpump.py:88: UserWarning: Pumping condition applied on inactive cell : Node = 144338, Layer = 7, Nested = 0, Row = 79, Column = 38 .\n",
      "C:\\Users\\pierr\\OneDrive\\Documents\\dev\\adeqwat\\examples\\..\\pymarthe\\mpump.py:88: UserWarning: Pumping condition applied on inactive cell : Node = 28603, Layer = 1, Nested = 0, Row = 65, Column = 39 .\n",
      "C:\\Users\\pierr\\OneDrive\\Documents\\dev\\adeqwat\\examples\\..\\pymarthe\\mpump.py:88: UserWarning: Pumping condition applied on inactive cell : Node = 80996, Layer = 4, Nested = 0, Row = 35, Column = 40 .\n",
      "C:\\Users\\pierr\\OneDrive\\Documents\\dev\\adeqwat\\examples\\..\\pymarthe\\mpump.py:88: UserWarning: Pumping condition applied on inactive cell : Node = 10844, Layer = 0, Nested = 0, Row = 73, Column = 40 .\n",
      "C:\\Users\\pierr\\OneDrive\\Documents\\dev\\adeqwat\\examples\\..\\pymarthe\\mpump.py:88: UserWarning: Pumping condition applied on inactive cell : Node = 29495, Layer = 1, Nested = 0, Row = 71, Column = 43 .\n",
      "C:\\Users\\pierr\\OneDrive\\Documents\\dev\\adeqwat\\examples\\..\\pymarthe\\mpump.py:88: UserWarning: Pumping condition applied on inactive cell : Node = 10108, Layer = 0, Nested = 0, Row = 68, Column = 44 .\n",
      "C:\\Users\\pierr\\OneDrive\\Documents\\dev\\adeqwat\\examples\\..\\pymarthe\\mpump.py:88: UserWarning: Pumping condition applied on inactive cell : Node = 11001, Layer = 0, Nested = 0, Row = 74, Column = 49 .\n",
      "C:\\Users\\pierr\\OneDrive\\Documents\\dev\\adeqwat\\examples\\..\\pymarthe\\mpump.py:88: UserWarning: Pumping condition applied on inactive cell : Node = 11149, Layer = 0, Nested = 0, Row = 75, Column = 49 .\n",
      "C:\\Users\\pierr\\OneDrive\\Documents\\dev\\adeqwat\\examples\\..\\pymarthe\\mpump.py:88: UserWarning: Pumping condition applied on inactive cell : Node = 13075, Layer = 0, Nested = 0, Row = 88, Column = 51 .\n",
      "C:\\Users\\pierr\\OneDrive\\Documents\\dev\\adeqwat\\examples\\..\\pymarthe\\mpump.py:88: UserWarning: Pumping condition applied on inactive cell : Node = 35282, Layer = 1, Nested = 0, Row = 110, Column = 58 .\n",
      "C:\\Users\\pierr\\OneDrive\\Documents\\dev\\adeqwat\\examples\\..\\pymarthe\\mpump.py:88: UserWarning: Pumping condition applied on inactive cell : Node = 82939, Layer = 4, Nested = 0, Row = 48, Column = 59 .\n",
      "C:\\Users\\pierr\\OneDrive\\Documents\\dev\\adeqwat\\examples\\..\\pymarthe\\mpump.py:88: UserWarning: Pumping condition applied on inactive cell : Node = 101883, Layer = 5, Nested = 0, Row = 48, Column = 59 .\n",
      "C:\\Users\\pierr\\OneDrive\\Documents\\dev\\adeqwat\\examples\\..\\pymarthe\\mpump.py:88: UserWarning: Pumping condition applied on inactive cell : Node = 83384, Layer = 4, Nested = 0, Row = 51, Column = 60 .\n",
      "C:\\Users\\pierr\\OneDrive\\Documents\\dev\\adeqwat\\examples\\..\\pymarthe\\mpump.py:88: UserWarning: Pumping condition applied on inactive cell : Node = 11756, Layer = 0, Nested = 0, Row = 79, Column = 64 .\n",
      "C:\\Users\\pierr\\OneDrive\\Documents\\dev\\adeqwat\\examples\\..\\pymarthe\\mpump.py:88: UserWarning: Pumping condition applied on inactive cell : Node = 127947, Layer = 6, Nested = 0, Row = 96, Column = 75 .\n",
      "C:\\Users\\pierr\\OneDrive\\Documents\\dev\\adeqwat\\examples\\..\\pymarthe\\mpump.py:88: UserWarning: Pumping condition applied on inactive cell : Node = 161134, Layer = 8, Nested = 0, Row = 64, Column = 110 .\n",
      "C:\\Users\\pierr\\AppData\\Local\\Programs\\Python\\Python310\\lib\\site-packages\\pyemu\\utils\\geostats.py:2385: RuntimeWarning: invalid value encountered in log10\n"
     ]
    },
    {
     "data": {
      "text/plain": [
       "{'permh': <pymarthe.mfield.MartheField at 0x1779d70f550>,\n",
       " 'aqpump': <pymarthe.mpump.MarthePump at 0x177be077fd0>}"
      ]
     },
     "execution_count": 214,
     "metadata": {},
     "output_type": "execute_result"
    }
   ],
   "source": [
    "# -- Let's retrieve a MartheModel instance from generated config file\n",
    "mm_from_config = MartheModel.from_config(configfile)\n",
    "\n",
    "# -- See loaded properties\n",
    "mm_from_config.prop"
   ]
  },
  {
   "cell_type": "markdown",
   "id": "fd1a900d",
   "metadata": {},
   "source": [
    "As expected the `mm_from_config` object already contains the model properties that had been parametrised earlier (with `defaultvalue`)."
   ]
  },
  {
   "cell_type": "code",
   "execution_count": 211,
   "id": "c1576325",
   "metadata": {},
   "outputs": [
    {
     "data": {
      "text/plain": [
       "array([0.001])"
      ]
     },
     "execution_count": 211,
     "metadata": {},
     "output_type": "execute_result"
    }
   ],
   "source": [
    "# -- Check permh layer 1 unique values (must be [0.001] = set default value)\n",
    "np.unique(mm_from_config.prop['permh'].get_data(layer=1, masked_values=[0])['value'])"
   ]
  },
  {
   "cell_type": "code",
   "execution_count": 215,
   "id": "80a189a8",
   "metadata": {},
   "outputs": [
    {
     "data": {
      "text/plain": [
       "array([-35.])"
      ]
     },
     "execution_count": 215,
     "metadata": {},
     "output_type": "execute_result"
    }
   ],
   "source": [
    "# -- Check aquifer pumping value (must be [-35])\n",
    "np.unique(mm_from_config.prop['aqpump'].get_data(boundname='aqpump_035533', layer=1)['value'])"
   ]
  },
  {
   "cell_type": "markdown",
   "id": "15df1190",
   "metadata": {},
   "source": [
    "## 👉 Forward run"
   ]
  },
  {
   "cell_type": "markdown",
   "id": "08160d86",
   "metadata": {},
   "source": [
    "During calibration or optimization, the **PEST** algorithms will run the **Marthe** model several times in order to assess the _observed_ / _simulated_ **residuals** for a given set of parameters. In general, the modeler should provides the **command** or **script** required to run the model. It turns out that `MartheOptim` is equiped with a wonderful internal method for generating model run scripts (**forward run**). It will implicitly uses the `pest_utils.run_from_config()` function to build `MartheModel` instance from configuration file and automatically run it!<br>\n",
    "\n",
    "Let's dig deeper into it and try to write a **forward run script**."
   ]
  },
  {
   "cell_type": "code",
   "execution_count": 236,
   "id": "1b09d7c9",
   "metadata": {},
   "outputs": [
    {
     "name": "stdout",
     "output_type": "stream",
     "text": [
      "\n",
      "# -- Import basic python modules\n",
      "import os\n",
      "import pyemu\n",
      "import multiprocessing as mp\n",
      "import numpy as np\n",
      "import pandas as pd\n",
      "import pymarthe\n",
      "\n",
      "\n",
      "\n",
      "def main():\n",
      "\t# -- Run model from .config file\n",
      "\tpymarthe.utils.pest_utils.run_from_config(\"monav3\\opti_mona.config\", exe_name=\"Marth_R8\")\n",
      "\t# -- Run extra functions\n",
      "\n",
      "\n",
      "# -- Launch forward run\n",
      "if __name__ == '__main__':\n",
      "\tmp.freeze_support()\n",
      "\tmain()\n",
      "\n"
     ]
    }
   ],
   "source": [
    "# -- Write standard forward run file\n",
    "fr_file = os.path.join(mm.mldir, 'forward_run.py')\n",
    "mopt.write_forward_run(fr_file=fr_file, configfile=configfile, exe_name='Marth_R8')\n",
    "\n",
    "# -- See created python script\n",
    "!tail -n +11 monav3/forward_run.py"
   ]
  },
  {
   "cell_type": "markdown",
   "id": "7fab4acb",
   "metadata": {},
   "source": [
    "The user can also provides other (_extra_) **post-processing functions** to run after (re)running the model. It make the feature much more **flexible**! Let's try it out."
   ]
  },
  {
   "cell_type": "code",
   "execution_count": 238,
   "id": "67c0cea8",
   "metadata": {},
   "outputs": [
    {
     "name": "stdout",
     "output_type": "stream",
     "text": [
      "\n",
      "# -- Import basic python modules\n",
      "import os\n",
      "import pyemu\n",
      "import multiprocessing as mp\n",
      "import numpy as np\n",
      "import pandas as pd\n",
      "import pymarthe\n",
      "\n",
      "# -- Import extra python modules\n",
      "import glob\n",
      "\n",
      "# -- Extra function nÂ°1\n",
      "def foo():\n",
      "    s = 'get upper case'\n",
      "    return s.upper()\n",
      "\n",
      "# -- Extra function nÂ°2\n",
      "def bar():\n",
      "    return glob.glob('.')\n",
      "\n",
      "# -- Extra function nÂ°3\n",
      "def get_local_object():\n",
      "    if 'something' in locals():\n",
      "        return locals()['something']\n",
      "    else:\n",
      "        raise ValueError('Nothing.')\n",
      "\n",
      "\n",
      "def main():\n",
      "\t# -- Run model from .config file\n",
      "\tpymarthe.utils.pest_utils.run_from_config(\"monav3\\opti_mona.config\", exe_name=\"Marth_R8\")\n",
      "\t# -- Run extra functions\n",
      "\tfoo()\n",
      "\tbar()\n",
      "\tget_local_object()\n",
      "\n",
      "\n",
      "# -- Launch forward run\n",
      "if __name__ == '__main__':\n",
      "\tmp.freeze_support()\n",
      "\tmain()\n",
      "\n"
     ]
    }
   ],
   "source": [
    "# -- Write forward run with extra basics functions\n",
    "def foo():\n",
    "    s = 'get upper case'\n",
    "    return s.upper()\n",
    "\n",
    "def bar():\n",
    "    return glob.glob('.')\n",
    "\n",
    "def get_local_object():\n",
    "    if 'something' in locals():\n",
    "        return locals()['something']\n",
    "    else:\n",
    "        raise ValueError('Nothing.')\n",
    "        \n",
    "# -- Rewrite forward run\n",
    "mopt.write_forward_run(fr_file, configfile,\n",
    "                       extra_py_imports='glob',                       # additional python package to import\n",
    "                       extra_functions=[foo, bar, get_local_object],  # additional python functions to run\n",
    "                       exe_name='Marth_R8')\n",
    "\n",
    "# -- See created python script\n",
    "!tail -n +11 monav3/forward_run.py"
   ]
  },
  {
   "cell_type": "markdown",
   "id": "c345c940",
   "metadata": {},
   "source": [
    "## 👉 PEST control"
   ]
  },
  {
   "cell_type": "markdown",
   "id": "27b3bb8d",
   "metadata": {},
   "source": [
    "**PEST** algorithms (`pestpp-glm`, `pestpp-ies`, `pestpp-cmaes`, `pestpp-opt`, ...) are manage from a specific file to control each options for a given _calibration_ / _optimisation_: the Pest Control File (_.pst_). The `pyemu` librairy is a wonderfull python _wrapper_ to build a custom **pst** easily. `MartheOptim` instance has a specific method named `.build_pst()` that use the `pyemu.Pst.from_io_files()` to collect all **PEST** files previously written to generate a basic `Pst` instance.<br>\n",
    "\n",
    "To enable basic **config**, **forward run** and **pst** writting make sure to set the integrated arguments, respectivly, `write_config`, `write_fr` and `write_pst` to `True`."
   ]
  },
  {
   "cell_type": "code",
   "execution_count": 7,
   "id": "d175bc32",
   "metadata": {},
   "outputs": [
    {
     "name": "stdout",
     "output_type": "stream",
     "text": [
      "noptmax:30, npar_adj:187, nnz_obs:80\n"
     ]
    },
    {
     "name": "stderr",
     "output_type": "stream",
     "text": [
      "C:\\Users\\pierr\\AppData\\Local\\Programs\\Python\\Python310\\lib\\site-packages\\pyemu\\pst\\pst_handler.py:1325: FutureWarning: The frame.append method is deprecated and will be removed from pandas in a future version. Use pandas.concat instead.\n",
      "C:\\Users\\pierr\\AppData\\Local\\Programs\\Python\\Python310\\lib\\site-packages\\pyemu\\pst\\pst_handler.py:1325: FutureWarning: The frame.append method is deprecated and will be removed from pandas in a future version. Use pandas.concat instead.\n",
      "C:\\Users\\pierr\\AppData\\Local\\Programs\\Python\\Python310\\lib\\site-packages\\pyemu\\pst\\pst_handler.py:1325: FutureWarning: The frame.append method is deprecated and will be removed from pandas in a future version. Use pandas.concat instead.\n"
     ]
    }
   ],
   "source": [
    "# -- Build Pst\n",
    "pst = mopt.build_pst()\n",
    "\n",
    "# -- Build Pst and write generic files\n",
    "pst = mopt.build_pst(write_pst=True, write_config=True, write_fr=True)"
   ]
  },
  {
   "cell_type": "markdown",
   "id": "10e58e37",
   "metadata": {},
   "source": [
    "<div class=\"alert alert-info\" role=\"alert\">\n",
    "    <span style=\"color: blue; font-size: 16px; font-weight: bold;\">✔ NOTE: </span>\n",
    "    <span style=\"color: darkblue;\"> The <code>.build_pst()</code> method always return a <code>pyemu.Pst</code> instance even if the user set <code>write_pst=True</code>. The generated <code>Pst</code> instance can of course <b>be modified</b> and re-written afterward.\n",
    "    </span>\n",
    "</div>"
   ]
  },
  {
   "cell_type": "markdown",
   "id": "0660e302",
   "metadata": {},
   "source": [
    "Passing `add_reg0=True` will add a **0-order Tikhonov regularization** based on **parameter groups** to the current parametrisation. Moreover, it is possible to provide basic _control_ and _regularisation_ `**kwargs` directly such as `noptmax`, `phimlim`, `phimaccept`, ..."
   ]
  },
  {
   "cell_type": "code",
   "execution_count": 8,
   "id": "889b8dbd",
   "metadata": {},
   "outputs": [
    {
     "name": "stdout",
     "output_type": "stream",
     "text": [
      "noptmax:0, npar_adj:187, nnz_obs:80\n"
     ]
    },
    {
     "name": "stderr",
     "output_type": "stream",
     "text": [
      "C:\\Users\\pierr\\AppData\\Local\\Programs\\Python\\Python310\\lib\\site-packages\\pyemu\\pst\\pst_handler.py:1325: FutureWarning: The frame.append method is deprecated and will be removed from pandas in a future version. Use pandas.concat instead.\n",
      "C:\\Users\\pierr\\AppData\\Local\\Programs\\Python\\Python310\\lib\\site-packages\\pyemu\\pst\\pst_handler.py:1325: FutureWarning: The frame.append method is deprecated and will be removed from pandas in a future version. Use pandas.concat instead.\n",
      "C:\\Users\\pierr\\AppData\\Local\\Programs\\Python\\Python310\\lib\\site-packages\\pyemu\\pst\\pst_handler.py:1325: FutureWarning: The frame.append method is deprecated and will be removed from pandas in a future version. Use pandas.concat instead.\n"
     ]
    }
   ],
   "source": [
    "# -- Build Pst with regularization \n",
    "pst = mopt.build_pst(add_reg0=True,\n",
    "                     write_pst=True,\n",
    "                     write_config=True,\n",
    "                     write_fr=True,\n",
    "                     noptmax=0,\n",
    "                     phimlim=5,\n",
    "                     phimaccept=10,\n",
    "                     fracphim=0.05)"
   ]
  },
  {
   "cell_type": "code",
   "execution_count": null,
   "id": "8a1c7a99",
   "metadata": {},
   "outputs": [],
   "source": []
  }
 ],
 "metadata": {
  "kernelspec": {
   "display_name": "Python 3 (ipykernel)",
   "language": "python",
   "name": "python3"
  },
  "language_info": {
   "codemirror_mode": {
    "name": "ipython",
    "version": 3
   },
   "file_extension": ".py",
   "mimetype": "text/x-python",
   "name": "python",
   "nbconvert_exporter": "python",
   "pygments_lexer": "ipython3",
   "version": "3.10.8"
  },
  "toc": {
   "base_numbering": 1,
   "nav_menu": {},
   "number_sections": true,
   "sideBar": true,
   "skip_h1_title": false,
   "title_cell": "Table of Contents",
   "title_sidebar": "Contents",
   "toc_cell": false,
   "toc_position": {
    "height": "calc(100% - 180px)",
    "left": "10px",
    "top": "150px",
    "width": "322.315px"
   },
   "toc_section_display": true,
   "toc_window_display": true
  },
  "varInspector": {
   "cols": {
    "lenName": 16,
    "lenType": 16,
    "lenVar": 40
   },
   "kernels_config": {
    "python": {
     "delete_cmd_postfix": "",
     "delete_cmd_prefix": "del ",
     "library": "var_list.py",
     "varRefreshCmd": "print(var_dic_list())"
    },
    "r": {
     "delete_cmd_postfix": ") ",
     "delete_cmd_prefix": "rm(",
     "library": "var_list.r",
     "varRefreshCmd": "cat(var_dic_list()) "
    }
   },
   "types_to_exclude": [
    "module",
    "function",
    "builtin_function_or_method",
    "instance",
    "_Feature"
   ],
   "window_display": false
  }
 },
 "nbformat": 4,
 "nbformat_minor": 5
}
